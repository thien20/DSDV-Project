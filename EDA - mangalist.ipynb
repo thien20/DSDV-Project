{
 "cells": [
  {
   "cell_type": "code",
   "execution_count": 229,
   "id": "367d6bc2",
   "metadata": {},
   "outputs": [],
   "source": [
    "import pandas as pd\n",
    "import numpy as np\n",
    "import matplotlib.pyplot as plt\n",
    "import plotly.graph_objects as go\n",
    "import seaborn as sns\n",
    "import plotly.express as px"
   ]
  },
  {
   "cell_type": "code",
   "execution_count": 2,
   "id": "78322322",
   "metadata": {},
   "outputs": [],
   "source": [
    "df = pd.read_json('/Users/thienhtt20/PycharmProjects/anime-scrapy/anime-list1.json')"
   ]
  },
  {
   "cell_type": "code",
   "execution_count": 3,
   "id": "20d627a2",
   "metadata": {
    "collapsed": true
   },
   "outputs": [
    {
     "data": {
      "text/html": [
       "<div>\n",
       "<style scoped>\n",
       "    .dataframe tbody tr th:only-of-type {\n",
       "        vertical-align: middle;\n",
       "    }\n",
       "\n",
       "    .dataframe tbody tr th {\n",
       "        vertical-align: top;\n",
       "    }\n",
       "\n",
       "    .dataframe thead th {\n",
       "        text-align: right;\n",
       "    }\n",
       "</style>\n",
       "<table border=\"1\" class=\"dataframe\">\n",
       "  <thead>\n",
       "    <tr style=\"text-align: right;\">\n",
       "      <th></th>\n",
       "      <th>name</th>\n",
       "      <th>type</th>\n",
       "      <th>volumes</th>\n",
       "      <th>chapters</th>\n",
       "      <th>status</th>\n",
       "      <th>time_published</th>\n",
       "      <th>genres</th>\n",
       "      <th>theme</th>\n",
       "      <th>demographic</th>\n",
       "      <th>serialization</th>\n",
       "      <th>score</th>\n",
       "      <th>ranked</th>\n",
       "      <th>popularity</th>\n",
       "      <th>members</th>\n",
       "      <th>favorites</th>\n",
       "    </tr>\n",
       "  </thead>\n",
       "  <tbody>\n",
       "    <tr>\n",
       "      <th>2</th>\n",
       "      <td>Berserk</td>\n",
       "      <td>[Manga]</td>\n",
       "      <td>Unknown\\n</td>\n",
       "      <td>Unknown\\n</td>\n",
       "      <td>Publishing</td>\n",
       "      <td>Aug  25, 1989 to ?</td>\n",
       "      <td>[Action, Adventure, Award Winning, Drama, Fant...</td>\n",
       "      <td>[Gore, Military, Mythology, Psychological]</td>\n",
       "      <td>[Seinen]</td>\n",
       "      <td>[Young Animal]</td>\n",
       "      <td>[9.47]</td>\n",
       "      <td>1</td>\n",
       "      <td>#2</td>\n",
       "      <td>626,457</td>\n",
       "      <td>116,653</td>\n",
       "    </tr>\n",
       "    <tr>\n",
       "      <th>13</th>\n",
       "      <td>Monster</td>\n",
       "      <td>[Manga]</td>\n",
       "      <td>18\\n</td>\n",
       "      <td>162\\n</td>\n",
       "      <td>Finished</td>\n",
       "      <td>Dec  5, 1994 to Dec  20, 2001</td>\n",
       "      <td>[Award Winning, Drama, Mystery]</td>\n",
       "      <td>[Adult Cast, Psychological]</td>\n",
       "      <td>[Seinen]</td>\n",
       "      <td>[Big Comic Original]</td>\n",
       "      <td>[9.15]</td>\n",
       "      <td>5</td>\n",
       "      <td>#29</td>\n",
       "      <td>221,866</td>\n",
       "      <td>19,353</td>\n",
       "    </tr>\n",
       "    <tr>\n",
       "      <th>9</th>\n",
       "      <td>Slam Dunk</td>\n",
       "      <td>[Manga]</td>\n",
       "      <td>31\\n</td>\n",
       "      <td>276\\n</td>\n",
       "      <td>Finished</td>\n",
       "      <td>Sep  18, 1990 to Jun  4, 1996</td>\n",
       "      <td>[Award Winning, Sports]</td>\n",
       "      <td>[School, Team Sports]</td>\n",
       "      <td>[Shounen]</td>\n",
       "      <td>[Shounen Jump (Weekly)]</td>\n",
       "      <td>[9.07]</td>\n",
       "      <td>6</td>\n",
       "      <td>#58</td>\n",
       "      <td>153,072</td>\n",
       "      <td>14,482</td>\n",
       "    </tr>\n",
       "    <tr>\n",
       "      <th>15</th>\n",
       "      <td>Fullmetal Alchemist</td>\n",
       "      <td>[Manga]</td>\n",
       "      <td>27\\n</td>\n",
       "      <td>116\\n</td>\n",
       "      <td>Finished</td>\n",
       "      <td>Jul  12, 2001 to Sep  11, 2010</td>\n",
       "      <td>[Action, Adventure, Award Winning, Drama, Fant...</td>\n",
       "      <td>[]</td>\n",
       "      <td>[Shounen]</td>\n",
       "      <td>[Shounen Gangan]</td>\n",
       "      <td>[9.04]</td>\n",
       "      <td>7</td>\n",
       "      <td>#18</td>\n",
       "      <td>280,558</td>\n",
       "      <td>29,448</td>\n",
       "    </tr>\n",
       "    <tr>\n",
       "      <th>10</th>\n",
       "      <td>Vinland Saga</td>\n",
       "      <td>[Manga]</td>\n",
       "      <td>Unknown\\n</td>\n",
       "      <td>Unknown\\n</td>\n",
       "      <td>Publishing</td>\n",
       "      <td>Apr  13, 2005 to ?</td>\n",
       "      <td>[Action, Adventure, Award Winning, Drama]</td>\n",
       "      <td>[]</td>\n",
       "      <td>[Seinen]</td>\n",
       "      <td>[Afternoon]</td>\n",
       "      <td>[9.03]</td>\n",
       "      <td>8</td>\n",
       "      <td>#20</td>\n",
       "      <td>271,402</td>\n",
       "      <td>29,546</td>\n",
       "    </tr>\n",
       "    <tr>\n",
       "      <th>...</th>\n",
       "      <td>...</td>\n",
       "      <td>...</td>\n",
       "      <td>...</td>\n",
       "      <td>...</td>\n",
       "      <td>...</td>\n",
       "      <td>...</td>\n",
       "      <td>...</td>\n",
       "      <td>...</td>\n",
       "      <td>...</td>\n",
       "      <td>...</td>\n",
       "      <td>...</td>\n",
       "      <td>...</td>\n",
       "      <td>...</td>\n",
       "      <td>...</td>\n",
       "      <td>...</td>\n",
       "    </tr>\n",
       "    <tr>\n",
       "      <th>3977</th>\n",
       "      <td>Homemade Home</td>\n",
       "      <td>[Manga]</td>\n",
       "      <td>1\\n</td>\n",
       "      <td>5\\n</td>\n",
       "      <td>Finished</td>\n",
       "      <td>Not available</td>\n",
       "      <td>[Drama, Romance]</td>\n",
       "      <td>[]</td>\n",
       "      <td>[Shoujo]</td>\n",
       "      <td>[Betsucomi]</td>\n",
       "      <td>[6.37]</td>\n",
       "      <td>15774</td>\n",
       "      <td>#28233</td>\n",
       "      <td>252</td>\n",
       "      <td>0</td>\n",
       "    </tr>\n",
       "    <tr>\n",
       "      <th>3974</th>\n",
       "      <td>Kiss to Karada</td>\n",
       "      <td>[Manga]</td>\n",
       "      <td>1\\n</td>\n",
       "      <td>2\\n</td>\n",
       "      <td>Finished</td>\n",
       "      <td>Not available</td>\n",
       "      <td>[]</td>\n",
       "      <td>[]</td>\n",
       "      <td>[Josei]</td>\n",
       "      <td>[Petit Comic]</td>\n",
       "      <td>[6.37]</td>\n",
       "      <td>15775</td>\n",
       "      <td>#19193</td>\n",
       "      <td>562</td>\n",
       "      <td>0</td>\n",
       "    </tr>\n",
       "    <tr>\n",
       "      <th>3971</th>\n",
       "      <td>Mondlicht: Tsuki no Tsubasa</td>\n",
       "      <td>[Manga]</td>\n",
       "      <td>5\\n</td>\n",
       "      <td>34\\n</td>\n",
       "      <td>Finished</td>\n",
       "      <td>Apr  26, 2007 to Mar  26, 2010</td>\n",
       "      <td>[Action, Drama, Supernatural, Ecchi]</td>\n",
       "      <td>[]</td>\n",
       "      <td>[Shounen]</td>\n",
       "      <td>[Comic Rush]</td>\n",
       "      <td>[6.37]</td>\n",
       "      <td>15776</td>\n",
       "      <td>#8003</td>\n",
       "      <td>2,044</td>\n",
       "      <td>7</td>\n",
       "    </tr>\n",
       "    <tr>\n",
       "      <th>3969</th>\n",
       "      <td>Angel Profile</td>\n",
       "      <td>[Manga]</td>\n",
       "      <td>1\\n</td>\n",
       "      <td>4\\n</td>\n",
       "      <td>Finished</td>\n",
       "      <td>Oct  12, 2007 to Apr  12, 2008</td>\n",
       "      <td>[Fantasy, Slice of Life]</td>\n",
       "      <td>[]</td>\n",
       "      <td>[Shoujo]</td>\n",
       "      <td>[Comic B's-LOG]</td>\n",
       "      <td>[6.37]</td>\n",
       "      <td>15777</td>\n",
       "      <td>#25915</td>\n",
       "      <td>308</td>\n",
       "      <td>0</td>\n",
       "    </tr>\n",
       "    <tr>\n",
       "      <th>3970</th>\n",
       "      <td>Shinigami Trilogy</td>\n",
       "      <td>[Manga]</td>\n",
       "      <td>1\\n</td>\n",
       "      <td>6\\n</td>\n",
       "      <td>Finished</td>\n",
       "      <td>May  9, 2009 to Jan  9, 2010</td>\n",
       "      <td>[Comedy, Fantasy, Romance, Supernatural]</td>\n",
       "      <td>[]</td>\n",
       "      <td>[Shounen]</td>\n",
       "      <td>[Dragon Age]</td>\n",
       "      <td>[6.37]</td>\n",
       "      <td>15779</td>\n",
       "      <td>#11678</td>\n",
       "      <td>1,239</td>\n",
       "      <td>3</td>\n",
       "    </tr>\n",
       "  </tbody>\n",
       "</table>\n",
       "<p>3986 rows × 15 columns</p>\n",
       "</div>"
      ],
      "text/plain": [
       "                             name     type     volumes    chapters  \\\n",
       "2                         Berserk  [Manga]   Unknown\\n   Unknown\\n   \n",
       "13                        Monster  [Manga]        18\\n       162\\n   \n",
       "9                       Slam Dunk  [Manga]        31\\n       276\\n   \n",
       "15            Fullmetal Alchemist  [Manga]        27\\n       116\\n   \n",
       "10                   Vinland Saga  [Manga]   Unknown\\n   Unknown\\n   \n",
       "...                           ...      ...         ...         ...   \n",
       "3977                Homemade Home  [Manga]         1\\n         5\\n   \n",
       "3974               Kiss to Karada  [Manga]         1\\n         2\\n   \n",
       "3971  Mondlicht: Tsuki no Tsubasa  [Manga]         5\\n        34\\n   \n",
       "3969                Angel Profile  [Manga]         1\\n         4\\n   \n",
       "3970            Shinigami Trilogy  [Manga]         1\\n         6\\n   \n",
       "\n",
       "           status                   time_published  \\\n",
       "2      Publishing               Aug  25, 1989 to ?   \n",
       "13       Finished    Dec  5, 1994 to Dec  20, 2001   \n",
       "9        Finished    Sep  18, 1990 to Jun  4, 1996   \n",
       "15       Finished   Jul  12, 2001 to Sep  11, 2010   \n",
       "10     Publishing               Apr  13, 2005 to ?   \n",
       "...           ...                              ...   \n",
       "3977     Finished                    Not available   \n",
       "3974     Finished                    Not available   \n",
       "3971     Finished   Apr  26, 2007 to Mar  26, 2010   \n",
       "3969     Finished   Oct  12, 2007 to Apr  12, 2008   \n",
       "3970     Finished     May  9, 2009 to Jan  9, 2010   \n",
       "\n",
       "                                                 genres  \\\n",
       "2     [Action, Adventure, Award Winning, Drama, Fant...   \n",
       "13                      [Award Winning, Drama, Mystery]   \n",
       "9                               [Award Winning, Sports]   \n",
       "15    [Action, Adventure, Award Winning, Drama, Fant...   \n",
       "10            [Action, Adventure, Award Winning, Drama]   \n",
       "...                                                 ...   \n",
       "3977                                   [Drama, Romance]   \n",
       "3974                                                 []   \n",
       "3971               [Action, Drama, Supernatural, Ecchi]   \n",
       "3969                           [Fantasy, Slice of Life]   \n",
       "3970           [Comedy, Fantasy, Romance, Supernatural]   \n",
       "\n",
       "                                           theme demographic  \\\n",
       "2     [Gore, Military, Mythology, Psychological]    [Seinen]   \n",
       "13                   [Adult Cast, Psychological]    [Seinen]   \n",
       "9                          [School, Team Sports]   [Shounen]   \n",
       "15                                            []   [Shounen]   \n",
       "10                                            []    [Seinen]   \n",
       "...                                          ...         ...   \n",
       "3977                                          []    [Shoujo]   \n",
       "3974                                          []     [Josei]   \n",
       "3971                                          []   [Shounen]   \n",
       "3969                                          []    [Shoujo]   \n",
       "3970                                          []   [Shounen]   \n",
       "\n",
       "                serialization   score  ranked popularity   members favorites  \n",
       "2              [Young Animal]  [9.47]       1         #2   626,457   116,653  \n",
       "13       [Big Comic Original]  [9.15]       5        #29   221,866    19,353  \n",
       "9     [Shounen Jump (Weekly)]  [9.07]       6        #58   153,072    14,482  \n",
       "15           [Shounen Gangan]  [9.04]       7        #18   280,558    29,448  \n",
       "10                [Afternoon]  [9.03]       8        #20   271,402    29,546  \n",
       "...                       ...     ...     ...        ...       ...       ...  \n",
       "3977              [Betsucomi]  [6.37]   15774     #28233       252         0  \n",
       "3974            [Petit Comic]  [6.37]   15775     #19193       562         0  \n",
       "3971             [Comic Rush]  [6.37]   15776      #8003     2,044         7  \n",
       "3969          [Comic B's-LOG]  [6.37]   15777     #25915       308         0  \n",
       "3970             [Dragon Age]  [6.37]   15779     #11678     1,239         3  \n",
       "\n",
       "[3986 rows x 15 columns]"
      ]
     },
     "execution_count": 3,
     "metadata": {},
     "output_type": "execute_result"
    }
   ],
   "source": [
    "# Cleaning data in \"ranked\" column\n",
    "df.ranked = df.ranked.astype(str)\n",
    "df.ranked = df.ranked.str.replace(\"#\", \"\")\n",
    "df.ranked = df.ranked.astype('int64')\n",
    "df.sort_values(by=['ranked'])"
   ]
  },
  {
   "cell_type": "code",
   "execution_count": 4,
   "id": "7e565998",
   "metadata": {},
   "outputs": [],
   "source": [
    "# Drop columns that may not relevant to the purpose of determining score\n",
    "df.drop(['theme'],axis = 1, inplace=True)\n",
    "df.drop(['demographic'],axis = 1, inplace=True)\n",
    "df.drop(['chapters'],axis = 1, inplace = True)\n",
    "df.drop(['volumes'],axis = 1, inplace = True)"
   ]
  },
  {
   "cell_type": "code",
   "execution_count": 5,
   "id": "d618b2a1",
   "metadata": {},
   "outputs": [],
   "source": [
    "df_test = df.copy()"
   ]
  },
  {
   "cell_type": "code",
   "execution_count": 7,
   "id": "63cc4973",
   "metadata": {},
   "outputs": [],
   "source": [
    "# process data in \"string\" type\n",
    "\n",
    "# df_test.volumes = df_test.volumes.str.replace(\"Unknown\", \"\")\n",
    "# df_test.chapters = df_test.chapters.str.replace(\"Unknown\", \"\")\n",
    "# df_test.volumes = df_test.volumes.replace(\" \", np.NaN)\n",
    "# df_test.chapters = df_test.chapters.replace(\" \", np.NaN)"
   ]
  },
  {
   "cell_type": "code",
   "execution_count": 8,
   "id": "9fe3d26c",
   "metadata": {},
   "outputs": [],
   "source": [
    "# Convert datatype to float\n",
    "\n",
    "# df_test.volumes = df_test.volumes.astype('float')\n",
    "# df_test.chapters = df_test.chapters.astype('float')"
   ]
  },
  {
   "cell_type": "code",
   "execution_count": 9,
   "id": "15a5db22",
   "metadata": {},
   "outputs": [
    {
     "name": "stderr",
     "output_type": "stream",
     "text": [
      "/var/folders/49/0z2npmwj0rlf4ldy37x66bb00000gn/T/ipykernel_24748/781478591.py:3: FutureWarning: The default dtype for empty Series will be 'object' instead of 'float64' in a future version. Specify a dtype explicitly to silence this warning.\n",
      "  genres = pd.get_dummies(df['genres'].apply(pd.Series).stack()).sum(level=0)\n",
      "/var/folders/49/0z2npmwj0rlf4ldy37x66bb00000gn/T/ipykernel_24748/781478591.py:3: FutureWarning: Using the level keyword in DataFrame and Series aggregations is deprecated and will be removed in a future version. Use groupby instead. df.sum(level=1) should use df.groupby(level=1).sum().\n",
      "  genres = pd.get_dummies(df['genres'].apply(pd.Series).stack()).sum(level=0)\n"
     ]
    }
   ],
   "source": [
    "# Normalize dataset\n",
    "# Because of \"genres\" column has numerous attributes\n",
    "genres = pd.get_dummies(df['genres'].apply(pd.Series).stack()).sum(level=0)\n",
    "df_test3 = pd.concat([df_test, genres], axis=1)\n"
   ]
  },
  {
   "cell_type": "code",
   "execution_count": 10,
   "id": "9751ed2d",
   "metadata": {
    "collapsed": true
   },
   "outputs": [
    {
     "data": {
      "text/plain": [
       "0       ['8.92']\n",
       "1       ['8.94']\n",
       "2       ['9.47']\n",
       "3       ['8.88']\n",
       "4       ['8.92']\n",
       "          ...   \n",
       "3981    ['6.37']\n",
       "3982    ['6.37']\n",
       "3983    ['6.37']\n",
       "3984    ['6.37']\n",
       "3985    ['6.37']\n",
       "Name: score, Length: 3986, dtype: object"
      ]
     },
     "execution_count": 10,
     "metadata": {},
     "output_type": "execute_result"
    }
   ],
   "source": [
    "df_test3.score.astype(str)"
   ]
  },
  {
   "cell_type": "code",
   "execution_count": 11,
   "id": "f2aed37e",
   "metadata": {
    "collapsed": true
   },
   "outputs": [
    {
     "data": {
      "text/plain": [
       "0       8.92\n",
       "1       8.94\n",
       "2       9.47\n",
       "3       8.88\n",
       "4       8.92\n",
       "        ... \n",
       "3981    6.37\n",
       "3982    6.37\n",
       "3983    6.37\n",
       "3984    6.37\n",
       "3985    6.37\n",
       "Name: score, Length: 3986, dtype: float64"
      ]
     },
     "execution_count": 11,
     "metadata": {},
     "output_type": "execute_result"
    }
   ],
   "source": [
    "df_test3.score = df_test3.score.apply(lambda x: x[0])\n",
    "df_test3.score.astype('float')"
   ]
  },
  {
   "cell_type": "code",
   "execution_count": 12,
   "id": "4f22f354",
   "metadata": {},
   "outputs": [],
   "source": [
    "score = df_test3.score\n",
    "df_test3 = df_test3.drop(['score'],axis=1)\n",
    "df_test3.insert(10,'score',score)\n",
    "df_test4 = df_test3.iloc[:,10:]"
   ]
  },
  {
   "cell_type": "code",
   "execution_count": 13,
   "id": "2d031fa3",
   "metadata": {},
   "outputs": [],
   "source": [
    "# drop na because of merging 2 dataframes\n",
    "df_test4 = df_test4.dropna()"
   ]
  },
  {
   "cell_type": "code",
   "execution_count": 14,
   "id": "ef409885",
   "metadata": {},
   "outputs": [
    {
     "data": {
      "image/png": "[encoded data removed]",
      "text/plain": [
       "<Figure size 1000x600 with 1 Axes>"
      ]
     },
     "metadata": {},
     "output_type": "display_data"
    }
   ],
   "source": [
    "# NOTE: with various scores for multi-genres\n",
    "# We can assign it to a separate column \n",
    "# --> Easily get the mean of each score for multi-genres\n",
    "df_test5 = df_test4.sort_values(by=['score'],ascending = False)\n",
    "df_test5 = df_test5.set_index('score')\n",
    "df_test5 = df_test5.astype(float)\n",
    "\n",
    "mean_scores = df_test5.mean()\n",
    "genres = mean_scores.index\n",
    "\n",
    "fig, ax = plt.subplots(figsize=(10, 6))\n",
    "\n",
    "# Plotting mean scores\n",
    "ax.bar(genres, mean_scores)\n",
    "\n",
    "ax.set_title('Mean Scores by Genre', fontsize=14)\n",
    "ax.set_xlabel('Genre', fontsize=12)\n",
    "ax.set_ylabel('Mean Score', fontsize=12)\n",
    "ax.set_ylim([0, 1])  # Set y-axis limit from 0 to 10 or adjust as needed\n",
    "\n",
    "plt.xticks(rotation=90)\n",
    "\n",
    "plt.tight_layout()\n",
    "plt.show()"
   ]
  },
  {
   "cell_type": "code",
   "execution_count": 16,
   "id": "9149008b",
   "metadata": {},
   "outputs": [],
   "source": [
    "# We are going to compute the correlation between 'status' and 'rank'|| \"popularity\"\n",
    "df_cor = df_test.copy()"
   ]
  },
  {
   "cell_type": "code",
   "execution_count": 17,
   "id": "1041f2f6",
   "metadata": {},
   "outputs": [],
   "source": [
    "def format_data(df_cor,x):\n",
    "    for i in range(df_cor.shape[0]):\n",
    "        df_cor.iat[i,x] = df_cor.iat[i,x].strip()"
   ]
  },
  {
   "cell_type": "code",
   "execution_count": 18,
   "id": "7ac1c71b",
   "metadata": {},
   "outputs": [],
   "source": [
    "# Transforming the \"status\" column\n",
    "format_data(df_cor,2)\n",
    "d = {'Finished': 1, 'Publishing': 0}\n",
    "df_cor.status = df_cor['status'].map(d)\n"
   ]
  },
  {
   "cell_type": "code",
   "execution_count": 19,
   "id": "311c3d75",
   "metadata": {},
   "outputs": [
    {
     "data": {
      "text/plain": [
       "0       0.0\n",
       "1       1.0\n",
       "2       0.0\n",
       "3       0.0\n",
       "4       1.0\n",
       "       ... \n",
       "3981    1.0\n",
       "3982    1.0\n",
       "3983    1.0\n",
       "3984    1.0\n",
       "3985    1.0\n",
       "Name: status, Length: 3986, dtype: float64"
      ]
     },
     "execution_count": 19,
     "metadata": {},
     "output_type": "execute_result"
    }
   ],
   "source": [
    "df_cor.status"
   ]
  },
  {
   "cell_type": "code",
   "execution_count": 20,
   "id": "2a7d20ac",
   "metadata": {},
   "outputs": [],
   "source": [
    "# Drop unessary column\n",
    "\n",
    "# df_cor.drop(['volumes'],axis=1,inplace=True)\n",
    "# df_cor.drop(['chapters'],axis=1,inplace=True)\n"
   ]
  },
  {
   "cell_type": "code",
   "execution_count": 21,
   "id": "58bff34b",
   "metadata": {},
   "outputs": [],
   "source": [
    "# Convert to float\n",
    "\n",
    "df_cor.status = pd.to_numeric(df_cor.status)"
   ]
  },
  {
   "cell_type": "code",
   "execution_count": 22,
   "id": "8e4c0543",
   "metadata": {},
   "outputs": [],
   "source": [
    "# \"members\" column\n",
    "format_data(df_cor,9)\n",
    "df_cor.members = df_cor.members.apply(lambda x: x.replace(',',''))\n",
    "df_cor.members = df_cor.members.astype(float)"
   ]
  },
  {
   "cell_type": "code",
   "execution_count": 23,
   "id": "5c6685e6",
   "metadata": {},
   "outputs": [],
   "source": [
    "# \"favorites\" column\n",
    "format_data(df_cor,10)\n",
    "df_cor.favorites = df_cor.favorites.apply(lambda x: x.replace(',',''))\n",
    "df_cor.favorites = df_cor.favorites.astype(float)"
   ]
  },
  {
   "cell_type": "code",
   "execution_count": 24,
   "id": "06d16b34",
   "metadata": {},
   "outputs": [],
   "source": [
    "# \"score\" column\n",
    "df_cor.score = df_cor.score.apply(lambda x: x[0])\n",
    "df_cor.score = df_cor.score.astype('float')"
   ]
  },
  {
   "cell_type": "code",
   "execution_count": 25,
   "id": "7b1a33d8",
   "metadata": {},
   "outputs": [],
   "source": [
    "# \"popularity\" column\n",
    "format_data(df_cor,8)\n",
    "df_cor.popularity = df_cor.popularity.apply(lambda x: x.replace('#',''))\n",
    "df_cor.popularity = df_cor.popularity.astype(float)"
   ]
  },
  {
   "cell_type": "code",
   "execution_count": 26,
   "id": "622313d7",
   "metadata": {},
   "outputs": [],
   "source": [
    "# Compute correlation\n",
    "cor_sta_rank = df_cor.status.corr(df_cor.ranked)\n",
    "cor_sta_members = df_cor.status.corr(df_cor.members)\n",
    "cor_sta_fav = df_cor.status.corr(df_cor.favorites)\n",
    "cor_sta_pop = df_cor.status.corr(df_cor.popularity)\n",
    "cor_sta_score = df_cor.status.corr(df_cor.score)"
   ]
  },
  {
   "cell_type": "code",
   "execution_count": 27,
   "id": "87e45759",
   "metadata": {},
   "outputs": [],
   "source": [
    "# Dropping column for plotting heat map\n",
    "df_cor.drop(['name'],axis = 1, inplace = True)\n",
    "df_cor.drop(['type'],axis = 1, inplace = True)\n",
    "df_cor.drop(['time_published'],axis = 1, inplace = True)\n",
    "df_cor.drop(['genres'],axis = 1, inplace = True)\n",
    "df_cor.drop(['serialization'],axis = 1, inplace = True)"
   ]
  },
  {
   "cell_type": "code",
   "execution_count": 28,
   "id": "bac5f3cf",
   "metadata": {},
   "outputs": [],
   "source": [
    "main_cor = df_cor.corr()"
   ]
  },
  {
   "cell_type": "code",
   "execution_count": 132,
   "id": "b56871bc",
   "metadata": {},
   "outputs": [
    {
     "data": {
      "image/png": "[encoded data removed]",
      "text/plain": [
       "<Figure size 1000x800 with 2 Axes>"
      ]
     },
     "metadata": {},
     "output_type": "display_data"
    }
   ],
   "source": [
    "# HEATMAP 1\n",
    "\n",
    "plt.figure(figsize=(10,8))\n",
    "sns.heatmap(main_cor,annot=True, cmap='Blues')\n",
    "\n",
    "plt.title('Correlation heatmap')\n",
    "plt.show()"
   ]
  },
  {
   "cell_type": "code",
   "execution_count": 222,
   "id": "bca15836",
   "metadata": {},
   "outputs": [],
   "source": [
    "# HEATMAP 2 --> compare to HEATMAP 1\n",
    "df_cor2 = df_cor.copy()"
   ]
  },
  {
   "cell_type": "code",
   "execution_count": 223,
   "id": "f31fbcd6",
   "metadata": {},
   "outputs": [],
   "source": [
    "# Import start and end year, and clear those years\n",
    "df_cor2.insert(2,\"start_year\", start_year)\n",
    "df_cor2.insert(3,\"end_year\", end_year)\n",
    "\n",
    "df_cor2.end_year = df_cor2.end_year.replace('?', np.NaN)\n",
    "df_cor2 = df_cor2.drop(df_cor2[df_cor2.start_year == 'able'].index)"
   ]
  },
  {
   "cell_type": "code",
   "execution_count": 224,
   "id": "f086584d",
   "metadata": {},
   "outputs": [],
   "source": [
    "# Convert datatype\n",
    "df_cor2.start_year = df_cor2.start_year.astype(float)\n",
    "df_cor2.end_year = df_cor2.end_year.astype(float)"
   ]
  },
  {
   "cell_type": "code",
   "execution_count": 225,
   "id": "b95bd841",
   "metadata": {},
   "outputs": [],
   "source": [
    "cor = df_cor2.corr()"
   ]
  },
  {
   "cell_type": "code",
   "execution_count": 226,
   "id": "ba01180f",
   "metadata": {},
   "outputs": [
    {
     "data": {
      "image/png": "[encoded data removed]",
      "text/plain": [
       "<Figure size 1000x800 with 2 Axes>"
      ]
     },
     "metadata": {},
     "output_type": "display_data"
    }
   ],
   "source": [
    "# Plotting HEATMAP 2 within YEAR\n",
    "\n",
    "plt.figure(figsize=(10,8))\n",
    "sns.heatmap(cor,annot=True, cmap='Blues')\n",
    "\n",
    "plt.title('Correlation heatmap')\n",
    "plt.show()"
   ]
  },
  {
   "cell_type": "code",
   "execution_count": null,
   "id": "2b2a9328",
   "metadata": {},
   "outputs": [],
   "source": []
  },
  {
   "cell_type": "code",
   "execution_count": 30,
   "id": "9d543235",
   "metadata": {},
   "outputs": [],
   "source": [
    "# plotting distribution of genres by year\n",
    "# --> convert to dictionary"
   ]
  },
  {
   "cell_type": "code",
   "execution_count": 31,
   "id": "08ceaf5f",
   "metadata": {},
   "outputs": [],
   "source": [
    "df_explore = df.copy()"
   ]
  },
  {
   "cell_type": "code",
   "execution_count": 32,
   "id": "fb61ac7e",
   "metadata": {},
   "outputs": [],
   "source": [
    "df_explore.drop(['name'],axis = 1, inplace= True)\n",
    "df_explore.drop(['serialization'],axis = 1, inplace= True)\n",
    "df_explore.drop(['type'],axis = 1, inplace= True)"
   ]
  },
  {
   "cell_type": "code",
   "execution_count": 33,
   "id": "c1cb0448",
   "metadata": {},
   "outputs": [],
   "source": [
    "start_year = df['time_published'].str.split(' to ').str[0].str[-4:]\n",
    "end_year = df['time_published'].str.split(' to ').str[1].str[-4:]\n",
    "\n",
    "df_explore.insert(2,\"start_year\", start_year)\n",
    "df_explore.insert(3,\"end_year\", end_year)\n",
    "\n",
    "df_explore.end_year = df_explore.end_year.replace('?', np.NaN)"
   ]
  },
  {
   "cell_type": "code",
   "execution_count": 34,
   "id": "e9ca0552",
   "metadata": {},
   "outputs": [],
   "source": [
    "# Remove rows with vague | ambiguous data in start_year column\n",
    "df_explore = df_explore.drop(df_explore[df_explore.start_year == 'able'].index)"
   ]
  },
  {
   "cell_type": "code",
   "execution_count": 35,
   "id": "fefddce2",
   "metadata": {},
   "outputs": [
    {
     "data": {
      "text/plain": [
       "0       1999.0\n",
       "1       1968.0\n",
       "2       1989.0\n",
       "3       2003.0\n",
       "4       2015.0\n",
       "         ...  \n",
       "3981    2013.0\n",
       "3982    2011.0\n",
       "3983    2011.0\n",
       "3984    1996.0\n",
       "3985    2009.0\n",
       "Name: start_year, Length: 3902, dtype: float64"
      ]
     },
     "execution_count": 35,
     "metadata": {},
     "output_type": "execute_result"
    }
   ],
   "source": [
    "df_explore.end_year.astype(float)\n",
    "df_explore.start_year.astype(float)"
   ]
  },
  {
   "cell_type": "code",
   "execution_count": 36,
   "id": "fa2ea0bd",
   "metadata": {},
   "outputs": [],
   "source": [
    "format_data(df_explore,0)"
   ]
  },
  {
   "cell_type": "code",
   "execution_count": 38,
   "id": "57cd9192",
   "metadata": {},
   "outputs": [
    {
     "name": "stderr",
     "output_type": "stream",
     "text": [
      "/var/folders/49/0z2npmwj0rlf4ldy37x66bb00000gn/T/ipykernel_24748/293272505.py:3: FutureWarning: The default dtype for empty Series will be 'object' instead of 'float64' in a future version. Specify a dtype explicitly to silence this warning.\n",
      "  genres = pd.get_dummies(df['genres'].apply(pd.Series).stack()).sum(level=0)\n",
      "/var/folders/49/0z2npmwj0rlf4ldy37x66bb00000gn/T/ipykernel_24748/293272505.py:3: FutureWarning: Using the level keyword in DataFrame and Series aggregations is deprecated and will be removed in a future version. Use groupby instead. df.sum(level=1) should use df.groupby(level=1).sum().\n",
      "  genres = pd.get_dummies(df['genres'].apply(pd.Series).stack()).sum(level=0)\n"
     ]
    }
   ],
   "source": [
    "# Normalize dataset\n",
    "# Because of \"genres\" column has numerous attributes\n",
    "genres = pd.get_dummies(df['genres'].apply(pd.Series).stack()).sum(level=0)\n",
    "df_explore2 = pd.concat([df_explore, genres], axis=1)"
   ]
  },
  {
   "cell_type": "code",
   "execution_count": 39,
   "id": "7bc70248",
   "metadata": {},
   "outputs": [],
   "source": [
    "df_explore2 = df_explore2.dropna()"
   ]
  },
  {
   "cell_type": "code",
   "execution_count": 41,
   "id": "f5e199e8",
   "metadata": {},
   "outputs": [],
   "source": [
    "# year action his\n",
    "# 1968      1   2\n",
    "# 1969      2   3\n",
    "# 1970      1   0"
   ]
  },
  {
   "cell_type": "code",
   "execution_count": 59,
   "id": "2f30daf0",
   "metadata": {},
   "outputs": [],
   "source": [
    "# Should run in separate box\n",
    "df_ex_start_year = df_explore2.groupby('start_year', group_keys = True).apply(lambda x: x.iloc[:,10:])\n",
    "df_ex_end_year = df_explore2.groupby('end_year', group_keys = True).apply(lambda x: x.iloc[:,10:])"
   ]
  },
  {
   "cell_type": "code",
   "execution_count": 102,
   "id": "ff6c06d3",
   "metadata": {
    "scrolled": false
   },
   "outputs": [],
   "source": [
    "# Assign to original dataframe before concatinating\n",
    "df_ex_start_year = df_ex_start_year.groupby('start_year').sum().reset_index()"
   ]
  },
  {
   "cell_type": "code",
   "execution_count": 103,
   "id": "1b333e54",
   "metadata": {},
   "outputs": [],
   "source": [
    "# Assign to original dataframe before concatinating\n",
    "df_ex_end_year = df_ex_end_year.groupby('end_year').sum().reset_index()"
   ]
  },
  {
   "cell_type": "code",
   "execution_count": 80,
   "id": "7e8f8edc",
   "metadata": {},
   "outputs": [],
   "source": [
    "merged_df = pd.merge(df_ex_start_year, df_ex_end_year, on=['Action', 'Adventure', 'Avant Garde', 'Award Winning',\n",
    "       'Boys Love', 'Comedy', 'Drama', 'Ecchi', 'Fantasy', 'Girls Love',\n",
    "       'Gourmet', 'Horror', 'Mystery', 'Romance', 'Sci-Fi', 'Slice of Life',\n",
    "       'Sports', 'Supernatural', 'Suspense'])\n"
   ]
  },
  {
   "cell_type": "code",
   "execution_count": 104,
   "id": "9493a5a6",
   "metadata": {},
   "outputs": [],
   "source": [
    "# Turn row to col for adding\n",
    "df_ex_start_year = df_ex_start_year.set_index(\"start_year\")\n",
    "df_ex_end_year = df_ex_end_year.set_index(\"end_year\")\n",
    "df_ex_combined = df_ex_start_year.add(df_ex_end_year, fill_value=0)"
   ]
  },
  {
   "cell_type": "code",
   "execution_count": 126,
   "id": "1f464d55",
   "metadata": {},
   "outputs": [
    {
     "data": {
      "image/png": "[encoded data removed]",
      "text/plain": [
       "<Figure size 1000x600 with 1 Axes>"
      ]
     },
     "metadata": {},
     "output_type": "display_data"
    }
   ],
   "source": [
    "# LINE GRAPH - NOT INTERACTIVE\n",
    "\n",
    "df_ex_combined = df_ex_combined.reset_index()\n",
    "df_ex_combined.set_index('index', inplace=True)\n",
    "\n",
    "# Sizing the dataframe\n",
    "fig, ax = plt.subplots(figsize=(10, 6))\n",
    "\n",
    "# Line plot\n",
    "df_ex_combined.plot(kind='line', ax=ax, marker='o', linewidth=2)\n",
    "\n",
    "# Bar plot\n",
    "df_ex_combined.plot(kind='bar', ax=ax, alpha=0.5, width=0.4)\n",
    "\n",
    "# Set the labels and title\n",
    "plt.xlabel('Year')\n",
    "plt.ylabel('Count')\n",
    "plt.title('Genre Count by Year')\n",
    "\n",
    "# Customize legend\n",
    "ax.legend([\"Line\", \"Bar\"], loc='upper left')\n",
    "\n",
    "# Customize gridlines\n",
    "ax.grid(color='gray', linestyle='--', linewidth=0.5)\n",
    "\n",
    "plt.show()"
   ]
  },
  {
   "cell_type": "code",
   "execution_count": 133,
   "id": "ceb78210",
   "metadata": {},
   "outputs": [
    {
     "data": {
      "image/png": "[encoded data removed]",
      "text/plain": [
       "<Figure size 1000x600 with 2 Axes>"
      ]
     },
     "metadata": {},
     "output_type": "display_data"
    }
   ],
   "source": [
    "# HEATMAP2 - NOT INTERACTIVE\n",
    "\n",
    "# Sizing the dataframe\n",
    "fig, ax = plt.subplots(figsize=(10, 6))\n",
    "\n",
    "sns.heatmap(df_ex_combined, cmap='Blues', ax=ax)\n",
    "\n",
    "# Set the labels and title\n",
    "plt.xlabel('Genres')\n",
    "plt.ylabel('Year')\n",
    "plt.title('Genre Count by Year - Heatmap')\n",
    "\n",
    "plt.show()"
   ]
  },
  {
   "cell_type": "code",
   "execution_count": 234,
   "id": "1e563570",
   "metadata": {},
   "outputs": [
    {
     "data": {
      "application/vnd.plotly.v1+json": {
       "config": {
        "plotlyServerURL": "https://plot.ly"
       },
       "data": [
        {
         "colorscale": [
          [
           0,
           "rgb(247,251,255)"
          ],
          [
           0.125,
           "rgb(222,235,247)"
          ],
          [
           0.25,
           "rgb(198,219,239)"
          ],
          [
           0.375,
           "rgb(158,202,225)"
          ],
          [
           0.5,
           "rgb(107,174,214)"
          ],
          [
           0.625,
           "rgb(66,146,198)"
          ],
          [
           0.75,
           "rgb(33,113,181)"
          ],
          [
           0.875,
           "rgb(8,81,156)"
          ],
          [
           1,
           "rgb(8,48,107)"
          ]
         ],
         "type": "heatmap",
         "x": [
          "Action",
          "Adventure",
          "Avant Garde",
          "Award Winning",
          "Boys Love",
          "Comedy",
          "Drama",
          "Ecchi",
          "Fantasy",
          "Girls Love",
          "Gourmet",
          "Horror",
          "Mystery",
          "Romance",
          "Sci-Fi",
          "Slice of Life",
          "Sports",
          "Supernatural",
          "Suspense"
         ],
         "y": [
          "1951",
          "1953",
          "1956",
          "1957",
          "1960",
          "1961",
          "1966",
          "1967",
          "1968",
          "1969",
          "1970",
          "1971",
          "1972",
          "1973",
          "1974",
          "1975",
          "1976",
          "1977",
          "1978",
          "1979",
          "1980",
          "1981",
          "1982",
          "1983",
          "1984",
          "1985",
          "1986",
          "1987",
          "1988",
          "1989",
          "1990",
          "1991",
          "1992",
          "1993",
          "1994",
          "1995",
          "1996",
          "1997",
          "1998",
          "1999",
          "2000",
          "2001",
          "2002",
          "2003",
          "2004",
          "2005",
          "2006",
          "2007",
          "2008",
          "2009",
          "2010",
          "2011",
          "2012",
          "2013",
          "2014",
          "2015",
          "2016",
          "2017",
          "2018",
          "2019",
          "2020",
          "2021",
          "2022",
          "2023"
         ],
         "z": [
          [
           0,
           1,
           0,
           0,
           0,
           0,
           0,
           0,
           0,
           0,
           0,
           0,
           0,
           0,
           1,
           0,
           0,
           0,
           0
          ],
          [
           1,
           1,
           0,
           0,
           0,
           0,
           1,
           0,
           1,
           0,
           0,
           0,
           0,
           1,
           0,
           0,
           0,
           0,
           0
          ],
          [
           1,
           2,
           0,
           0,
           0,
           0,
           2,
           0,
           2,
           0,
           0,
           0,
           0,
           1,
           1,
           0,
           0,
           0,
           0
          ],
          [
           0,
           0,
           0,
           0,
           0,
           0,
           1,
           0,
           1,
           0,
           0,
           0,
           0,
           0,
           0,
           0,
           0,
           0,
           0
          ],
          [
           1,
           0,
           0,
           0,
           0,
           0,
           0,
           0,
           0,
           0,
           0,
           0,
           0,
           0,
           1,
           0,
           0,
           0,
           0
          ],
          [
           1,
           0,
           0,
           0,
           0,
           0,
           0,
           0,
           0,
           0,
           0,
           0,
           0,
           0,
           1,
           0,
           0,
           0,
           0
          ],
          [
           0,
           1,
           1,
           0,
           0,
           0,
           1,
           0,
           1,
           0,
           0,
           0,
           0,
           0,
           1,
           0,
           0,
           0,
           0
          ],
          [
           1,
           1,
           0,
           0,
           0,
           1,
           1,
           0,
           0,
           0,
           0,
           0,
           1,
           0,
           0,
           0,
           0,
           0,
           0
          ],
          [
           1,
           1,
           0,
           0,
           0,
           0,
           1,
           0,
           0,
           0,
           0,
           0,
           1,
           0,
           2,
           1,
           1,
           0,
           0
          ],
          [
           3,
           3,
           0,
           0,
           0,
           0,
           1,
           0,
           1,
           0,
           0,
           0,
           1,
           0,
           2,
           0,
           0,
           0,
           0
          ],
          [
           2,
           2,
           0,
           0,
           0,
           0,
           1,
           0,
           1,
           0,
           0,
           0,
           0,
           0,
           1,
           0,
           0,
           0,
           0
          ],
          [
           2,
           1,
           1,
           0,
           0,
           0,
           1,
           0,
           3,
           0,
           0,
           0,
           0,
           0,
           0,
           0,
           0,
           0,
           0
          ],
          [
           4,
           2,
           0,
           0,
           0,
           2,
           3,
           1,
           0,
           0,
           0,
           0,
           1,
           0,
           0,
           0,
           0,
           0,
           0
          ],
          [
           4,
           0,
           0,
           0,
           0,
           0,
           3,
           1,
           1,
           0,
           0,
           0,
           0,
           0,
           3,
           1,
           1,
           0,
           0
          ],
          [
           2,
           1,
           0,
           0,
           2,
           1,
           3,
           1,
           1,
           0,
           0,
           1,
           0,
           0,
           2,
           1,
           0,
           0,
           0
          ],
          [
           6,
           2,
           0,
           1,
           0,
           2,
           1,
           2,
           1,
           0,
           0,
           1,
           0,
           1,
           4,
           0,
           0,
           0,
           0
          ],
          [
           1,
           1,
           0,
           0,
           0,
           0,
           2,
           0,
           0,
           0,
           0,
           0,
           1,
           0,
           1,
           0,
           0,
           0,
           0
          ],
          [
           2,
           1,
           0,
           1,
           0,
           3,
           1,
           0,
           0,
           0,
           0,
           0,
           2,
           1,
           3,
           1,
           0,
           0,
           0
          ],
          [
           0,
           1,
           0,
           1,
           0,
           0,
           0,
           0,
           2,
           0,
           0,
           0,
           0,
           1,
           0,
           0,
           0,
           0,
           0
          ],
          [
           2,
           0,
           0,
           1,
           0,
           0,
           3,
           0,
           0,
           0,
           0,
           0,
           0,
           1,
           1,
           0,
           0,
           1,
           0
          ],
          [
           0,
           0,
           0,
           1,
           0,
           1,
           3,
           0,
           0,
           0,
           0,
           1,
           0,
           2,
           1,
           0,
           0,
           1,
           0
          ],
          [
           3,
           0,
           0,
           2,
           0,
           2,
           4,
           0,
           0,
           0,
           0,
           1,
           2,
           2,
           1,
           0,
           0,
           2,
           0
          ],
          [
           1,
           0,
           0,
           1,
           0,
           0,
           0,
           0,
           0,
           0,
           0,
           0,
           0,
           0,
           1,
           0,
           0,
           0,
           0
          ],
          [
           1,
           0,
           0,
           0,
           0,
           1,
           0,
           0,
           0,
           0,
           0,
           2,
           2,
           0,
           0,
           0,
           1,
           2,
           0
          ],
          [
           1,
           0,
           0,
           2,
           0,
           2,
           0,
           0,
           1,
           0,
           0,
           1,
           0,
           3,
           0,
           2,
           0,
           2,
           0
          ],
          [
           7,
           4,
           0,
           0,
           0,
           5,
           2,
           0,
           1,
           0,
           0,
           0,
           1,
           1,
           4,
           0,
           1,
           0,
           0
          ],
          [
           7,
           2,
           0,
           1,
           0,
           3,
           3,
           1,
           0,
           0,
           0,
           0,
           1,
           3,
           4,
           1,
           0,
           0,
           0
          ],
          [
           5,
           4,
           0,
           0,
           0,
           6,
           4,
           2,
           3,
           0,
           0,
           1,
           0,
           5,
           1,
           2,
           1,
           3,
           1
          ],
          [
           6,
           3,
           1,
           2,
           1,
           4,
           3,
           1,
           0,
           0,
           0,
           2,
           1,
           6,
           5,
           1,
           0,
           3,
           1
          ],
          [
           7,
           4,
           1,
           1,
           1,
           4,
           4,
           1,
           0,
           0,
           0,
           1,
           0,
           1,
           4,
           0,
           1,
           1,
           0
          ],
          [
           9,
           6,
           0,
           4,
           0,
           5,
           6,
           2,
           7,
           0,
           0,
           1,
           3,
           4,
           7,
           1,
           1,
           0,
           0
          ],
          [
           7,
           4,
           0,
           2,
           1,
           5,
           4,
           0,
           4,
           0,
           0,
           2,
           1,
           2,
           7,
           1,
           0,
           2,
           0
          ],
          [
           7,
           7,
           0,
           0,
           0,
           5,
           5,
           0,
           9,
           0,
           0,
           2,
           1,
           4,
           3,
           0,
           0,
           3,
           0
          ],
          [
           4,
           5,
           1,
           3,
           1,
           7,
           9,
           0,
           3,
           0,
           0,
           1,
           0,
           6,
           4,
           4,
           3,
           4,
           0
          ],
          [
           9,
           7,
           0,
           6,
           2,
           12,
           11,
           3,
           9,
           0,
           0,
           5,
           4,
           8,
           10,
           2,
           2,
           8,
           1
          ],
          [
           13,
           6,
           1,
           3,
           1,
           8,
           8,
           1,
           11,
           0,
           1,
           7,
           1,
           4,
           6,
           2,
           1,
           9,
           2
          ],
          [
           8,
           4,
           1,
           6,
           5,
           10,
           12,
           3,
           7,
           0,
           2,
           2,
           1,
           9,
           6,
           4,
           2,
           5,
           1
          ],
          [
           12,
           8,
           1,
           4,
           0,
           14,
           11,
           6,
           9,
           0,
           0,
           5,
           1,
           11,
           10,
           3,
           3,
           9,
           0
          ],
          [
           12,
           12,
           0,
           3,
           4,
           18,
           20,
           4,
           7,
           2,
           0,
           3,
           3,
           22,
           5,
           5,
           3,
           13,
           0
          ],
          [
           15,
           11,
           0,
           5,
           2,
           21,
           23,
           4,
           8,
           0,
           1,
           4,
           8,
           20,
           10,
           7,
           1,
           9,
           0
          ],
          [
           18,
           17,
           0,
           5,
           1,
           23,
           28,
           7,
           16,
           0,
           0,
           9,
           8,
           23,
           12,
           6,
           4,
           12,
           0
          ],
          [
           24,
           12,
           0,
           4,
           0,
           33,
           31,
           6,
           18,
           0,
           0,
           7,
           11,
           36,
           20,
           13,
           2,
           11,
           1
          ],
          [
           24,
           10,
           0,
           6,
           5,
           38,
           33,
           11,
           14,
           0,
           1,
           6,
           5,
           30,
           17,
           4,
           4,
           16,
           0
          ],
          [
           19,
           13,
           0,
           3,
           3,
           39,
           32,
           10,
           17,
           2,
           0,
           3,
           7,
           42,
           13,
           10,
           2,
           11,
           0
          ],
          [
           28,
           11,
           0,
           7,
           1,
           52,
           46,
           15,
           17,
           1,
           1,
           10,
           13,
           63,
           18,
           16,
           3,
           27,
           0
          ],
          [
           33,
           16,
           0,
           2,
           5,
           39,
           45,
           13,
           31,
           3,
           0,
           7,
           15,
           45,
           14,
           10,
           2,
           35,
           0
          ],
          [
           40,
           22,
           0,
           6,
           5,
           65,
           54,
           19,
           38,
           5,
           0,
           6,
           13,
           55,
           13,
           28,
           6,
           33,
           1
          ],
          [
           45,
           21,
           0,
           4,
           4,
           59,
           52,
           29,
           46,
           7,
           1,
           8,
           19,
           56,
           18,
           19,
           6,
           40,
           2
          ],
          [
           51,
           28,
           0,
           9,
           2,
           85,
           72,
           22,
           51,
           4,
           1,
           8,
           19,
           81,
           11,
           27,
           2,
           40,
           2
          ],
          [
           56,
           24,
           0,
           5,
           5,
           98,
           60,
           29,
           45,
           9,
           1,
           9,
           23,
           98,
           19,
           30,
           7,
           46,
           0
          ],
          [
           52,
           21,
           0,
           3,
           3,
           85,
           63,
           30,
           37,
           11,
           0,
           8,
           19,
           104,
           22,
           28,
           8,
           43,
           3
          ],
          [
           68,
           23,
           1,
           5,
           7,
           100,
           54,
           34,
           44,
           9,
           0,
           17,
           25,
           82,
           28,
           28,
           0,
           53,
           2
          ],
          [
           62,
           27,
           0,
           4,
           8,
           89,
           66,
           34,
           40,
           6,
           2,
           17,
           28,
           102,
           29,
           27,
           4,
           54,
           1
          ],
          [
           82,
           16,
           1,
           3,
           7,
           107,
           81,
           33,
           54,
           10,
           0,
           12,
           25,
           113,
           36,
           38,
           4,
           78,
           2
          ],
          [
           79,
           27,
           0,
           3,
           8,
           100,
           57,
           23,
           63,
           10,
           0,
           12,
           21,
           91,
           29,
           37,
           3,
           53,
           1
          ],
          [
           44,
           11,
           0,
           4,
           10,
           91,
           44,
           13,
           34,
           6,
           2,
           12,
           18,
           71,
           19,
           39,
           2,
           51,
           4
          ],
          [
           37,
           13,
           0,
           5,
           10,
           75,
           41,
           14,
           39,
           5,
           2,
           12,
           12,
           55,
           16,
           36,
           1,
           43,
           1
          ],
          [
           35,
           22,
           0,
           4,
           9,
           70,
           43,
           9,
           41,
           9,
           1,
           6,
           12,
           58,
           15,
           27,
           5,
           42,
           4
          ],
          [
           35,
           16,
           0,
           4,
           11,
           102,
           52,
           20,
           43,
           22,
           1,
           9,
           19,
           70,
           20,
           46,
           1,
           45,
           1
          ],
          [
           30,
           20,
           0,
           4,
           11,
           92,
           50,
           11,
           49,
           25,
           4,
           5,
           7,
           75,
           13,
           48,
           3,
           29,
           3
          ],
          [
           26,
           18,
           0,
           2,
           17,
           74,
           40,
           10,
           40,
           10,
           0,
           4,
           14,
           69,
           15,
           41,
           3,
           27,
           3
          ],
          [
           20,
           5,
           0,
           1,
           5,
           64,
           19,
           7,
           25,
           5,
           0,
           6,
           6,
           44,
           5,
           21,
           3,
           19,
           1
          ],
          [
           14,
           10,
           0,
           3,
           1,
           27,
           14,
           2,
           18,
           5,
           1,
           0,
           2,
           26,
           7,
           12,
           1,
           7,
           2
          ],
          [
           4,
           1,
           0,
           0,
           0,
           3,
           3,
           0,
           2,
           0,
           0,
           0,
           4,
           4,
           2,
           0,
           0,
           2,
           0
          ]
         ]
        }
       ],
       "layout": {
        "template": {
         "data": {
          "bar": [
           {
            "error_x": {
             "color": "#2a3f5f"
            },
            "error_y": {
             "color": "#2a3f5f"
            },
            "marker": {
             "line": {
              "color": "#E5ECF6",
              "width": 0.5
             },
             "pattern": {
              "fillmode": "overlay",
              "size": 10,
              "solidity": 0.2
             }
            },
            "type": "bar"
           }
          ],
          "barpolar": [
           {
            "marker": {
             "line": {
              "color": "#E5ECF6",
              "width": 0.5
             },
             "pattern": {
              "fillmode": "overlay",
              "size": 10,
              "solidity": 0.2
             }
            },
            "type": "barpolar"
           }
          ],
          "carpet": [
           {
            "aaxis": {
             "endlinecolor": "#2a3f5f",
             "gridcolor": "white",
             "linecolor": "white",
             "minorgridcolor": "white",
             "startlinecolor": "#2a3f5f"
            },
            "baxis": {
             "endlinecolor": "#2a3f5f",
             "gridcolor": "white",
             "linecolor": "white",
             "minorgridcolor": "white",
             "startlinecolor": "#2a3f5f"
            },
            "type": "carpet"
           }
          ],
          "choropleth": [
           {
            "colorbar": {
             "outlinewidth": 0,
             "ticks": ""
            },
            "type": "choropleth"
           }
          ],
          "contour": [
           {
            "colorbar": {
             "outlinewidth": 0,
             "ticks": ""
            },
            "colorscale": [
             [
              0,
              "#0d0887"
             ],
             [
              0.1111111111111111,
              "#46039f"
             ],
             [
              0.2222222222222222,
              "#7201a8"
             ],
             [
              0.3333333333333333,
              "#9c179e"
             ],
             [
              0.4444444444444444,
              "#bd3786"
             ],
             [
              0.5555555555555556,
              "#d8576b"
             ],
             [
              0.6666666666666666,
              "#ed7953"
             ],
             [
              0.7777777777777778,
              "#fb9f3a"
             ],
             [
              0.8888888888888888,
              "#fdca26"
             ],
             [
              1,
              "#f0f921"
             ]
            ],
            "type": "contour"
           }
          ],
          "contourcarpet": [
           {
            "colorbar": {
             "outlinewidth": 0,
             "ticks": ""
            },
            "type": "contourcarpet"
           }
          ],
          "heatmap": [
           {
            "colorbar": {
             "outlinewidth": 0,
             "ticks": ""
            },
            "colorscale": [
             [
              0,
              "#0d0887"
             ],
             [
              0.1111111111111111,
              "#46039f"
             ],
             [
              0.2222222222222222,
              "#7201a8"
             ],
             [
              0.3333333333333333,
              "#9c179e"
             ],
             [
              0.4444444444444444,
              "#bd3786"
             ],
             [
              0.5555555555555556,
              "#d8576b"
             ],
             [
              0.6666666666666666,
              "#ed7953"
             ],
             [
              0.7777777777777778,
              "#fb9f3a"
             ],
             [
              0.8888888888888888,
              "#fdca26"
             ],
             [
              1,
              "#f0f921"
             ]
            ],
            "type": "heatmap"
           }
          ],
          "heatmapgl": [
           {
            "colorbar": {
             "outlinewidth": 0,
             "ticks": ""
            },
            "colorscale": [
             [
              0,
              "#0d0887"
             ],
             [
              0.1111111111111111,
              "#46039f"
             ],
             [
              0.2222222222222222,
              "#7201a8"
             ],
             [
              0.3333333333333333,
              "#9c179e"
             ],
             [
              0.4444444444444444,
              "#bd3786"
             ],
             [
              0.5555555555555556,
              "#d8576b"
             ],
             [
              0.6666666666666666,
              "#ed7953"
             ],
             [
              0.7777777777777778,
              "#fb9f3a"
             ],
             [
              0.8888888888888888,
              "#fdca26"
             ],
             [
              1,
              "#f0f921"
             ]
            ],
            "type": "heatmapgl"
           }
          ],
          "histogram": [
           {
            "marker": {
             "pattern": {
              "fillmode": "overlay",
              "size": 10,
              "solidity": 0.2
             }
            },
            "type": "histogram"
           }
          ],
          "histogram2d": [
           {
            "colorbar": {
             "outlinewidth": 0,
             "ticks": ""
            },
            "colorscale": [
             [
              0,
              "#0d0887"
             ],
             [
              0.1111111111111111,
              "#46039f"
             ],
             [
              0.2222222222222222,
              "#7201a8"
             ],
             [
              0.3333333333333333,
              "#9c179e"
             ],
             [
              0.4444444444444444,
              "#bd3786"
             ],
             [
              0.5555555555555556,
              "#d8576b"
             ],
             [
              0.6666666666666666,
              "#ed7953"
             ],
             [
              0.7777777777777778,
              "#fb9f3a"
             ],
             [
              0.8888888888888888,
              "#fdca26"
             ],
             [
              1,
              "#f0f921"
             ]
            ],
            "type": "histogram2d"
           }
          ],
          "histogram2dcontour": [
           {
            "colorbar": {
             "outlinewidth": 0,
             "ticks": ""
            },
            "colorscale": [
             [
              0,
              "#0d0887"
             ],
             [
              0.1111111111111111,
              "#46039f"
             ],
             [
              0.2222222222222222,
              "#7201a8"
             ],
             [
              0.3333333333333333,
              "#9c179e"
             ],
             [
              0.4444444444444444,
              "#bd3786"
             ],
             [
              0.5555555555555556,
              "#d8576b"
             ],
             [
              0.6666666666666666,
              "#ed7953"
             ],
             [
              0.7777777777777778,
              "#fb9f3a"
             ],
             [
              0.8888888888888888,
              "#fdca26"
             ],
             [
              1,
              "#f0f921"
             ]
            ],
            "type": "histogram2dcontour"
           }
          ],
          "mesh3d": [
           {
            "colorbar": {
             "outlinewidth": 0,
             "ticks": ""
            },
            "type": "mesh3d"
           }
          ],
          "parcoords": [
           {
            "line": {
             "colorbar": {
              "outlinewidth": 0,
              "ticks": ""
             }
            },
            "type": "parcoords"
           }
          ],
          "pie": [
           {
            "automargin": true,
            "type": "pie"
           }
          ],
          "scatter": [
           {
            "fillpattern": {
             "fillmode": "overlay",
             "size": 10,
             "solidity": 0.2
            },
            "type": "scatter"
           }
          ],
          "scatter3d": [
           {
            "line": {
             "colorbar": {
              "outlinewidth": 0,
              "ticks": ""
             }
            },
            "marker": {
             "colorbar": {
              "outlinewidth": 0,
              "ticks": ""
             }
            },
            "type": "scatter3d"
           }
          ],
          "scattercarpet": [
           {
            "marker": {
             "colorbar": {
              "outlinewidth": 0,
              "ticks": ""
             }
            },
            "type": "scattercarpet"
           }
          ],
          "scattergeo": [
           {
            "marker": {
             "colorbar": {
              "outlinewidth": 0,
              "ticks": ""
             }
            },
            "type": "scattergeo"
           }
          ],
          "scattergl": [
           {
            "marker": {
             "colorbar": {
              "outlinewidth": 0,
              "ticks": ""
             }
            },
            "type": "scattergl"
           }
          ],
          "scattermapbox": [
           {
            "marker": {
             "colorbar": {
              "outlinewidth": 0,
              "ticks": ""
             }
            },
            "type": "scattermapbox"
           }
          ],
          "scatterpolar": [
           {
            "marker": {
             "colorbar": {
              "outlinewidth": 0,
              "ticks": ""
             }
            },
            "type": "scatterpolar"
           }
          ],
          "scatterpolargl": [
           {
            "marker": {
             "colorbar": {
              "outlinewidth": 0,
              "ticks": ""
             }
            },
            "type": "scatterpolargl"
           }
          ],
          "scatterternary": [
           {
            "marker": {
             "colorbar": {
              "outlinewidth": 0,
              "ticks": ""
             }
            },
            "type": "scatterternary"
           }
          ],
          "surface": [
           {
            "colorbar": {
             "outlinewidth": 0,
             "ticks": ""
            },
            "colorscale": [
             [
              0,
              "#0d0887"
             ],
             [
              0.1111111111111111,
              "#46039f"
             ],
             [
              0.2222222222222222,
              "#7201a8"
             ],
             [
              0.3333333333333333,
              "#9c179e"
             ],
             [
              0.4444444444444444,
              "#bd3786"
             ],
             [
              0.5555555555555556,
              "#d8576b"
             ],
             [
              0.6666666666666666,
              "#ed7953"
             ],
             [
              0.7777777777777778,
              "#fb9f3a"
             ],
             [
              0.8888888888888888,
              "#fdca26"
             ],
             [
              1,
              "#f0f921"
             ]
            ],
            "type": "surface"
           }
          ],
          "table": [
           {
            "cells": {
             "fill": {
              "color": "#EBF0F8"
             },
             "line": {
              "color": "white"
             }
            },
            "header": {
             "fill": {
              "color": "#C8D4E3"
             },
             "line": {
              "color": "white"
             }
            },
            "type": "table"
           }
          ]
         },
         "layout": {
          "annotationdefaults": {
           "arrowcolor": "#2a3f5f",
           "arrowhead": 0,
           "arrowwidth": 1
          },
          "autotypenumbers": "strict",
          "coloraxis": {
           "colorbar": {
            "outlinewidth": 0,
            "ticks": ""
           }
          },
          "colorscale": {
           "diverging": [
            [
             0,
             "#8e0152"
            ],
            [
             0.1,
             "#c51b7d"
            ],
            [
             0.2,
             "#de77ae"
            ],
            [
             0.3,
             "#f1b6da"
            ],
            [
             0.4,
             "#fde0ef"
            ],
            [
             0.5,
             "#f7f7f7"
            ],
            [
             0.6,
             "#e6f5d0"
            ],
            [
             0.7,
             "#b8e186"
            ],
            [
             0.8,
             "#7fbc41"
            ],
            [
             0.9,
             "#4d9221"
            ],
            [
             1,
             "#276419"
            ]
           ],
           "sequential": [
            [
             0,
             "#0d0887"
            ],
            [
             0.1111111111111111,
             "#46039f"
            ],
            [
             0.2222222222222222,
             "#7201a8"
            ],
            [
             0.3333333333333333,
             "#9c179e"
            ],
            [
             0.4444444444444444,
             "#bd3786"
            ],
            [
             0.5555555555555556,
             "#d8576b"
            ],
            [
             0.6666666666666666,
             "#ed7953"
            ],
            [
             0.7777777777777778,
             "#fb9f3a"
            ],
            [
             0.8888888888888888,
             "#fdca26"
            ],
            [
             1,
             "#f0f921"
            ]
           ],
           "sequentialminus": [
            [
             0,
             "#0d0887"
            ],
            [
             0.1111111111111111,
             "#46039f"
            ],
            [
             0.2222222222222222,
             "#7201a8"
            ],
            [
             0.3333333333333333,
             "#9c179e"
            ],
            [
             0.4444444444444444,
             "#bd3786"
            ],
            [
             0.5555555555555556,
             "#d8576b"
            ],
            [
             0.6666666666666666,
             "#ed7953"
            ],
            [
             0.7777777777777778,
             "#fb9f3a"
            ],
            [
             0.8888888888888888,
             "#fdca26"
            ],
            [
             1,
             "#f0f921"
            ]
           ]
          },
          "colorway": [
           "#636efa",
           "#EF553B",
           "#00cc96",
           "#ab63fa",
           "#FFA15A",
           "#19d3f3",
           "#FF6692",
           "#B6E880",
           "#FF97FF",
           "#FECB52"
          ],
          "font": {
           "color": "#2a3f5f"
          },
          "geo": {
           "bgcolor": "white",
           "lakecolor": "white",
           "landcolor": "#E5ECF6",
           "showlakes": true,
           "showland": true,
           "subunitcolor": "white"
          },
          "hoverlabel": {
           "align": "left"
          },
          "hovermode": "closest",
          "mapbox": {
           "style": "light"
          },
          "paper_bgcolor": "white",
          "plot_bgcolor": "#E5ECF6",
          "polar": {
           "angularaxis": {
            "gridcolor": "white",
            "linecolor": "white",
            "ticks": ""
           },
           "bgcolor": "#E5ECF6",
           "radialaxis": {
            "gridcolor": "white",
            "linecolor": "white",
            "ticks": ""
           }
          },
          "scene": {
           "xaxis": {
            "backgroundcolor": "#E5ECF6",
            "gridcolor": "white",
            "gridwidth": 2,
            "linecolor": "white",
            "showbackground": true,
            "ticks": "",
            "zerolinecolor": "white"
           },
           "yaxis": {
            "backgroundcolor": "#E5ECF6",
            "gridcolor": "white",
            "gridwidth": 2,
            "linecolor": "white",
            "showbackground": true,
            "ticks": "",
            "zerolinecolor": "white"
           },
           "zaxis": {
            "backgroundcolor": "#E5ECF6",
            "gridcolor": "white",
            "gridwidth": 2,
            "linecolor": "white",
            "showbackground": true,
            "ticks": "",
            "zerolinecolor": "white"
           }
          },
          "shapedefaults": {
           "line": {
            "color": "#2a3f5f"
           }
          },
          "ternary": {
           "aaxis": {
            "gridcolor": "white",
            "linecolor": "white",
            "ticks": ""
           },
           "baxis": {
            "gridcolor": "white",
            "linecolor": "white",
            "ticks": ""
           },
           "bgcolor": "#E5ECF6",
           "caxis": {
            "gridcolor": "white",
            "linecolor": "white",
            "ticks": ""
           }
          },
          "title": {
           "x": 0.05
          },
          "xaxis": {
           "automargin": true,
           "gridcolor": "white",
           "linecolor": "white",
           "ticks": "",
           "title": {
            "standoff": 15
           },
           "zerolinecolor": "white",
           "zerolinewidth": 2
          },
          "yaxis": {
           "automargin": true,
           "gridcolor": "white",
           "linecolor": "white",
           "ticks": "",
           "title": {
            "standoff": 15
           },
           "zerolinecolor": "white",
           "zerolinewidth": 2
          }
         }
        },
        "title": {
         "text": "Genre Count by Year - Heatmap"
        },
        "xaxis": {
         "title": {
          "text": "Genres"
         }
        },
        "yaxis": {
         "title": {
          "text": "Year"
         }
        }
       }
      },
      "text/html": [
       "<div>                            <div id=\"fba36e78-a0b6-48dd-a095-c1c2060e1fb8\" class=\"plotly-graph-div\" style=\"height:525px; width:100%;\"></div>            <script type=\"text/javascript\">                require([\"plotly\"], function(Plotly) {                    window.PLOTLYENV=window.PLOTLYENV || {};                                    if (document.getElementById(\"fba36e78-a0b6-48dd-a095-c1c2060e1fb8\")) {                    Plotly.newPlot(                        \"fba36e78-a0b6-48dd-a095-c1c2060e1fb8\",                        [{\"colorscale\":[[0.0,\"rgb(247,251,255)\"],[0.125,\"rgb(222,235,247)\"],[0.25,\"rgb(198,219,239)\"],[0.375,\"rgb(158,202,225)\"],[0.5,\"rgb(107,174,214)\"],[0.625,\"rgb(66,146,198)\"],[0.75,\"rgb(33,113,181)\"],[0.875,\"rgb(8,81,156)\"],[1.0,\"rgb(8,48,107)\"]],\"x\":[\"Action\",\"Adventure\",\"Avant Garde\",\"Award Winning\",\"Boys Love\",\"Comedy\",\"Drama\",\"Ecchi\",\"Fantasy\",\"Girls Love\",\"Gourmet\",\"Horror\",\"Mystery\",\"Romance\",\"Sci-Fi\",\"Slice of Life\",\"Sports\",\"Supernatural\",\"Suspense\"],\"y\":[\"1951\",\"1953\",\"1956\",\"1957\",\"1960\",\"1961\",\"1966\",\"1967\",\"1968\",\"1969\",\"1970\",\"1971\",\"1972\",\"1973\",\"1974\",\"1975\",\"1976\",\"1977\",\"1978\",\"1979\",\"1980\",\"1981\",\"1982\",\"1983\",\"1984\",\"1985\",\"1986\",\"1987\",\"1988\",\"1989\",\"1990\",\"1991\",\"1992\",\"1993\",\"1994\",\"1995\",\"1996\",\"1997\",\"1998\",\"1999\",\"2000\",\"2001\",\"2002\",\"2003\",\"2004\",\"2005\",\"2006\",\"2007\",\"2008\",\"2009\",\"2010\",\"2011\",\"2012\",\"2013\",\"2014\",\"2015\",\"2016\",\"2017\",\"2018\",\"2019\",\"2020\",\"2021\",\"2022\",\"2023\"],\"z\":[[0.0,1.0,0.0,0.0,0.0,0.0,0.0,0.0,0.0,0.0,0.0,0.0,0.0,0.0,1.0,0.0,0.0,0.0,0.0],[1.0,1.0,0.0,0.0,0.0,0.0,1.0,0.0,1.0,0.0,0.0,0.0,0.0,1.0,0.0,0.0,0.0,0.0,0.0],[1.0,2.0,0.0,0.0,0.0,0.0,2.0,0.0,2.0,0.0,0.0,0.0,0.0,1.0,1.0,0.0,0.0,0.0,0.0],[0.0,0.0,0.0,0.0,0.0,0.0,1.0,0.0,1.0,0.0,0.0,0.0,0.0,0.0,0.0,0.0,0.0,0.0,0.0],[1.0,0.0,0.0,0.0,0.0,0.0,0.0,0.0,0.0,0.0,0.0,0.0,0.0,0.0,1.0,0.0,0.0,0.0,0.0],[1.0,0.0,0.0,0.0,0.0,0.0,0.0,0.0,0.0,0.0,0.0,0.0,0.0,0.0,1.0,0.0,0.0,0.0,0.0],[0.0,1.0,1.0,0.0,0.0,0.0,1.0,0.0,1.0,0.0,0.0,0.0,0.0,0.0,1.0,0.0,0.0,0.0,0.0],[1.0,1.0,0.0,0.0,0.0,1.0,1.0,0.0,0.0,0.0,0.0,0.0,1.0,0.0,0.0,0.0,0.0,0.0,0.0],[1.0,1.0,0.0,0.0,0.0,0.0,1.0,0.0,0.0,0.0,0.0,0.0,1.0,0.0,2.0,1.0,1.0,0.0,0.0],[3.0,3.0,0.0,0.0,0.0,0.0,1.0,0.0,1.0,0.0,0.0,0.0,1.0,0.0,2.0,0.0,0.0,0.0,0.0],[2.0,2.0,0.0,0.0,0.0,0.0,1.0,0.0,1.0,0.0,0.0,0.0,0.0,0.0,1.0,0.0,0.0,0.0,0.0],[2.0,1.0,1.0,0.0,0.0,0.0,1.0,0.0,3.0,0.0,0.0,0.0,0.0,0.0,0.0,0.0,0.0,0.0,0.0],[4.0,2.0,0.0,0.0,0.0,2.0,3.0,1.0,0.0,0.0,0.0,0.0,1.0,0.0,0.0,0.0,0.0,0.0,0.0],[4.0,0.0,0.0,0.0,0.0,0.0,3.0,1.0,1.0,0.0,0.0,0.0,0.0,0.0,3.0,1.0,1.0,0.0,0.0],[2.0,1.0,0.0,0.0,2.0,1.0,3.0,1.0,1.0,0.0,0.0,1.0,0.0,0.0,2.0,1.0,0.0,0.0,0.0],[6.0,2.0,0.0,1.0,0.0,2.0,1.0,2.0,1.0,0.0,0.0,1.0,0.0,1.0,4.0,0.0,0.0,0.0,0.0],[1.0,1.0,0.0,0.0,0.0,0.0,2.0,0.0,0.0,0.0,0.0,0.0,1.0,0.0,1.0,0.0,0.0,0.0,0.0],[2.0,1.0,0.0,1.0,0.0,3.0,1.0,0.0,0.0,0.0,0.0,0.0,2.0,1.0,3.0,1.0,0.0,0.0,0.0],[0.0,1.0,0.0,1.0,0.0,0.0,0.0,0.0,2.0,0.0,0.0,0.0,0.0,1.0,0.0,0.0,0.0,0.0,0.0],[2.0,0.0,0.0,1.0,0.0,0.0,3.0,0.0,0.0,0.0,0.0,0.0,0.0,1.0,1.0,0.0,0.0,1.0,0.0],[0.0,0.0,0.0,1.0,0.0,1.0,3.0,0.0,0.0,0.0,0.0,1.0,0.0,2.0,1.0,0.0,0.0,1.0,0.0],[3.0,0.0,0.0,2.0,0.0,2.0,4.0,0.0,0.0,0.0,0.0,1.0,2.0,2.0,1.0,0.0,0.0,2.0,0.0],[1.0,0.0,0.0,1.0,0.0,0.0,0.0,0.0,0.0,0.0,0.0,0.0,0.0,0.0,1.0,0.0,0.0,0.0,0.0],[1.0,0.0,0.0,0.0,0.0,1.0,0.0,0.0,0.0,0.0,0.0,2.0,2.0,0.0,0.0,0.0,1.0,2.0,0.0],[1.0,0.0,0.0,2.0,0.0,2.0,0.0,0.0,1.0,0.0,0.0,1.0,0.0,3.0,0.0,2.0,0.0,2.0,0.0],[7.0,4.0,0.0,0.0,0.0,5.0,2.0,0.0,1.0,0.0,0.0,0.0,1.0,1.0,4.0,0.0,1.0,0.0,0.0],[7.0,2.0,0.0,1.0,0.0,3.0,3.0,1.0,0.0,0.0,0.0,0.0,1.0,3.0,4.0,1.0,0.0,0.0,0.0],[5.0,4.0,0.0,0.0,0.0,6.0,4.0,2.0,3.0,0.0,0.0,1.0,0.0,5.0,1.0,2.0,1.0,3.0,1.0],[6.0,3.0,1.0,2.0,1.0,4.0,3.0,1.0,0.0,0.0,0.0,2.0,1.0,6.0,5.0,1.0,0.0,3.0,1.0],[7.0,4.0,1.0,1.0,1.0,4.0,4.0,1.0,0.0,0.0,0.0,1.0,0.0,1.0,4.0,0.0,1.0,1.0,0.0],[9.0,6.0,0.0,4.0,0.0,5.0,6.0,2.0,7.0,0.0,0.0,1.0,3.0,4.0,7.0,1.0,1.0,0.0,0.0],[7.0,4.0,0.0,2.0,1.0,5.0,4.0,0.0,4.0,0.0,0.0,2.0,1.0,2.0,7.0,1.0,0.0,2.0,0.0],[7.0,7.0,0.0,0.0,0.0,5.0,5.0,0.0,9.0,0.0,0.0,2.0,1.0,4.0,3.0,0.0,0.0,3.0,0.0],[4.0,5.0,1.0,3.0,1.0,7.0,9.0,0.0,3.0,0.0,0.0,1.0,0.0,6.0,4.0,4.0,3.0,4.0,0.0],[9.0,7.0,0.0,6.0,2.0,12.0,11.0,3.0,9.0,0.0,0.0,5.0,4.0,8.0,10.0,2.0,2.0,8.0,1.0],[13.0,6.0,1.0,3.0,1.0,8.0,8.0,1.0,11.0,0.0,1.0,7.0,1.0,4.0,6.0,2.0,1.0,9.0,2.0],[8.0,4.0,1.0,6.0,5.0,10.0,12.0,3.0,7.0,0.0,2.0,2.0,1.0,9.0,6.0,4.0,2.0,5.0,1.0],[12.0,8.0,1.0,4.0,0.0,14.0,11.0,6.0,9.0,0.0,0.0,5.0,1.0,11.0,10.0,3.0,3.0,9.0,0.0],[12.0,12.0,0.0,3.0,4.0,18.0,20.0,4.0,7.0,2.0,0.0,3.0,3.0,22.0,5.0,5.0,3.0,13.0,0.0],[15.0,11.0,0.0,5.0,2.0,21.0,23.0,4.0,8.0,0.0,1.0,4.0,8.0,20.0,10.0,7.0,1.0,9.0,0.0],[18.0,17.0,0.0,5.0,1.0,23.0,28.0,7.0,16.0,0.0,0.0,9.0,8.0,23.0,12.0,6.0,4.0,12.0,0.0],[24.0,12.0,0.0,4.0,0.0,33.0,31.0,6.0,18.0,0.0,0.0,7.0,11.0,36.0,20.0,13.0,2.0,11.0,1.0],[24.0,10.0,0.0,6.0,5.0,38.0,33.0,11.0,14.0,0.0,1.0,6.0,5.0,30.0,17.0,4.0,4.0,16.0,0.0],[19.0,13.0,0.0,3.0,3.0,39.0,32.0,10.0,17.0,2.0,0.0,3.0,7.0,42.0,13.0,10.0,2.0,11.0,0.0],[28.0,11.0,0.0,7.0,1.0,52.0,46.0,15.0,17.0,1.0,1.0,10.0,13.0,63.0,18.0,16.0,3.0,27.0,0.0],[33.0,16.0,0.0,2.0,5.0,39.0,45.0,13.0,31.0,3.0,0.0,7.0,15.0,45.0,14.0,10.0,2.0,35.0,0.0],[40.0,22.0,0.0,6.0,5.0,65.0,54.0,19.0,38.0,5.0,0.0,6.0,13.0,55.0,13.0,28.0,6.0,33.0,1.0],[45.0,21.0,0.0,4.0,4.0,59.0,52.0,29.0,46.0,7.0,1.0,8.0,19.0,56.0,18.0,19.0,6.0,40.0,2.0],[51.0,28.0,0.0,9.0,2.0,85.0,72.0,22.0,51.0,4.0,1.0,8.0,19.0,81.0,11.0,27.0,2.0,40.0,2.0],[56.0,24.0,0.0,5.0,5.0,98.0,60.0,29.0,45.0,9.0,1.0,9.0,23.0,98.0,19.0,30.0,7.0,46.0,0.0],[52.0,21.0,0.0,3.0,3.0,85.0,63.0,30.0,37.0,11.0,0.0,8.0,19.0,104.0,22.0,28.0,8.0,43.0,3.0],[68.0,23.0,1.0,5.0,7.0,100.0,54.0,34.0,44.0,9.0,0.0,17.0,25.0,82.0,28.0,28.0,0.0,53.0,2.0],[62.0,27.0,0.0,4.0,8.0,89.0,66.0,34.0,40.0,6.0,2.0,17.0,28.0,102.0,29.0,27.0,4.0,54.0,1.0],[82.0,16.0,1.0,3.0,7.0,107.0,81.0,33.0,54.0,10.0,0.0,12.0,25.0,113.0,36.0,38.0,4.0,78.0,2.0],[79.0,27.0,0.0,3.0,8.0,100.0,57.0,23.0,63.0,10.0,0.0,12.0,21.0,91.0,29.0,37.0,3.0,53.0,1.0],[44.0,11.0,0.0,4.0,10.0,91.0,44.0,13.0,34.0,6.0,2.0,12.0,18.0,71.0,19.0,39.0,2.0,51.0,4.0],[37.0,13.0,0.0,5.0,10.0,75.0,41.0,14.0,39.0,5.0,2.0,12.0,12.0,55.0,16.0,36.0,1.0,43.0,1.0],[35.0,22.0,0.0,4.0,9.0,70.0,43.0,9.0,41.0,9.0,1.0,6.0,12.0,58.0,15.0,27.0,5.0,42.0,4.0],[35.0,16.0,0.0,4.0,11.0,102.0,52.0,20.0,43.0,22.0,1.0,9.0,19.0,70.0,20.0,46.0,1.0,45.0,1.0],[30.0,20.0,0.0,4.0,11.0,92.0,50.0,11.0,49.0,25.0,4.0,5.0,7.0,75.0,13.0,48.0,3.0,29.0,3.0],[26.0,18.0,0.0,2.0,17.0,74.0,40.0,10.0,40.0,10.0,0.0,4.0,14.0,69.0,15.0,41.0,3.0,27.0,3.0],[20.0,5.0,0.0,1.0,5.0,64.0,19.0,7.0,25.0,5.0,0.0,6.0,6.0,44.0,5.0,21.0,3.0,19.0,1.0],[14.0,10.0,0.0,3.0,1.0,27.0,14.0,2.0,18.0,5.0,1.0,0.0,2.0,26.0,7.0,12.0,1.0,7.0,2.0],[4.0,1.0,0.0,0.0,0.0,3.0,3.0,0.0,2.0,0.0,0.0,0.0,4.0,4.0,2.0,0.0,0.0,2.0,0.0]],\"type\":\"heatmap\"}],                        {\"title\":{\"text\":\"Genre Count by Year - Heatmap\"},\"xaxis\":{\"title\":{\"text\":\"Genres\"}},\"yaxis\":{\"title\":{\"text\":\"Year\"}},\"template\":{\"data\":{\"histogram2dcontour\":[{\"type\":\"histogram2dcontour\",\"colorbar\":{\"outlinewidth\":0,\"ticks\":\"\"},\"colorscale\":[[0.0,\"#0d0887\"],[0.1111111111111111,\"#46039f\"],[0.2222222222222222,\"#7201a8\"],[0.3333333333333333,\"#9c179e\"],[0.4444444444444444,\"#bd3786\"],[0.5555555555555556,\"#d8576b\"],[0.6666666666666666,\"#ed7953\"],[0.7777777777777778,\"#fb9f3a\"],[0.8888888888888888,\"#fdca26\"],[1.0,\"#f0f921\"]]}],\"choropleth\":[{\"type\":\"choropleth\",\"colorbar\":{\"outlinewidth\":0,\"ticks\":\"\"}}],\"histogram2d\":[{\"type\":\"histogram2d\",\"colorbar\":{\"outlinewidth\":0,\"ticks\":\"\"},\"colorscale\":[[0.0,\"#0d0887\"],[0.1111111111111111,\"#46039f\"],[0.2222222222222222,\"#7201a8\"],[0.3333333333333333,\"#9c179e\"],[0.4444444444444444,\"#bd3786\"],[0.5555555555555556,\"#d8576b\"],[0.6666666666666666,\"#ed7953\"],[0.7777777777777778,\"#fb9f3a\"],[0.8888888888888888,\"#fdca26\"],[1.0,\"#f0f921\"]]}],\"heatmap\":[{\"type\":\"heatmap\",\"colorbar\":{\"outlinewidth\":0,\"ticks\":\"\"},\"colorscale\":[[0.0,\"#0d0887\"],[0.1111111111111111,\"#46039f\"],[0.2222222222222222,\"#7201a8\"],[0.3333333333333333,\"#9c179e\"],[0.4444444444444444,\"#bd3786\"],[0.5555555555555556,\"#d8576b\"],[0.6666666666666666,\"#ed7953\"],[0.7777777777777778,\"#fb9f3a\"],[0.8888888888888888,\"#fdca26\"],[1.0,\"#f0f921\"]]}],\"heatmapgl\":[{\"type\":\"heatmapgl\",\"colorbar\":{\"outlinewidth\":0,\"ticks\":\"\"},\"colorscale\":[[0.0,\"#0d0887\"],[0.1111111111111111,\"#46039f\"],[0.2222222222222222,\"#7201a8\"],[0.3333333333333333,\"#9c179e\"],[0.4444444444444444,\"#bd3786\"],[0.5555555555555556,\"#d8576b\"],[0.6666666666666666,\"#ed7953\"],[0.7777777777777778,\"#fb9f3a\"],[0.8888888888888888,\"#fdca26\"],[1.0,\"#f0f921\"]]}],\"contourcarpet\":[{\"type\":\"contourcarpet\",\"colorbar\":{\"outlinewidth\":0,\"ticks\":\"\"}}],\"contour\":[{\"type\":\"contour\",\"colorbar\":{\"outlinewidth\":0,\"ticks\":\"\"},\"colorscale\":[[0.0,\"#0d0887\"],[0.1111111111111111,\"#46039f\"],[0.2222222222222222,\"#7201a8\"],[0.3333333333333333,\"#9c179e\"],[0.4444444444444444,\"#bd3786\"],[0.5555555555555556,\"#d8576b\"],[0.6666666666666666,\"#ed7953\"],[0.7777777777777778,\"#fb9f3a\"],[0.8888888888888888,\"#fdca26\"],[1.0,\"#f0f921\"]]}],\"surface\":[{\"type\":\"surface\",\"colorbar\":{\"outlinewidth\":0,\"ticks\":\"\"},\"colorscale\":[[0.0,\"#0d0887\"],[0.1111111111111111,\"#46039f\"],[0.2222222222222222,\"#7201a8\"],[0.3333333333333333,\"#9c179e\"],[0.4444444444444444,\"#bd3786\"],[0.5555555555555556,\"#d8576b\"],[0.6666666666666666,\"#ed7953\"],[0.7777777777777778,\"#fb9f3a\"],[0.8888888888888888,\"#fdca26\"],[1.0,\"#f0f921\"]]}],\"mesh3d\":[{\"type\":\"mesh3d\",\"colorbar\":{\"outlinewidth\":0,\"ticks\":\"\"}}],\"scatter\":[{\"fillpattern\":{\"fillmode\":\"overlay\",\"size\":10,\"solidity\":0.2},\"type\":\"scatter\"}],\"parcoords\":[{\"type\":\"parcoords\",\"line\":{\"colorbar\":{\"outlinewidth\":0,\"ticks\":\"\"}}}],\"scatterpolargl\":[{\"type\":\"scatterpolargl\",\"marker\":{\"colorbar\":{\"outlinewidth\":0,\"ticks\":\"\"}}}],\"bar\":[{\"error_x\":{\"color\":\"#2a3f5f\"},\"error_y\":{\"color\":\"#2a3f5f\"},\"marker\":{\"line\":{\"color\":\"#E5ECF6\",\"width\":0.5},\"pattern\":{\"fillmode\":\"overlay\",\"size\":10,\"solidity\":0.2}},\"type\":\"bar\"}],\"scattergeo\":[{\"type\":\"scattergeo\",\"marker\":{\"colorbar\":{\"outlinewidth\":0,\"ticks\":\"\"}}}],\"scatterpolar\":[{\"type\":\"scatterpolar\",\"marker\":{\"colorbar\":{\"outlinewidth\":0,\"ticks\":\"\"}}}],\"histogram\":[{\"marker\":{\"pattern\":{\"fillmode\":\"overlay\",\"size\":10,\"solidity\":0.2}},\"type\":\"histogram\"}],\"scattergl\":[{\"type\":\"scattergl\",\"marker\":{\"colorbar\":{\"outlinewidth\":0,\"ticks\":\"\"}}}],\"scatter3d\":[{\"type\":\"scatter3d\",\"line\":{\"colorbar\":{\"outlinewidth\":0,\"ticks\":\"\"}},\"marker\":{\"colorbar\":{\"outlinewidth\":0,\"ticks\":\"\"}}}],\"scattermapbox\":[{\"type\":\"scattermapbox\",\"marker\":{\"colorbar\":{\"outlinewidth\":0,\"ticks\":\"\"}}}],\"scatterternary\":[{\"type\":\"scatterternary\",\"marker\":{\"colorbar\":{\"outlinewidth\":0,\"ticks\":\"\"}}}],\"scattercarpet\":[{\"type\":\"scattercarpet\",\"marker\":{\"colorbar\":{\"outlinewidth\":0,\"ticks\":\"\"}}}],\"carpet\":[{\"aaxis\":{\"endlinecolor\":\"#2a3f5f\",\"gridcolor\":\"white\",\"linecolor\":\"white\",\"minorgridcolor\":\"white\",\"startlinecolor\":\"#2a3f5f\"},\"baxis\":{\"endlinecolor\":\"#2a3f5f\",\"gridcolor\":\"white\",\"linecolor\":\"white\",\"minorgridcolor\":\"white\",\"startlinecolor\":\"#2a3f5f\"},\"type\":\"carpet\"}],\"table\":[{\"cells\":{\"fill\":{\"color\":\"#EBF0F8\"},\"line\":{\"color\":\"white\"}},\"header\":{\"fill\":{\"color\":\"#C8D4E3\"},\"line\":{\"color\":\"white\"}},\"type\":\"table\"}],\"barpolar\":[{\"marker\":{\"line\":{\"color\":\"#E5ECF6\",\"width\":0.5},\"pattern\":{\"fillmode\":\"overlay\",\"size\":10,\"solidity\":0.2}},\"type\":\"barpolar\"}],\"pie\":[{\"automargin\":true,\"type\":\"pie\"}]},\"layout\":{\"autotypenumbers\":\"strict\",\"colorway\":[\"#636efa\",\"#EF553B\",\"#00cc96\",\"#ab63fa\",\"#FFA15A\",\"#19d3f3\",\"#FF6692\",\"#B6E880\",\"#FF97FF\",\"#FECB52\"],\"font\":{\"color\":\"#2a3f5f\"},\"hovermode\":\"closest\",\"hoverlabel\":{\"align\":\"left\"},\"paper_bgcolor\":\"white\",\"plot_bgcolor\":\"#E5ECF6\",\"polar\":{\"bgcolor\":\"#E5ECF6\",\"angularaxis\":{\"gridcolor\":\"white\",\"linecolor\":\"white\",\"ticks\":\"\"},\"radialaxis\":{\"gridcolor\":\"white\",\"linecolor\":\"white\",\"ticks\":\"\"}},\"ternary\":{\"bgcolor\":\"#E5ECF6\",\"aaxis\":{\"gridcolor\":\"white\",\"linecolor\":\"white\",\"ticks\":\"\"},\"baxis\":{\"gridcolor\":\"white\",\"linecolor\":\"white\",\"ticks\":\"\"},\"caxis\":{\"gridcolor\":\"white\",\"linecolor\":\"white\",\"ticks\":\"\"}},\"coloraxis\":{\"colorbar\":{\"outlinewidth\":0,\"ticks\":\"\"}},\"colorscale\":{\"sequential\":[[0.0,\"#0d0887\"],[0.1111111111111111,\"#46039f\"],[0.2222222222222222,\"#7201a8\"],[0.3333333333333333,\"#9c179e\"],[0.4444444444444444,\"#bd3786\"],[0.5555555555555556,\"#d8576b\"],[0.6666666666666666,\"#ed7953\"],[0.7777777777777778,\"#fb9f3a\"],[0.8888888888888888,\"#fdca26\"],[1.0,\"#f0f921\"]],\"sequentialminus\":[[0.0,\"#0d0887\"],[0.1111111111111111,\"#46039f\"],[0.2222222222222222,\"#7201a8\"],[0.3333333333333333,\"#9c179e\"],[0.4444444444444444,\"#bd3786\"],[0.5555555555555556,\"#d8576b\"],[0.6666666666666666,\"#ed7953\"],[0.7777777777777778,\"#fb9f3a\"],[0.8888888888888888,\"#fdca26\"],[1.0,\"#f0f921\"]],\"diverging\":[[0,\"#8e0152\"],[0.1,\"#c51b7d\"],[0.2,\"#de77ae\"],[0.3,\"#f1b6da\"],[0.4,\"#fde0ef\"],[0.5,\"#f7f7f7\"],[0.6,\"#e6f5d0\"],[0.7,\"#b8e186\"],[0.8,\"#7fbc41\"],[0.9,\"#4d9221\"],[1,\"#276419\"]]},\"xaxis\":{\"gridcolor\":\"white\",\"linecolor\":\"white\",\"ticks\":\"\",\"title\":{\"standoff\":15},\"zerolinecolor\":\"white\",\"automargin\":true,\"zerolinewidth\":2},\"yaxis\":{\"gridcolor\":\"white\",\"linecolor\":\"white\",\"ticks\":\"\",\"title\":{\"standoff\":15},\"zerolinecolor\":\"white\",\"automargin\":true,\"zerolinewidth\":2},\"scene\":{\"xaxis\":{\"backgroundcolor\":\"#E5ECF6\",\"gridcolor\":\"white\",\"linecolor\":\"white\",\"showbackground\":true,\"ticks\":\"\",\"zerolinecolor\":\"white\",\"gridwidth\":2},\"yaxis\":{\"backgroundcolor\":\"#E5ECF6\",\"gridcolor\":\"white\",\"linecolor\":\"white\",\"showbackground\":true,\"ticks\":\"\",\"zerolinecolor\":\"white\",\"gridwidth\":2},\"zaxis\":{\"backgroundcolor\":\"#E5ECF6\",\"gridcolor\":\"white\",\"linecolor\":\"white\",\"showbackground\":true,\"ticks\":\"\",\"zerolinecolor\":\"white\",\"gridwidth\":2}},\"shapedefaults\":{\"line\":{\"color\":\"#2a3f5f\"}},\"annotationdefaults\":{\"arrowcolor\":\"#2a3f5f\",\"arrowhead\":0,\"arrowwidth\":1},\"geo\":{\"bgcolor\":\"white\",\"landcolor\":\"#E5ECF6\",\"subunitcolor\":\"white\",\"showland\":true,\"showlakes\":true,\"lakecolor\":\"white\"},\"title\":{\"x\":0.05},\"mapbox\":{\"style\":\"light\"}}}},                        {\"responsive\": true}                    ).then(function(){\n",
       "                            \n",
       "var gd = document.getElementById('fba36e78-a0b6-48dd-a095-c1c2060e1fb8');\n",
       "var x = new MutationObserver(function (mutations, observer) {{\n",
       "        var display = window.getComputedStyle(gd).display;\n",
       "        if (!display || display === 'none') {{\n",
       "            console.log([gd, 'removed!']);\n",
       "            Plotly.purge(gd);\n",
       "            observer.disconnect();\n",
       "        }}\n",
       "}});\n",
       "\n",
       "// Listen for the removal of the full notebook cells\n",
       "var notebookContainer = gd.closest('#notebook-container');\n",
       "if (notebookContainer) {{\n",
       "    x.observe(notebookContainer, {childList: true});\n",
       "}}\n",
       "\n",
       "// Listen for the clearing of the current output cell\n",
       "var outputEl = gd.closest('.output');\n",
       "if (outputEl) {{\n",
       "    x.observe(outputEl, {childList: true});\n",
       "}}\n",
       "\n",
       "                        })                };                });            </script>        </div>"
      ]
     },
     "metadata": {},
     "output_type": "display_data"
    }
   ],
   "source": [
    "# HEATMAP - INTERACTIVE\n",
    "heatmap = go.Heatmap(\n",
    "    x=df_ex_combined.columns,\n",
    "    y=df_ex_combined.index,\n",
    "    z=df_ex_combined.values,\n",
    "    colorscale='Blues'\n",
    ")\n",
    "\n",
    "layout = go.Layout(\n",
    "    xaxis=dict(title='Genres'),\n",
    "    yaxis=dict(title='Year'),\n",
    "    title='Genre Count by Year - Heatmap'\n",
    ")\n",
    "\n",
    "fig = go.Figure(data=[heatmap], layout=layout)\n",
    "\n",
    "fig.show()"
   ]
  },
  {
   "cell_type": "code",
   "execution_count": 231,
   "id": "c4d337e7",
   "metadata": {},
   "outputs": [
    {
     "data": {
      "application/vnd.plotly.v1+json": {
       "config": {
        "plotlyServerURL": "https://plot.ly"
       },
       "data": [
        {
         "mode": "lines+markers",
         "name": "Action",
         "type": "scatter",
         "x": [
          "1951",
          "1953",
          "1956",
          "1957",
          "1960",
          "1961",
          "1966",
          "1967",
          "1968",
          "1969",
          "1970",
          "1971",
          "1972",
          "1973",
          "1974",
          "1975",
          "1976",
          "1977",
          "1978",
          "1979",
          "1980",
          "1981",
          "1982",
          "1983",
          "1984",
          "1985",
          "1986",
          "1987",
          "1988",
          "1989",
          "1990",
          "1991",
          "1992",
          "1993",
          "1994",
          "1995",
          "1996",
          "1997",
          "1998",
          "1999",
          "2000",
          "2001",
          "2002",
          "2003",
          "2004",
          "2005",
          "2006",
          "2007",
          "2008",
          "2009",
          "2010",
          "2011",
          "2012",
          "2013",
          "2014",
          "2015",
          "2016",
          "2017",
          "2018",
          "2019",
          "2020",
          "2021",
          "2022",
          "2023"
         ],
         "y": [
          0,
          1,
          1,
          0,
          1,
          1,
          0,
          1,
          1,
          3,
          2,
          2,
          4,
          4,
          2,
          6,
          1,
          2,
          0,
          2,
          0,
          3,
          1,
          1,
          1,
          7,
          7,
          5,
          6,
          7,
          9,
          7,
          7,
          4,
          9,
          13,
          8,
          12,
          12,
          15,
          18,
          24,
          24,
          19,
          28,
          33,
          40,
          45,
          51,
          56,
          52,
          68,
          62,
          82,
          79,
          44,
          37,
          35,
          35,
          30,
          26,
          20,
          14,
          4
         ]
        },
        {
         "mode": "lines+markers",
         "name": "Adventure",
         "type": "scatter",
         "x": [
          "1951",
          "1953",
          "1956",
          "1957",
          "1960",
          "1961",
          "1966",
          "1967",
          "1968",
          "1969",
          "1970",
          "1971",
          "1972",
          "1973",
          "1974",
          "1975",
          "1976",
          "1977",
          "1978",
          "1979",
          "1980",
          "1981",
          "1982",
          "1983",
          "1984",
          "1985",
          "1986",
          "1987",
          "1988",
          "1989",
          "1990",
          "1991",
          "1992",
          "1993",
          "1994",
          "1995",
          "1996",
          "1997",
          "1998",
          "1999",
          "2000",
          "2001",
          "2002",
          "2003",
          "2004",
          "2005",
          "2006",
          "2007",
          "2008",
          "2009",
          "2010",
          "2011",
          "2012",
          "2013",
          "2014",
          "2015",
          "2016",
          "2017",
          "2018",
          "2019",
          "2020",
          "2021",
          "2022",
          "2023"
         ],
         "y": [
          1,
          1,
          2,
          0,
          0,
          0,
          1,
          1,
          1,
          3,
          2,
          1,
          2,
          0,
          1,
          2,
          1,
          1,
          1,
          0,
          0,
          0,
          0,
          0,
          0,
          4,
          2,
          4,
          3,
          4,
          6,
          4,
          7,
          5,
          7,
          6,
          4,
          8,
          12,
          11,
          17,
          12,
          10,
          13,
          11,
          16,
          22,
          21,
          28,
          24,
          21,
          23,
          27,
          16,
          27,
          11,
          13,
          22,
          16,
          20,
          18,
          5,
          10,
          1
         ]
        },
        {
         "mode": "lines+markers",
         "name": "Avant Garde",
         "type": "scatter",
         "x": [
          "1951",
          "1953",
          "1956",
          "1957",
          "1960",
          "1961",
          "1966",
          "1967",
          "1968",
          "1969",
          "1970",
          "1971",
          "1972",
          "1973",
          "1974",
          "1975",
          "1976",
          "1977",
          "1978",
          "1979",
          "1980",
          "1981",
          "1982",
          "1983",
          "1984",
          "1985",
          "1986",
          "1987",
          "1988",
          "1989",
          "1990",
          "1991",
          "1992",
          "1993",
          "1994",
          "1995",
          "1996",
          "1997",
          "1998",
          "1999",
          "2000",
          "2001",
          "2002",
          "2003",
          "2004",
          "2005",
          "2006",
          "2007",
          "2008",
          "2009",
          "2010",
          "2011",
          "2012",
          "2013",
          "2014",
          "2015",
          "2016",
          "2017",
          "2018",
          "2019",
          "2020",
          "2021",
          "2022",
          "2023"
         ],
         "y": [
          0,
          0,
          0,
          0,
          0,
          0,
          1,
          0,
          0,
          0,
          0,
          1,
          0,
          0,
          0,
          0,
          0,
          0,
          0,
          0,
          0,
          0,
          0,
          0,
          0,
          0,
          0,
          0,
          1,
          1,
          0,
          0,
          0,
          1,
          0,
          1,
          1,
          1,
          0,
          0,
          0,
          0,
          0,
          0,
          0,
          0,
          0,
          0,
          0,
          0,
          0,
          1,
          0,
          1,
          0,
          0,
          0,
          0,
          0,
          0,
          0,
          0,
          0,
          0
         ]
        },
        {
         "mode": "lines+markers",
         "name": "Award Winning",
         "type": "scatter",
         "x": [
          "1951",
          "1953",
          "1956",
          "1957",
          "1960",
          "1961",
          "1966",
          "1967",
          "1968",
          "1969",
          "1970",
          "1971",
          "1972",
          "1973",
          "1974",
          "1975",
          "1976",
          "1977",
          "1978",
          "1979",
          "1980",
          "1981",
          "1982",
          "1983",
          "1984",
          "1985",
          "1986",
          "1987",
          "1988",
          "1989",
          "1990",
          "1991",
          "1992",
          "1993",
          "1994",
          "1995",
          "1996",
          "1997",
          "1998",
          "1999",
          "2000",
          "2001",
          "2002",
          "2003",
          "2004",
          "2005",
          "2006",
          "2007",
          "2008",
          "2009",
          "2010",
          "2011",
          "2012",
          "2013",
          "2014",
          "2015",
          "2016",
          "2017",
          "2018",
          "2019",
          "2020",
          "2021",
          "2022",
          "2023"
         ],
         "y": [
          0,
          0,
          0,
          0,
          0,
          0,
          0,
          0,
          0,
          0,
          0,
          0,
          0,
          0,
          0,
          1,
          0,
          1,
          1,
          1,
          1,
          2,
          1,
          0,
          2,
          0,
          1,
          0,
          2,
          1,
          4,
          2,
          0,
          3,
          6,
          3,
          6,
          4,
          3,
          5,
          5,
          4,
          6,
          3,
          7,
          2,
          6,
          4,
          9,
          5,
          3,
          5,
          4,
          3,
          3,
          4,
          5,
          4,
          4,
          4,
          2,
          1,
          3,
          0
         ]
        },
        {
         "mode": "lines+markers",
         "name": "Boys Love",
         "type": "scatter",
         "x": [
          "1951",
          "1953",
          "1956",
          "1957",
          "1960",
          "1961",
          "1966",
          "1967",
          "1968",
          "1969",
          "1970",
          "1971",
          "1972",
          "1973",
          "1974",
          "1975",
          "1976",
          "1977",
          "1978",
          "1979",
          "1980",
          "1981",
          "1982",
          "1983",
          "1984",
          "1985",
          "1986",
          "1987",
          "1988",
          "1989",
          "1990",
          "1991",
          "1992",
          "1993",
          "1994",
          "1995",
          "1996",
          "1997",
          "1998",
          "1999",
          "2000",
          "2001",
          "2002",
          "2003",
          "2004",
          "2005",
          "2006",
          "2007",
          "2008",
          "2009",
          "2010",
          "2011",
          "2012",
          "2013",
          "2014",
          "2015",
          "2016",
          "2017",
          "2018",
          "2019",
          "2020",
          "2021",
          "2022",
          "2023"
         ],
         "y": [
          0,
          0,
          0,
          0,
          0,
          0,
          0,
          0,
          0,
          0,
          0,
          0,
          0,
          0,
          2,
          0,
          0,
          0,
          0,
          0,
          0,
          0,
          0,
          0,
          0,
          0,
          0,
          0,
          1,
          1,
          0,
          1,
          0,
          1,
          2,
          1,
          5,
          0,
          4,
          2,
          1,
          0,
          5,
          3,
          1,
          5,
          5,
          4,
          2,
          5,
          3,
          7,
          8,
          7,
          8,
          10,
          10,
          9,
          11,
          11,
          17,
          5,
          1,
          0
         ]
        },
        {
         "mode": "lines+markers",
         "name": "Comedy",
         "type": "scatter",
         "x": [
          "1951",
          "1953",
          "1956",
          "1957",
          "1960",
          "1961",
          "1966",
          "1967",
          "1968",
          "1969",
          "1970",
          "1971",
          "1972",
          "1973",
          "1974",
          "1975",
          "1976",
          "1977",
          "1978",
          "1979",
          "1980",
          "1981",
          "1982",
          "1983",
          "1984",
          "1985",
          "1986",
          "1987",
          "1988",
          "1989",
          "1990",
          "1991",
          "1992",
          "1993",
          "1994",
          "1995",
          "1996",
          "1997",
          "1998",
          "1999",
          "2000",
          "2001",
          "2002",
          "2003",
          "2004",
          "2005",
          "2006",
          "2007",
          "2008",
          "2009",
          "2010",
          "2011",
          "2012",
          "2013",
          "2014",
          "2015",
          "2016",
          "2017",
          "2018",
          "2019",
          "2020",
          "2021",
          "2022",
          "2023"
         ],
         "y": [
          0,
          0,
          0,
          0,
          0,
          0,
          0,
          1,
          0,
          0,
          0,
          0,
          2,
          0,
          1,
          2,
          0,
          3,
          0,
          0,
          1,
          2,
          0,
          1,
          2,
          5,
          3,
          6,
          4,
          4,
          5,
          5,
          5,
          7,
          12,
          8,
          10,
          14,
          18,
          21,
          23,
          33,
          38,
          39,
          52,
          39,
          65,
          59,
          85,
          98,
          85,
          100,
          89,
          107,
          100,
          91,
          75,
          70,
          102,
          92,
          74,
          64,
          27,
          3
         ]
        },
        {
         "mode": "lines+markers",
         "name": "Drama",
         "type": "scatter",
         "x": [
          "1951",
          "1953",
          "1956",
          "1957",
          "1960",
          "1961",
          "1966",
          "1967",
          "1968",
          "1969",
          "1970",
          "1971",
          "1972",
          "1973",
          "1974",
          "1975",
          "1976",
          "1977",
          "1978",
          "1979",
          "1980",
          "1981",
          "1982",
          "1983",
          "1984",
          "1985",
          "1986",
          "1987",
          "1988",
          "1989",
          "1990",
          "1991",
          "1992",
          "1993",
          "1994",
          "1995",
          "1996",
          "1997",
          "1998",
          "1999",
          "2000",
          "2001",
          "2002",
          "2003",
          "2004",
          "2005",
          "2006",
          "2007",
          "2008",
          "2009",
          "2010",
          "2011",
          "2012",
          "2013",
          "2014",
          "2015",
          "2016",
          "2017",
          "2018",
          "2019",
          "2020",
          "2021",
          "2022",
          "2023"
         ],
         "y": [
          0,
          1,
          2,
          1,
          0,
          0,
          1,
          1,
          1,
          1,
          1,
          1,
          3,
          3,
          3,
          1,
          2,
          1,
          0,
          3,
          3,
          4,
          0,
          0,
          0,
          2,
          3,
          4,
          3,
          4,
          6,
          4,
          5,
          9,
          11,
          8,
          12,
          11,
          20,
          23,
          28,
          31,
          33,
          32,
          46,
          45,
          54,
          52,
          72,
          60,
          63,
          54,
          66,
          81,
          57,
          44,
          41,
          43,
          52,
          50,
          40,
          19,
          14,
          3
         ]
        },
        {
         "mode": "lines+markers",
         "name": "Ecchi",
         "type": "scatter",
         "x": [
          "1951",
          "1953",
          "1956",
          "1957",
          "1960",
          "1961",
          "1966",
          "1967",
          "1968",
          "1969",
          "1970",
          "1971",
          "1972",
          "1973",
          "1974",
          "1975",
          "1976",
          "1977",
          "1978",
          "1979",
          "1980",
          "1981",
          "1982",
          "1983",
          "1984",
          "1985",
          "1986",
          "1987",
          "1988",
          "1989",
          "1990",
          "1991",
          "1992",
          "1993",
          "1994",
          "1995",
          "1996",
          "1997",
          "1998",
          "1999",
          "2000",
          "2001",
          "2002",
          "2003",
          "2004",
          "2005",
          "2006",
          "2007",
          "2008",
          "2009",
          "2010",
          "2011",
          "2012",
          "2013",
          "2014",
          "2015",
          "2016",
          "2017",
          "2018",
          "2019",
          "2020",
          "2021",
          "2022",
          "2023"
         ],
         "y": [
          0,
          0,
          0,
          0,
          0,
          0,
          0,
          0,
          0,
          0,
          0,
          0,
          1,
          1,
          1,
          2,
          0,
          0,
          0,
          0,
          0,
          0,
          0,
          0,
          0,
          0,
          1,
          2,
          1,
          1,
          2,
          0,
          0,
          0,
          3,
          1,
          3,
          6,
          4,
          4,
          7,
          6,
          11,
          10,
          15,
          13,
          19,
          29,
          22,
          29,
          30,
          34,
          34,
          33,
          23,
          13,
          14,
          9,
          20,
          11,
          10,
          7,
          2,
          0
         ]
        },
        {
         "mode": "lines+markers",
         "name": "Fantasy",
         "type": "scatter",
         "x": [
          "1951",
          "1953",
          "1956",
          "1957",
          "1960",
          "1961",
          "1966",
          "1967",
          "1968",
          "1969",
          "1970",
          "1971",
          "1972",
          "1973",
          "1974",
          "1975",
          "1976",
          "1977",
          "1978",
          "1979",
          "1980",
          "1981",
          "1982",
          "1983",
          "1984",
          "1985",
          "1986",
          "1987",
          "1988",
          "1989",
          "1990",
          "1991",
          "1992",
          "1993",
          "1994",
          "1995",
          "1996",
          "1997",
          "1998",
          "1999",
          "2000",
          "2001",
          "2002",
          "2003",
          "2004",
          "2005",
          "2006",
          "2007",
          "2008",
          "2009",
          "2010",
          "2011",
          "2012",
          "2013",
          "2014",
          "2015",
          "2016",
          "2017",
          "2018",
          "2019",
          "2020",
          "2021",
          "2022",
          "2023"
         ],
         "y": [
          0,
          1,
          2,
          1,
          0,
          0,
          1,
          0,
          0,
          1,
          1,
          3,
          0,
          1,
          1,
          1,
          0,
          0,
          2,
          0,
          0,
          0,
          0,
          0,
          1,
          1,
          0,
          3,
          0,
          0,
          7,
          4,
          9,
          3,
          9,
          11,
          7,
          9,
          7,
          8,
          16,
          18,
          14,
          17,
          17,
          31,
          38,
          46,
          51,
          45,
          37,
          44,
          40,
          54,
          63,
          34,
          39,
          41,
          43,
          49,
          40,
          25,
          18,
          2
         ]
        },
        {
         "mode": "lines+markers",
         "name": "Girls Love",
         "type": "scatter",
         "x": [
          "1951",
          "1953",
          "1956",
          "1957",
          "1960",
          "1961",
          "1966",
          "1967",
          "1968",
          "1969",
          "1970",
          "1971",
          "1972",
          "1973",
          "1974",
          "1975",
          "1976",
          "1977",
          "1978",
          "1979",
          "1980",
          "1981",
          "1982",
          "1983",
          "1984",
          "1985",
          "1986",
          "1987",
          "1988",
          "1989",
          "1990",
          "1991",
          "1992",
          "1993",
          "1994",
          "1995",
          "1996",
          "1997",
          "1998",
          "1999",
          "2000",
          "2001",
          "2002",
          "2003",
          "2004",
          "2005",
          "2006",
          "2007",
          "2008",
          "2009",
          "2010",
          "2011",
          "2012",
          "2013",
          "2014",
          "2015",
          "2016",
          "2017",
          "2018",
          "2019",
          "2020",
          "2021",
          "2022",
          "2023"
         ],
         "y": [
          0,
          0,
          0,
          0,
          0,
          0,
          0,
          0,
          0,
          0,
          0,
          0,
          0,
          0,
          0,
          0,
          0,
          0,
          0,
          0,
          0,
          0,
          0,
          0,
          0,
          0,
          0,
          0,
          0,
          0,
          0,
          0,
          0,
          0,
          0,
          0,
          0,
          0,
          2,
          0,
          0,
          0,
          0,
          2,
          1,
          3,
          5,
          7,
          4,
          9,
          11,
          9,
          6,
          10,
          10,
          6,
          5,
          9,
          22,
          25,
          10,
          5,
          5,
          0
         ]
        },
        {
         "mode": "lines+markers",
         "name": "Gourmet",
         "type": "scatter",
         "x": [
          "1951",
          "1953",
          "1956",
          "1957",
          "1960",
          "1961",
          "1966",
          "1967",
          "1968",
          "1969",
          "1970",
          "1971",
          "1972",
          "1973",
          "1974",
          "1975",
          "1976",
          "1977",
          "1978",
          "1979",
          "1980",
          "1981",
          "1982",
          "1983",
          "1984",
          "1985",
          "1986",
          "1987",
          "1988",
          "1989",
          "1990",
          "1991",
          "1992",
          "1993",
          "1994",
          "1995",
          "1996",
          "1997",
          "1998",
          "1999",
          "2000",
          "2001",
          "2002",
          "2003",
          "2004",
          "2005",
          "2006",
          "2007",
          "2008",
          "2009",
          "2010",
          "2011",
          "2012",
          "2013",
          "2014",
          "2015",
          "2016",
          "2017",
          "2018",
          "2019",
          "2020",
          "2021",
          "2022",
          "2023"
         ],
         "y": [
          0,
          0,
          0,
          0,
          0,
          0,
          0,
          0,
          0,
          0,
          0,
          0,
          0,
          0,
          0,
          0,
          0,
          0,
          0,
          0,
          0,
          0,
          0,
          0,
          0,
          0,
          0,
          0,
          0,
          0,
          0,
          0,
          0,
          0,
          0,
          1,
          2,
          0,
          0,
          1,
          0,
          0,
          1,
          0,
          1,
          0,
          0,
          1,
          1,
          1,
          0,
          0,
          2,
          0,
          0,
          2,
          2,
          1,
          1,
          4,
          0,
          0,
          1,
          0
         ]
        },
        {
         "mode": "lines+markers",
         "name": "Horror",
         "type": "scatter",
         "x": [
          "1951",
          "1953",
          "1956",
          "1957",
          "1960",
          "1961",
          "1966",
          "1967",
          "1968",
          "1969",
          "1970",
          "1971",
          "1972",
          "1973",
          "1974",
          "1975",
          "1976",
          "1977",
          "1978",
          "1979",
          "1980",
          "1981",
          "1982",
          "1983",
          "1984",
          "1985",
          "1986",
          "1987",
          "1988",
          "1989",
          "1990",
          "1991",
          "1992",
          "1993",
          "1994",
          "1995",
          "1996",
          "1997",
          "1998",
          "1999",
          "2000",
          "2001",
          "2002",
          "2003",
          "2004",
          "2005",
          "2006",
          "2007",
          "2008",
          "2009",
          "2010",
          "2011",
          "2012",
          "2013",
          "2014",
          "2015",
          "2016",
          "2017",
          "2018",
          "2019",
          "2020",
          "2021",
          "2022",
          "2023"
         ],
         "y": [
          0,
          0,
          0,
          0,
          0,
          0,
          0,
          0,
          0,
          0,
          0,
          0,
          0,
          0,
          1,
          1,
          0,
          0,
          0,
          0,
          1,
          1,
          0,
          2,
          1,
          0,
          0,
          1,
          2,
          1,
          1,
          2,
          2,
          1,
          5,
          7,
          2,
          5,
          3,
          4,
          9,
          7,
          6,
          3,
          10,
          7,
          6,
          8,
          8,
          9,
          8,
          17,
          17,
          12,
          12,
          12,
          12,
          6,
          9,
          5,
          4,
          6,
          0,
          0
         ]
        },
        {
         "mode": "lines+markers",
         "name": "Mystery",
         "type": "scatter",
         "x": [
          "1951",
          "1953",
          "1956",
          "1957",
          "1960",
          "1961",
          "1966",
          "1967",
          "1968",
          "1969",
          "1970",
          "1971",
          "1972",
          "1973",
          "1974",
          "1975",
          "1976",
          "1977",
          "1978",
          "1979",
          "1980",
          "1981",
          "1982",
          "1983",
          "1984",
          "1985",
          "1986",
          "1987",
          "1988",
          "1989",
          "1990",
          "1991",
          "1992",
          "1993",
          "1994",
          "1995",
          "1996",
          "1997",
          "1998",
          "1999",
          "2000",
          "2001",
          "2002",
          "2003",
          "2004",
          "2005",
          "2006",
          "2007",
          "2008",
          "2009",
          "2010",
          "2011",
          "2012",
          "2013",
          "2014",
          "2015",
          "2016",
          "2017",
          "2018",
          "2019",
          "2020",
          "2021",
          "2022",
          "2023"
         ],
         "y": [
          0,
          0,
          0,
          0,
          0,
          0,
          0,
          1,
          1,
          1,
          0,
          0,
          1,
          0,
          0,
          0,
          1,
          2,
          0,
          0,
          0,
          2,
          0,
          2,
          0,
          1,
          1,
          0,
          1,
          0,
          3,
          1,
          1,
          0,
          4,
          1,
          1,
          1,
          3,
          8,
          8,
          11,
          5,
          7,
          13,
          15,
          13,
          19,
          19,
          23,
          19,
          25,
          28,
          25,
          21,
          18,
          12,
          12,
          19,
          7,
          14,
          6,
          2,
          4
         ]
        },
        {
         "mode": "lines+markers",
         "name": "Romance",
         "type": "scatter",
         "x": [
          "1951",
          "1953",
          "1956",
          "1957",
          "1960",
          "1961",
          "1966",
          "1967",
          "1968",
          "1969",
          "1970",
          "1971",
          "1972",
          "1973",
          "1974",
          "1975",
          "1976",
          "1977",
          "1978",
          "1979",
          "1980",
          "1981",
          "1982",
          "1983",
          "1984",
          "1985",
          "1986",
          "1987",
          "1988",
          "1989",
          "1990",
          "1991",
          "1992",
          "1993",
          "1994",
          "1995",
          "1996",
          "1997",
          "1998",
          "1999",
          "2000",
          "2001",
          "2002",
          "2003",
          "2004",
          "2005",
          "2006",
          "2007",
          "2008",
          "2009",
          "2010",
          "2011",
          "2012",
          "2013",
          "2014",
          "2015",
          "2016",
          "2017",
          "2018",
          "2019",
          "2020",
          "2021",
          "2022",
          "2023"
         ],
         "y": [
          0,
          1,
          1,
          0,
          0,
          0,
          0,
          0,
          0,
          0,
          0,
          0,
          0,
          0,
          0,
          1,
          0,
          1,
          1,
          1,
          2,
          2,
          0,
          0,
          3,
          1,
          3,
          5,
          6,
          1,
          4,
          2,
          4,
          6,
          8,
          4,
          9,
          11,
          22,
          20,
          23,
          36,
          30,
          42,
          63,
          45,
          55,
          56,
          81,
          98,
          104,
          82,
          102,
          113,
          91,
          71,
          55,
          58,
          70,
          75,
          69,
          44,
          26,
          4
         ]
        },
        {
         "mode": "lines+markers",
         "name": "Sci-Fi",
         "type": "scatter",
         "x": [
          "1951",
          "1953",
          "1956",
          "1957",
          "1960",
          "1961",
          "1966",
          "1967",
          "1968",
          "1969",
          "1970",
          "1971",
          "1972",
          "1973",
          "1974",
          "1975",
          "1976",
          "1977",
          "1978",
          "1979",
          "1980",
          "1981",
          "1982",
          "1983",
          "1984",
          "1985",
          "1986",
          "1987",
          "1988",
          "1989",
          "1990",
          "1991",
          "1992",
          "1993",
          "1994",
          "1995",
          "1996",
          "1997",
          "1998",
          "1999",
          "2000",
          "2001",
          "2002",
          "2003",
          "2004",
          "2005",
          "2006",
          "2007",
          "2008",
          "2009",
          "2010",
          "2011",
          "2012",
          "2013",
          "2014",
          "2015",
          "2016",
          "2017",
          "2018",
          "2019",
          "2020",
          "2021",
          "2022",
          "2023"
         ],
         "y": [
          1,
          0,
          1,
          0,
          1,
          1,
          1,
          0,
          2,
          2,
          1,
          0,
          0,
          3,
          2,
          4,
          1,
          3,
          0,
          1,
          1,
          1,
          1,
          0,
          0,
          4,
          4,
          1,
          5,
          4,
          7,
          7,
          3,
          4,
          10,
          6,
          6,
          10,
          5,
          10,
          12,
          20,
          17,
          13,
          18,
          14,
          13,
          18,
          11,
          19,
          22,
          28,
          29,
          36,
          29,
          19,
          16,
          15,
          20,
          13,
          15,
          5,
          7,
          2
         ]
        },
        {
         "mode": "lines+markers",
         "name": "Slice of Life",
         "type": "scatter",
         "x": [
          "1951",
          "1953",
          "1956",
          "1957",
          "1960",
          "1961",
          "1966",
          "1967",
          "1968",
          "1969",
          "1970",
          "1971",
          "1972",
          "1973",
          "1974",
          "1975",
          "1976",
          "1977",
          "1978",
          "1979",
          "1980",
          "1981",
          "1982",
          "1983",
          "1984",
          "1985",
          "1986",
          "1987",
          "1988",
          "1989",
          "1990",
          "1991",
          "1992",
          "1993",
          "1994",
          "1995",
          "1996",
          "1997",
          "1998",
          "1999",
          "2000",
          "2001",
          "2002",
          "2003",
          "2004",
          "2005",
          "2006",
          "2007",
          "2008",
          "2009",
          "2010",
          "2011",
          "2012",
          "2013",
          "2014",
          "2015",
          "2016",
          "2017",
          "2018",
          "2019",
          "2020",
          "2021",
          "2022",
          "2023"
         ],
         "y": [
          0,
          0,
          0,
          0,
          0,
          0,
          0,
          0,
          1,
          0,
          0,
          0,
          0,
          1,
          1,
          0,
          0,
          1,
          0,
          0,
          0,
          0,
          0,
          0,
          2,
          0,
          1,
          2,
          1,
          0,
          1,
          1,
          0,
          4,
          2,
          2,
          4,
          3,
          5,
          7,
          6,
          13,
          4,
          10,
          16,
          10,
          28,
          19,
          27,
          30,
          28,
          28,
          27,
          38,
          37,
          39,
          36,
          27,
          46,
          48,
          41,
          21,
          12,
          0
         ]
        },
        {
         "mode": "lines+markers",
         "name": "Sports",
         "type": "scatter",
         "x": [
          "1951",
          "1953",
          "1956",
          "1957",
          "1960",
          "1961",
          "1966",
          "1967",
          "1968",
          "1969",
          "1970",
          "1971",
          "1972",
          "1973",
          "1974",
          "1975",
          "1976",
          "1977",
          "1978",
          "1979",
          "1980",
          "1981",
          "1982",
          "1983",
          "1984",
          "1985",
          "1986",
          "1987",
          "1988",
          "1989",
          "1990",
          "1991",
          "1992",
          "1993",
          "1994",
          "1995",
          "1996",
          "1997",
          "1998",
          "1999",
          "2000",
          "2001",
          "2002",
          "2003",
          "2004",
          "2005",
          "2006",
          "2007",
          "2008",
          "2009",
          "2010",
          "2011",
          "2012",
          "2013",
          "2014",
          "2015",
          "2016",
          "2017",
          "2018",
          "2019",
          "2020",
          "2021",
          "2022",
          "2023"
         ],
         "y": [
          0,
          0,
          0,
          0,
          0,
          0,
          0,
          0,
          1,
          0,
          0,
          0,
          0,
          1,
          0,
          0,
          0,
          0,
          0,
          0,
          0,
          0,
          0,
          1,
          0,
          1,
          0,
          1,
          0,
          1,
          1,
          0,
          0,
          3,
          2,
          1,
          2,
          3,
          3,
          1,
          4,
          2,
          4,
          2,
          3,
          2,
          6,
          6,
          2,
          7,
          8,
          0,
          4,
          4,
          3,
          2,
          1,
          5,
          1,
          3,
          3,
          3,
          1,
          0
         ]
        },
        {
         "mode": "lines+markers",
         "name": "Supernatural",
         "type": "scatter",
         "x": [
          "1951",
          "1953",
          "1956",
          "1957",
          "1960",
          "1961",
          "1966",
          "1967",
          "1968",
          "1969",
          "1970",
          "1971",
          "1972",
          "1973",
          "1974",
          "1975",
          "1976",
          "1977",
          "1978",
          "1979",
          "1980",
          "1981",
          "1982",
          "1983",
          "1984",
          "1985",
          "1986",
          "1987",
          "1988",
          "1989",
          "1990",
          "1991",
          "1992",
          "1993",
          "1994",
          "1995",
          "1996",
          "1997",
          "1998",
          "1999",
          "2000",
          "2001",
          "2002",
          "2003",
          "2004",
          "2005",
          "2006",
          "2007",
          "2008",
          "2009",
          "2010",
          "2011",
          "2012",
          "2013",
          "2014",
          "2015",
          "2016",
          "2017",
          "2018",
          "2019",
          "2020",
          "2021",
          "2022",
          "2023"
         ],
         "y": [
          0,
          0,
          0,
          0,
          0,
          0,
          0,
          0,
          0,
          0,
          0,
          0,
          0,
          0,
          0,
          0,
          0,
          0,
          0,
          1,
          1,
          2,
          0,
          2,
          2,
          0,
          0,
          3,
          3,
          1,
          0,
          2,
          3,
          4,
          8,
          9,
          5,
          9,
          13,
          9,
          12,
          11,
          16,
          11,
          27,
          35,
          33,
          40,
          40,
          46,
          43,
          53,
          54,
          78,
          53,
          51,
          43,
          42,
          45,
          29,
          27,
          19,
          7,
          2
         ]
        },
        {
         "mode": "lines+markers",
         "name": "Suspense",
         "type": "scatter",
         "x": [
          "1951",
          "1953",
          "1956",
          "1957",
          "1960",
          "1961",
          "1966",
          "1967",
          "1968",
          "1969",
          "1970",
          "1971",
          "1972",
          "1973",
          "1974",
          "1975",
          "1976",
          "1977",
          "1978",
          "1979",
          "1980",
          "1981",
          "1982",
          "1983",
          "1984",
          "1985",
          "1986",
          "1987",
          "1988",
          "1989",
          "1990",
          "1991",
          "1992",
          "1993",
          "1994",
          "1995",
          "1996",
          "1997",
          "1998",
          "1999",
          "2000",
          "2001",
          "2002",
          "2003",
          "2004",
          "2005",
          "2006",
          "2007",
          "2008",
          "2009",
          "2010",
          "2011",
          "2012",
          "2013",
          "2014",
          "2015",
          "2016",
          "2017",
          "2018",
          "2019",
          "2020",
          "2021",
          "2022",
          "2023"
         ],
         "y": [
          0,
          0,
          0,
          0,
          0,
          0,
          0,
          0,
          0,
          0,
          0,
          0,
          0,
          0,
          0,
          0,
          0,
          0,
          0,
          0,
          0,
          0,
          0,
          0,
          0,
          0,
          0,
          1,
          1,
          0,
          0,
          0,
          0,
          0,
          1,
          2,
          1,
          0,
          0,
          0,
          0,
          1,
          0,
          0,
          0,
          0,
          1,
          2,
          2,
          0,
          3,
          2,
          1,
          2,
          1,
          4,
          1,
          4,
          1,
          3,
          3,
          1,
          2,
          0
         ]
        }
       ],
       "layout": {
        "showlegend": false,
        "template": {
         "data": {
          "bar": [
           {
            "error_x": {
             "color": "#2a3f5f"
            },
            "error_y": {
             "color": "#2a3f5f"
            },
            "marker": {
             "line": {
              "color": "#E5ECF6",
              "width": 0.5
             },
             "pattern": {
              "fillmode": "overlay",
              "size": 10,
              "solidity": 0.2
             }
            },
            "type": "bar"
           }
          ],
          "barpolar": [
           {
            "marker": {
             "line": {
              "color": "#E5ECF6",
              "width": 0.5
             },
             "pattern": {
              "fillmode": "overlay",
              "size": 10,
              "solidity": 0.2
             }
            },
            "type": "barpolar"
           }
          ],
          "carpet": [
           {
            "aaxis": {
             "endlinecolor": "#2a3f5f",
             "gridcolor": "white",
             "linecolor": "white",
             "minorgridcolor": "white",
             "startlinecolor": "#2a3f5f"
            },
            "baxis": {
             "endlinecolor": "#2a3f5f",
             "gridcolor": "white",
             "linecolor": "white",
             "minorgridcolor": "white",
             "startlinecolor": "#2a3f5f"
            },
            "type": "carpet"
           }
          ],
          "choropleth": [
           {
            "colorbar": {
             "outlinewidth": 0,
             "ticks": ""
            },
            "type": "choropleth"
           }
          ],
          "contour": [
           {
            "colorbar": {
             "outlinewidth": 0,
             "ticks": ""
            },
            "colorscale": [
             [
              0,
              "#0d0887"
             ],
             [
              0.1111111111111111,
              "#46039f"
             ],
             [
              0.2222222222222222,
              "#7201a8"
             ],
             [
              0.3333333333333333,
              "#9c179e"
             ],
             [
              0.4444444444444444,
              "#bd3786"
             ],
             [
              0.5555555555555556,
              "#d8576b"
             ],
             [
              0.6666666666666666,
              "#ed7953"
             ],
             [
              0.7777777777777778,
              "#fb9f3a"
             ],
             [
              0.8888888888888888,
              "#fdca26"
             ],
             [
              1,
              "#f0f921"
             ]
            ],
            "type": "contour"
           }
          ],
          "contourcarpet": [
           {
            "colorbar": {
             "outlinewidth": 0,
             "ticks": ""
            },
            "type": "contourcarpet"
           }
          ],
          "heatmap": [
           {
            "colorbar": {
             "outlinewidth": 0,
             "ticks": ""
            },
            "colorscale": [
             [
              0,
              "#0d0887"
             ],
             [
              0.1111111111111111,
              "#46039f"
             ],
             [
              0.2222222222222222,
              "#7201a8"
             ],
             [
              0.3333333333333333,
              "#9c179e"
             ],
             [
              0.4444444444444444,
              "#bd3786"
             ],
             [
              0.5555555555555556,
              "#d8576b"
             ],
             [
              0.6666666666666666,
              "#ed7953"
             ],
             [
              0.7777777777777778,
              "#fb9f3a"
             ],
             [
              0.8888888888888888,
              "#fdca26"
             ],
             [
              1,
              "#f0f921"
             ]
            ],
            "type": "heatmap"
           }
          ],
          "heatmapgl": [
           {
            "colorbar": {
             "outlinewidth": 0,
             "ticks": ""
            },
            "colorscale": [
             [
              0,
              "#0d0887"
             ],
             [
              0.1111111111111111,
              "#46039f"
             ],
             [
              0.2222222222222222,
              "#7201a8"
             ],
             [
              0.3333333333333333,
              "#9c179e"
             ],
             [
              0.4444444444444444,
              "#bd3786"
             ],
             [
              0.5555555555555556,
              "#d8576b"
             ],
             [
              0.6666666666666666,
              "#ed7953"
             ],
             [
              0.7777777777777778,
              "#fb9f3a"
             ],
             [
              0.8888888888888888,
              "#fdca26"
             ],
             [
              1,
              "#f0f921"
             ]
            ],
            "type": "heatmapgl"
           }
          ],
          "histogram": [
           {
            "marker": {
             "pattern": {
              "fillmode": "overlay",
              "size": 10,
              "solidity": 0.2
             }
            },
            "type": "histogram"
           }
          ],
          "histogram2d": [
           {
            "colorbar": {
             "outlinewidth": 0,
             "ticks": ""
            },
            "colorscale": [
             [
              0,
              "#0d0887"
             ],
             [
              0.1111111111111111,
              "#46039f"
             ],
             [
              0.2222222222222222,
              "#7201a8"
             ],
             [
              0.3333333333333333,
              "#9c179e"
             ],
             [
              0.4444444444444444,
              "#bd3786"
             ],
             [
              0.5555555555555556,
              "#d8576b"
             ],
             [
              0.6666666666666666,
              "#ed7953"
             ],
             [
              0.7777777777777778,
              "#fb9f3a"
             ],
             [
              0.8888888888888888,
              "#fdca26"
             ],
             [
              1,
              "#f0f921"
             ]
            ],
            "type": "histogram2d"
           }
          ],
          "histogram2dcontour": [
           {
            "colorbar": {
             "outlinewidth": 0,
             "ticks": ""
            },
            "colorscale": [
             [
              0,
              "#0d0887"
             ],
             [
              0.1111111111111111,
              "#46039f"
             ],
             [
              0.2222222222222222,
              "#7201a8"
             ],
             [
              0.3333333333333333,
              "#9c179e"
             ],
             [
              0.4444444444444444,
              "#bd3786"
             ],
             [
              0.5555555555555556,
              "#d8576b"
             ],
             [
              0.6666666666666666,
              "#ed7953"
             ],
             [
              0.7777777777777778,
              "#fb9f3a"
             ],
             [
              0.8888888888888888,
              "#fdca26"
             ],
             [
              1,
              "#f0f921"
             ]
            ],
            "type": "histogram2dcontour"
           }
          ],
          "mesh3d": [
           {
            "colorbar": {
             "outlinewidth": 0,
             "ticks": ""
            },
            "type": "mesh3d"
           }
          ],
          "parcoords": [
           {
            "line": {
             "colorbar": {
              "outlinewidth": 0,
              "ticks": ""
             }
            },
            "type": "parcoords"
           }
          ],
          "pie": [
           {
            "automargin": true,
            "type": "pie"
           }
          ],
          "scatter": [
           {
            "fillpattern": {
             "fillmode": "overlay",
             "size": 10,
             "solidity": 0.2
            },
            "type": "scatter"
           }
          ],
          "scatter3d": [
           {
            "line": {
             "colorbar": {
              "outlinewidth": 0,
              "ticks": ""
             }
            },
            "marker": {
             "colorbar": {
              "outlinewidth": 0,
              "ticks": ""
             }
            },
            "type": "scatter3d"
           }
          ],
          "scattercarpet": [
           {
            "marker": {
             "colorbar": {
              "outlinewidth": 0,
              "ticks": ""
             }
            },
            "type": "scattercarpet"
           }
          ],
          "scattergeo": [
           {
            "marker": {
             "colorbar": {
              "outlinewidth": 0,
              "ticks": ""
             }
            },
            "type": "scattergeo"
           }
          ],
          "scattergl": [
           {
            "marker": {
             "colorbar": {
              "outlinewidth": 0,
              "ticks": ""
             }
            },
            "type": "scattergl"
           }
          ],
          "scattermapbox": [
           {
            "marker": {
             "colorbar": {
              "outlinewidth": 0,
              "ticks": ""
             }
            },
            "type": "scattermapbox"
           }
          ],
          "scatterpolar": [
           {
            "marker": {
             "colorbar": {
              "outlinewidth": 0,
              "ticks": ""
             }
            },
            "type": "scatterpolar"
           }
          ],
          "scatterpolargl": [
           {
            "marker": {
             "colorbar": {
              "outlinewidth": 0,
              "ticks": ""
             }
            },
            "type": "scatterpolargl"
           }
          ],
          "scatterternary": [
           {
            "marker": {
             "colorbar": {
              "outlinewidth": 0,
              "ticks": ""
             }
            },
            "type": "scatterternary"
           }
          ],
          "surface": [
           {
            "colorbar": {
             "outlinewidth": 0,
             "ticks": ""
            },
            "colorscale": [
             [
              0,
              "#0d0887"
             ],
             [
              0.1111111111111111,
              "#46039f"
             ],
             [
              0.2222222222222222,
              "#7201a8"
             ],
             [
              0.3333333333333333,
              "#9c179e"
             ],
             [
              0.4444444444444444,
              "#bd3786"
             ],
             [
              0.5555555555555556,
              "#d8576b"
             ],
             [
              0.6666666666666666,
              "#ed7953"
             ],
             [
              0.7777777777777778,
              "#fb9f3a"
             ],
             [
              0.8888888888888888,
              "#fdca26"
             ],
             [
              1,
              "#f0f921"
             ]
            ],
            "type": "surface"
           }
          ],
          "table": [
           {
            "cells": {
             "fill": {
              "color": "#EBF0F8"
             },
             "line": {
              "color": "white"
             }
            },
            "header": {
             "fill": {
              "color": "#C8D4E3"
             },
             "line": {
              "color": "white"
             }
            },
            "type": "table"
           }
          ]
         },
         "layout": {
          "annotationdefaults": {
           "arrowcolor": "#2a3f5f",
           "arrowhead": 0,
           "arrowwidth": 1
          },
          "autotypenumbers": "strict",
          "coloraxis": {
           "colorbar": {
            "outlinewidth": 0,
            "ticks": ""
           }
          },
          "colorscale": {
           "diverging": [
            [
             0,
             "#8e0152"
            ],
            [
             0.1,
             "#c51b7d"
            ],
            [
             0.2,
             "#de77ae"
            ],
            [
             0.3,
             "#f1b6da"
            ],
            [
             0.4,
             "#fde0ef"
            ],
            [
             0.5,
             "#f7f7f7"
            ],
            [
             0.6,
             "#e6f5d0"
            ],
            [
             0.7,
             "#b8e186"
            ],
            [
             0.8,
             "#7fbc41"
            ],
            [
             0.9,
             "#4d9221"
            ],
            [
             1,
             "#276419"
            ]
           ],
           "sequential": [
            [
             0,
             "#0d0887"
            ],
            [
             0.1111111111111111,
             "#46039f"
            ],
            [
             0.2222222222222222,
             "#7201a8"
            ],
            [
             0.3333333333333333,
             "#9c179e"
            ],
            [
             0.4444444444444444,
             "#bd3786"
            ],
            [
             0.5555555555555556,
             "#d8576b"
            ],
            [
             0.6666666666666666,
             "#ed7953"
            ],
            [
             0.7777777777777778,
             "#fb9f3a"
            ],
            [
             0.8888888888888888,
             "#fdca26"
            ],
            [
             1,
             "#f0f921"
            ]
           ],
           "sequentialminus": [
            [
             0,
             "#0d0887"
            ],
            [
             0.1111111111111111,
             "#46039f"
            ],
            [
             0.2222222222222222,
             "#7201a8"
            ],
            [
             0.3333333333333333,
             "#9c179e"
            ],
            [
             0.4444444444444444,
             "#bd3786"
            ],
            [
             0.5555555555555556,
             "#d8576b"
            ],
            [
             0.6666666666666666,
             "#ed7953"
            ],
            [
             0.7777777777777778,
             "#fb9f3a"
            ],
            [
             0.8888888888888888,
             "#fdca26"
            ],
            [
             1,
             "#f0f921"
            ]
           ]
          },
          "colorway": [
           "#636efa",
           "#EF553B",
           "#00cc96",
           "#ab63fa",
           "#FFA15A",
           "#19d3f3",
           "#FF6692",
           "#B6E880",
           "#FF97FF",
           "#FECB52"
          ],
          "font": {
           "color": "#2a3f5f"
          },
          "geo": {
           "bgcolor": "white",
           "lakecolor": "white",
           "landcolor": "#E5ECF6",
           "showlakes": true,
           "showland": true,
           "subunitcolor": "white"
          },
          "hoverlabel": {
           "align": "left"
          },
          "hovermode": "closest",
          "mapbox": {
           "style": "light"
          },
          "paper_bgcolor": "white",
          "plot_bgcolor": "#E5ECF6",
          "polar": {
           "angularaxis": {
            "gridcolor": "white",
            "linecolor": "white",
            "ticks": ""
           },
           "bgcolor": "#E5ECF6",
           "radialaxis": {
            "gridcolor": "white",
            "linecolor": "white",
            "ticks": ""
           }
          },
          "scene": {
           "xaxis": {
            "backgroundcolor": "#E5ECF6",
            "gridcolor": "white",
            "gridwidth": 2,
            "linecolor": "white",
            "showbackground": true,
            "ticks": "",
            "zerolinecolor": "white"
           },
           "yaxis": {
            "backgroundcolor": "#E5ECF6",
            "gridcolor": "white",
            "gridwidth": 2,
            "linecolor": "white",
            "showbackground": true,
            "ticks": "",
            "zerolinecolor": "white"
           },
           "zaxis": {
            "backgroundcolor": "#E5ECF6",
            "gridcolor": "white",
            "gridwidth": 2,
            "linecolor": "white",
            "showbackground": true,
            "ticks": "",
            "zerolinecolor": "white"
           }
          },
          "shapedefaults": {
           "line": {
            "color": "#2a3f5f"
           }
          },
          "ternary": {
           "aaxis": {
            "gridcolor": "white",
            "linecolor": "white",
            "ticks": ""
           },
           "baxis": {
            "gridcolor": "white",
            "linecolor": "white",
            "ticks": ""
           },
           "bgcolor": "#E5ECF6",
           "caxis": {
            "gridcolor": "white",
            "linecolor": "white",
            "ticks": ""
           }
          },
          "title": {
           "x": 0.05
          },
          "xaxis": {
           "automargin": true,
           "gridcolor": "white",
           "linecolor": "white",
           "ticks": "",
           "title": {
            "standoff": 15
           },
           "zerolinecolor": "white",
           "zerolinewidth": 2
          },
          "yaxis": {
           "automargin": true,
           "gridcolor": "white",
           "linecolor": "white",
           "ticks": "",
           "title": {
            "standoff": 15
           },
           "zerolinecolor": "white",
           "zerolinewidth": 2
          }
         }
        },
        "title": {
         "text": "Genre Count by Year - Line Chart"
        },
        "xaxis": {
         "title": {
          "text": "Year"
         }
        },
        "yaxis": {
         "title": {
          "text": "Count"
         }
        }
       }
      },
      "text/html": [
       "<div>                            <div id=\"6d5481c9-bf51-499c-9906-8039220bb5e0\" class=\"plotly-graph-div\" style=\"height:525px; width:100%;\"></div>            <script type=\"text/javascript\">                require([\"plotly\"], function(Plotly) {                    window.PLOTLYENV=window.PLOTLYENV || {};                                    if (document.getElementById(\"6d5481c9-bf51-499c-9906-8039220bb5e0\")) {                    Plotly.newPlot(                        \"6d5481c9-bf51-499c-9906-8039220bb5e0\",                        [{\"mode\":\"lines+markers\",\"name\":\"Action\",\"x\":[\"1951\",\"1953\",\"1956\",\"1957\",\"1960\",\"1961\",\"1966\",\"1967\",\"1968\",\"1969\",\"1970\",\"1971\",\"1972\",\"1973\",\"1974\",\"1975\",\"1976\",\"1977\",\"1978\",\"1979\",\"1980\",\"1981\",\"1982\",\"1983\",\"1984\",\"1985\",\"1986\",\"1987\",\"1988\",\"1989\",\"1990\",\"1991\",\"1992\",\"1993\",\"1994\",\"1995\",\"1996\",\"1997\",\"1998\",\"1999\",\"2000\",\"2001\",\"2002\",\"2003\",\"2004\",\"2005\",\"2006\",\"2007\",\"2008\",\"2009\",\"2010\",\"2011\",\"2012\",\"2013\",\"2014\",\"2015\",\"2016\",\"2017\",\"2018\",\"2019\",\"2020\",\"2021\",\"2022\",\"2023\"],\"y\":[0.0,1.0,1.0,0.0,1.0,1.0,0.0,1.0,1.0,3.0,2.0,2.0,4.0,4.0,2.0,6.0,1.0,2.0,0.0,2.0,0.0,3.0,1.0,1.0,1.0,7.0,7.0,5.0,6.0,7.0,9.0,7.0,7.0,4.0,9.0,13.0,8.0,12.0,12.0,15.0,18.0,24.0,24.0,19.0,28.0,33.0,40.0,45.0,51.0,56.0,52.0,68.0,62.0,82.0,79.0,44.0,37.0,35.0,35.0,30.0,26.0,20.0,14.0,4.0],\"type\":\"scatter\"},{\"mode\":\"lines+markers\",\"name\":\"Adventure\",\"x\":[\"1951\",\"1953\",\"1956\",\"1957\",\"1960\",\"1961\",\"1966\",\"1967\",\"1968\",\"1969\",\"1970\",\"1971\",\"1972\",\"1973\",\"1974\",\"1975\",\"1976\",\"1977\",\"1978\",\"1979\",\"1980\",\"1981\",\"1982\",\"1983\",\"1984\",\"1985\",\"1986\",\"1987\",\"1988\",\"1989\",\"1990\",\"1991\",\"1992\",\"1993\",\"1994\",\"1995\",\"1996\",\"1997\",\"1998\",\"1999\",\"2000\",\"2001\",\"2002\",\"2003\",\"2004\",\"2005\",\"2006\",\"2007\",\"2008\",\"2009\",\"2010\",\"2011\",\"2012\",\"2013\",\"2014\",\"2015\",\"2016\",\"2017\",\"2018\",\"2019\",\"2020\",\"2021\",\"2022\",\"2023\"],\"y\":[1.0,1.0,2.0,0.0,0.0,0.0,1.0,1.0,1.0,3.0,2.0,1.0,2.0,0.0,1.0,2.0,1.0,1.0,1.0,0.0,0.0,0.0,0.0,0.0,0.0,4.0,2.0,4.0,3.0,4.0,6.0,4.0,7.0,5.0,7.0,6.0,4.0,8.0,12.0,11.0,17.0,12.0,10.0,13.0,11.0,16.0,22.0,21.0,28.0,24.0,21.0,23.0,27.0,16.0,27.0,11.0,13.0,22.0,16.0,20.0,18.0,5.0,10.0,1.0],\"type\":\"scatter\"},{\"mode\":\"lines+markers\",\"name\":\"Avant Garde\",\"x\":[\"1951\",\"1953\",\"1956\",\"1957\",\"1960\",\"1961\",\"1966\",\"1967\",\"1968\",\"1969\",\"1970\",\"1971\",\"1972\",\"1973\",\"1974\",\"1975\",\"1976\",\"1977\",\"1978\",\"1979\",\"1980\",\"1981\",\"1982\",\"1983\",\"1984\",\"1985\",\"1986\",\"1987\",\"1988\",\"1989\",\"1990\",\"1991\",\"1992\",\"1993\",\"1994\",\"1995\",\"1996\",\"1997\",\"1998\",\"1999\",\"2000\",\"2001\",\"2002\",\"2003\",\"2004\",\"2005\",\"2006\",\"2007\",\"2008\",\"2009\",\"2010\",\"2011\",\"2012\",\"2013\",\"2014\",\"2015\",\"2016\",\"2017\",\"2018\",\"2019\",\"2020\",\"2021\",\"2022\",\"2023\"],\"y\":[0.0,0.0,0.0,0.0,0.0,0.0,1.0,0.0,0.0,0.0,0.0,1.0,0.0,0.0,0.0,0.0,0.0,0.0,0.0,0.0,0.0,0.0,0.0,0.0,0.0,0.0,0.0,0.0,1.0,1.0,0.0,0.0,0.0,1.0,0.0,1.0,1.0,1.0,0.0,0.0,0.0,0.0,0.0,0.0,0.0,0.0,0.0,0.0,0.0,0.0,0.0,1.0,0.0,1.0,0.0,0.0,0.0,0.0,0.0,0.0,0.0,0.0,0.0,0.0],\"type\":\"scatter\"},{\"mode\":\"lines+markers\",\"name\":\"Award Winning\",\"x\":[\"1951\",\"1953\",\"1956\",\"1957\",\"1960\",\"1961\",\"1966\",\"1967\",\"1968\",\"1969\",\"1970\",\"1971\",\"1972\",\"1973\",\"1974\",\"1975\",\"1976\",\"1977\",\"1978\",\"1979\",\"1980\",\"1981\",\"1982\",\"1983\",\"1984\",\"1985\",\"1986\",\"1987\",\"1988\",\"1989\",\"1990\",\"1991\",\"1992\",\"1993\",\"1994\",\"1995\",\"1996\",\"1997\",\"1998\",\"1999\",\"2000\",\"2001\",\"2002\",\"2003\",\"2004\",\"2005\",\"2006\",\"2007\",\"2008\",\"2009\",\"2010\",\"2011\",\"2012\",\"2013\",\"2014\",\"2015\",\"2016\",\"2017\",\"2018\",\"2019\",\"2020\",\"2021\",\"2022\",\"2023\"],\"y\":[0.0,0.0,0.0,0.0,0.0,0.0,0.0,0.0,0.0,0.0,0.0,0.0,0.0,0.0,0.0,1.0,0.0,1.0,1.0,1.0,1.0,2.0,1.0,0.0,2.0,0.0,1.0,0.0,2.0,1.0,4.0,2.0,0.0,3.0,6.0,3.0,6.0,4.0,3.0,5.0,5.0,4.0,6.0,3.0,7.0,2.0,6.0,4.0,9.0,5.0,3.0,5.0,4.0,3.0,3.0,4.0,5.0,4.0,4.0,4.0,2.0,1.0,3.0,0.0],\"type\":\"scatter\"},{\"mode\":\"lines+markers\",\"name\":\"Boys Love\",\"x\":[\"1951\",\"1953\",\"1956\",\"1957\",\"1960\",\"1961\",\"1966\",\"1967\",\"1968\",\"1969\",\"1970\",\"1971\",\"1972\",\"1973\",\"1974\",\"1975\",\"1976\",\"1977\",\"1978\",\"1979\",\"1980\",\"1981\",\"1982\",\"1983\",\"1984\",\"1985\",\"1986\",\"1987\",\"1988\",\"1989\",\"1990\",\"1991\",\"1992\",\"1993\",\"1994\",\"1995\",\"1996\",\"1997\",\"1998\",\"1999\",\"2000\",\"2001\",\"2002\",\"2003\",\"2004\",\"2005\",\"2006\",\"2007\",\"2008\",\"2009\",\"2010\",\"2011\",\"2012\",\"2013\",\"2014\",\"2015\",\"2016\",\"2017\",\"2018\",\"2019\",\"2020\",\"2021\",\"2022\",\"2023\"],\"y\":[0.0,0.0,0.0,0.0,0.0,0.0,0.0,0.0,0.0,0.0,0.0,0.0,0.0,0.0,2.0,0.0,0.0,0.0,0.0,0.0,0.0,0.0,0.0,0.0,0.0,0.0,0.0,0.0,1.0,1.0,0.0,1.0,0.0,1.0,2.0,1.0,5.0,0.0,4.0,2.0,1.0,0.0,5.0,3.0,1.0,5.0,5.0,4.0,2.0,5.0,3.0,7.0,8.0,7.0,8.0,10.0,10.0,9.0,11.0,11.0,17.0,5.0,1.0,0.0],\"type\":\"scatter\"},{\"mode\":\"lines+markers\",\"name\":\"Comedy\",\"x\":[\"1951\",\"1953\",\"1956\",\"1957\",\"1960\",\"1961\",\"1966\",\"1967\",\"1968\",\"1969\",\"1970\",\"1971\",\"1972\",\"1973\",\"1974\",\"1975\",\"1976\",\"1977\",\"1978\",\"1979\",\"1980\",\"1981\",\"1982\",\"1983\",\"1984\",\"1985\",\"1986\",\"1987\",\"1988\",\"1989\",\"1990\",\"1991\",\"1992\",\"1993\",\"1994\",\"1995\",\"1996\",\"1997\",\"1998\",\"1999\",\"2000\",\"2001\",\"2002\",\"2003\",\"2004\",\"2005\",\"2006\",\"2007\",\"2008\",\"2009\",\"2010\",\"2011\",\"2012\",\"2013\",\"2014\",\"2015\",\"2016\",\"2017\",\"2018\",\"2019\",\"2020\",\"2021\",\"2022\",\"2023\"],\"y\":[0.0,0.0,0.0,0.0,0.0,0.0,0.0,1.0,0.0,0.0,0.0,0.0,2.0,0.0,1.0,2.0,0.0,3.0,0.0,0.0,1.0,2.0,0.0,1.0,2.0,5.0,3.0,6.0,4.0,4.0,5.0,5.0,5.0,7.0,12.0,8.0,10.0,14.0,18.0,21.0,23.0,33.0,38.0,39.0,52.0,39.0,65.0,59.0,85.0,98.0,85.0,100.0,89.0,107.0,100.0,91.0,75.0,70.0,102.0,92.0,74.0,64.0,27.0,3.0],\"type\":\"scatter\"},{\"mode\":\"lines+markers\",\"name\":\"Drama\",\"x\":[\"1951\",\"1953\",\"1956\",\"1957\",\"1960\",\"1961\",\"1966\",\"1967\",\"1968\",\"1969\",\"1970\",\"1971\",\"1972\",\"1973\",\"1974\",\"1975\",\"1976\",\"1977\",\"1978\",\"1979\",\"1980\",\"1981\",\"1982\",\"1983\",\"1984\",\"1985\",\"1986\",\"1987\",\"1988\",\"1989\",\"1990\",\"1991\",\"1992\",\"1993\",\"1994\",\"1995\",\"1996\",\"1997\",\"1998\",\"1999\",\"2000\",\"2001\",\"2002\",\"2003\",\"2004\",\"2005\",\"2006\",\"2007\",\"2008\",\"2009\",\"2010\",\"2011\",\"2012\",\"2013\",\"2014\",\"2015\",\"2016\",\"2017\",\"2018\",\"2019\",\"2020\",\"2021\",\"2022\",\"2023\"],\"y\":[0.0,1.0,2.0,1.0,0.0,0.0,1.0,1.0,1.0,1.0,1.0,1.0,3.0,3.0,3.0,1.0,2.0,1.0,0.0,3.0,3.0,4.0,0.0,0.0,0.0,2.0,3.0,4.0,3.0,4.0,6.0,4.0,5.0,9.0,11.0,8.0,12.0,11.0,20.0,23.0,28.0,31.0,33.0,32.0,46.0,45.0,54.0,52.0,72.0,60.0,63.0,54.0,66.0,81.0,57.0,44.0,41.0,43.0,52.0,50.0,40.0,19.0,14.0,3.0],\"type\":\"scatter\"},{\"mode\":\"lines+markers\",\"name\":\"Ecchi\",\"x\":[\"1951\",\"1953\",\"1956\",\"1957\",\"1960\",\"1961\",\"1966\",\"1967\",\"1968\",\"1969\",\"1970\",\"1971\",\"1972\",\"1973\",\"1974\",\"1975\",\"1976\",\"1977\",\"1978\",\"1979\",\"1980\",\"1981\",\"1982\",\"1983\",\"1984\",\"1985\",\"1986\",\"1987\",\"1988\",\"1989\",\"1990\",\"1991\",\"1992\",\"1993\",\"1994\",\"1995\",\"1996\",\"1997\",\"1998\",\"1999\",\"2000\",\"2001\",\"2002\",\"2003\",\"2004\",\"2005\",\"2006\",\"2007\",\"2008\",\"2009\",\"2010\",\"2011\",\"2012\",\"2013\",\"2014\",\"2015\",\"2016\",\"2017\",\"2018\",\"2019\",\"2020\",\"2021\",\"2022\",\"2023\"],\"y\":[0.0,0.0,0.0,0.0,0.0,0.0,0.0,0.0,0.0,0.0,0.0,0.0,1.0,1.0,1.0,2.0,0.0,0.0,0.0,0.0,0.0,0.0,0.0,0.0,0.0,0.0,1.0,2.0,1.0,1.0,2.0,0.0,0.0,0.0,3.0,1.0,3.0,6.0,4.0,4.0,7.0,6.0,11.0,10.0,15.0,13.0,19.0,29.0,22.0,29.0,30.0,34.0,34.0,33.0,23.0,13.0,14.0,9.0,20.0,11.0,10.0,7.0,2.0,0.0],\"type\":\"scatter\"},{\"mode\":\"lines+markers\",\"name\":\"Fantasy\",\"x\":[\"1951\",\"1953\",\"1956\",\"1957\",\"1960\",\"1961\",\"1966\",\"1967\",\"1968\",\"1969\",\"1970\",\"1971\",\"1972\",\"1973\",\"1974\",\"1975\",\"1976\",\"1977\",\"1978\",\"1979\",\"1980\",\"1981\",\"1982\",\"1983\",\"1984\",\"1985\",\"1986\",\"1987\",\"1988\",\"1989\",\"1990\",\"1991\",\"1992\",\"1993\",\"1994\",\"1995\",\"1996\",\"1997\",\"1998\",\"1999\",\"2000\",\"2001\",\"2002\",\"2003\",\"2004\",\"2005\",\"2006\",\"2007\",\"2008\",\"2009\",\"2010\",\"2011\",\"2012\",\"2013\",\"2014\",\"2015\",\"2016\",\"2017\",\"2018\",\"2019\",\"2020\",\"2021\",\"2022\",\"2023\"],\"y\":[0.0,1.0,2.0,1.0,0.0,0.0,1.0,0.0,0.0,1.0,1.0,3.0,0.0,1.0,1.0,1.0,0.0,0.0,2.0,0.0,0.0,0.0,0.0,0.0,1.0,1.0,0.0,3.0,0.0,0.0,7.0,4.0,9.0,3.0,9.0,11.0,7.0,9.0,7.0,8.0,16.0,18.0,14.0,17.0,17.0,31.0,38.0,46.0,51.0,45.0,37.0,44.0,40.0,54.0,63.0,34.0,39.0,41.0,43.0,49.0,40.0,25.0,18.0,2.0],\"type\":\"scatter\"},{\"mode\":\"lines+markers\",\"name\":\"Girls Love\",\"x\":[\"1951\",\"1953\",\"1956\",\"1957\",\"1960\",\"1961\",\"1966\",\"1967\",\"1968\",\"1969\",\"1970\",\"1971\",\"1972\",\"1973\",\"1974\",\"1975\",\"1976\",\"1977\",\"1978\",\"1979\",\"1980\",\"1981\",\"1982\",\"1983\",\"1984\",\"1985\",\"1986\",\"1987\",\"1988\",\"1989\",\"1990\",\"1991\",\"1992\",\"1993\",\"1994\",\"1995\",\"1996\",\"1997\",\"1998\",\"1999\",\"2000\",\"2001\",\"2002\",\"2003\",\"2004\",\"2005\",\"2006\",\"2007\",\"2008\",\"2009\",\"2010\",\"2011\",\"2012\",\"2013\",\"2014\",\"2015\",\"2016\",\"2017\",\"2018\",\"2019\",\"2020\",\"2021\",\"2022\",\"2023\"],\"y\":[0.0,0.0,0.0,0.0,0.0,0.0,0.0,0.0,0.0,0.0,0.0,0.0,0.0,0.0,0.0,0.0,0.0,0.0,0.0,0.0,0.0,0.0,0.0,0.0,0.0,0.0,0.0,0.0,0.0,0.0,0.0,0.0,0.0,0.0,0.0,0.0,0.0,0.0,2.0,0.0,0.0,0.0,0.0,2.0,1.0,3.0,5.0,7.0,4.0,9.0,11.0,9.0,6.0,10.0,10.0,6.0,5.0,9.0,22.0,25.0,10.0,5.0,5.0,0.0],\"type\":\"scatter\"},{\"mode\":\"lines+markers\",\"name\":\"Gourmet\",\"x\":[\"1951\",\"1953\",\"1956\",\"1957\",\"1960\",\"1961\",\"1966\",\"1967\",\"1968\",\"1969\",\"1970\",\"1971\",\"1972\",\"1973\",\"1974\",\"1975\",\"1976\",\"1977\",\"1978\",\"1979\",\"1980\",\"1981\",\"1982\",\"1983\",\"1984\",\"1985\",\"1986\",\"1987\",\"1988\",\"1989\",\"1990\",\"1991\",\"1992\",\"1993\",\"1994\",\"1995\",\"1996\",\"1997\",\"1998\",\"1999\",\"2000\",\"2001\",\"2002\",\"2003\",\"2004\",\"2005\",\"2006\",\"2007\",\"2008\",\"2009\",\"2010\",\"2011\",\"2012\",\"2013\",\"2014\",\"2015\",\"2016\",\"2017\",\"2018\",\"2019\",\"2020\",\"2021\",\"2022\",\"2023\"],\"y\":[0.0,0.0,0.0,0.0,0.0,0.0,0.0,0.0,0.0,0.0,0.0,0.0,0.0,0.0,0.0,0.0,0.0,0.0,0.0,0.0,0.0,0.0,0.0,0.0,0.0,0.0,0.0,0.0,0.0,0.0,0.0,0.0,0.0,0.0,0.0,1.0,2.0,0.0,0.0,1.0,0.0,0.0,1.0,0.0,1.0,0.0,0.0,1.0,1.0,1.0,0.0,0.0,2.0,0.0,0.0,2.0,2.0,1.0,1.0,4.0,0.0,0.0,1.0,0.0],\"type\":\"scatter\"},{\"mode\":\"lines+markers\",\"name\":\"Horror\",\"x\":[\"1951\",\"1953\",\"1956\",\"1957\",\"1960\",\"1961\",\"1966\",\"1967\",\"1968\",\"1969\",\"1970\",\"1971\",\"1972\",\"1973\",\"1974\",\"1975\",\"1976\",\"1977\",\"1978\",\"1979\",\"1980\",\"1981\",\"1982\",\"1983\",\"1984\",\"1985\",\"1986\",\"1987\",\"1988\",\"1989\",\"1990\",\"1991\",\"1992\",\"1993\",\"1994\",\"1995\",\"1996\",\"1997\",\"1998\",\"1999\",\"2000\",\"2001\",\"2002\",\"2003\",\"2004\",\"2005\",\"2006\",\"2007\",\"2008\",\"2009\",\"2010\",\"2011\",\"2012\",\"2013\",\"2014\",\"2015\",\"2016\",\"2017\",\"2018\",\"2019\",\"2020\",\"2021\",\"2022\",\"2023\"],\"y\":[0.0,0.0,0.0,0.0,0.0,0.0,0.0,0.0,0.0,0.0,0.0,0.0,0.0,0.0,1.0,1.0,0.0,0.0,0.0,0.0,1.0,1.0,0.0,2.0,1.0,0.0,0.0,1.0,2.0,1.0,1.0,2.0,2.0,1.0,5.0,7.0,2.0,5.0,3.0,4.0,9.0,7.0,6.0,3.0,10.0,7.0,6.0,8.0,8.0,9.0,8.0,17.0,17.0,12.0,12.0,12.0,12.0,6.0,9.0,5.0,4.0,6.0,0.0,0.0],\"type\":\"scatter\"},{\"mode\":\"lines+markers\",\"name\":\"Mystery\",\"x\":[\"1951\",\"1953\",\"1956\",\"1957\",\"1960\",\"1961\",\"1966\",\"1967\",\"1968\",\"1969\",\"1970\",\"1971\",\"1972\",\"1973\",\"1974\",\"1975\",\"1976\",\"1977\",\"1978\",\"1979\",\"1980\",\"1981\",\"1982\",\"1983\",\"1984\",\"1985\",\"1986\",\"1987\",\"1988\",\"1989\",\"1990\",\"1991\",\"1992\",\"1993\",\"1994\",\"1995\",\"1996\",\"1997\",\"1998\",\"1999\",\"2000\",\"2001\",\"2002\",\"2003\",\"2004\",\"2005\",\"2006\",\"2007\",\"2008\",\"2009\",\"2010\",\"2011\",\"2012\",\"2013\",\"2014\",\"2015\",\"2016\",\"2017\",\"2018\",\"2019\",\"2020\",\"2021\",\"2022\",\"2023\"],\"y\":[0.0,0.0,0.0,0.0,0.0,0.0,0.0,1.0,1.0,1.0,0.0,0.0,1.0,0.0,0.0,0.0,1.0,2.0,0.0,0.0,0.0,2.0,0.0,2.0,0.0,1.0,1.0,0.0,1.0,0.0,3.0,1.0,1.0,0.0,4.0,1.0,1.0,1.0,3.0,8.0,8.0,11.0,5.0,7.0,13.0,15.0,13.0,19.0,19.0,23.0,19.0,25.0,28.0,25.0,21.0,18.0,12.0,12.0,19.0,7.0,14.0,6.0,2.0,4.0],\"type\":\"scatter\"},{\"mode\":\"lines+markers\",\"name\":\"Romance\",\"x\":[\"1951\",\"1953\",\"1956\",\"1957\",\"1960\",\"1961\",\"1966\",\"1967\",\"1968\",\"1969\",\"1970\",\"1971\",\"1972\",\"1973\",\"1974\",\"1975\",\"1976\",\"1977\",\"1978\",\"1979\",\"1980\",\"1981\",\"1982\",\"1983\",\"1984\",\"1985\",\"1986\",\"1987\",\"1988\",\"1989\",\"1990\",\"1991\",\"1992\",\"1993\",\"1994\",\"1995\",\"1996\",\"1997\",\"1998\",\"1999\",\"2000\",\"2001\",\"2002\",\"2003\",\"2004\",\"2005\",\"2006\",\"2007\",\"2008\",\"2009\",\"2010\",\"2011\",\"2012\",\"2013\",\"2014\",\"2015\",\"2016\",\"2017\",\"2018\",\"2019\",\"2020\",\"2021\",\"2022\",\"2023\"],\"y\":[0.0,1.0,1.0,0.0,0.0,0.0,0.0,0.0,0.0,0.0,0.0,0.0,0.0,0.0,0.0,1.0,0.0,1.0,1.0,1.0,2.0,2.0,0.0,0.0,3.0,1.0,3.0,5.0,6.0,1.0,4.0,2.0,4.0,6.0,8.0,4.0,9.0,11.0,22.0,20.0,23.0,36.0,30.0,42.0,63.0,45.0,55.0,56.0,81.0,98.0,104.0,82.0,102.0,113.0,91.0,71.0,55.0,58.0,70.0,75.0,69.0,44.0,26.0,4.0],\"type\":\"scatter\"},{\"mode\":\"lines+markers\",\"name\":\"Sci-Fi\",\"x\":[\"1951\",\"1953\",\"1956\",\"1957\",\"1960\",\"1961\",\"1966\",\"1967\",\"1968\",\"1969\",\"1970\",\"1971\",\"1972\",\"1973\",\"1974\",\"1975\",\"1976\",\"1977\",\"1978\",\"1979\",\"1980\",\"1981\",\"1982\",\"1983\",\"1984\",\"1985\",\"1986\",\"1987\",\"1988\",\"1989\",\"1990\",\"1991\",\"1992\",\"1993\",\"1994\",\"1995\",\"1996\",\"1997\",\"1998\",\"1999\",\"2000\",\"2001\",\"2002\",\"2003\",\"2004\",\"2005\",\"2006\",\"2007\",\"2008\",\"2009\",\"2010\",\"2011\",\"2012\",\"2013\",\"2014\",\"2015\",\"2016\",\"2017\",\"2018\",\"2019\",\"2020\",\"2021\",\"2022\",\"2023\"],\"y\":[1.0,0.0,1.0,0.0,1.0,1.0,1.0,0.0,2.0,2.0,1.0,0.0,0.0,3.0,2.0,4.0,1.0,3.0,0.0,1.0,1.0,1.0,1.0,0.0,0.0,4.0,4.0,1.0,5.0,4.0,7.0,7.0,3.0,4.0,10.0,6.0,6.0,10.0,5.0,10.0,12.0,20.0,17.0,13.0,18.0,14.0,13.0,18.0,11.0,19.0,22.0,28.0,29.0,36.0,29.0,19.0,16.0,15.0,20.0,13.0,15.0,5.0,7.0,2.0],\"type\":\"scatter\"},{\"mode\":\"lines+markers\",\"name\":\"Slice of Life\",\"x\":[\"1951\",\"1953\",\"1956\",\"1957\",\"1960\",\"1961\",\"1966\",\"1967\",\"1968\",\"1969\",\"1970\",\"1971\",\"1972\",\"1973\",\"1974\",\"1975\",\"1976\",\"1977\",\"1978\",\"1979\",\"1980\",\"1981\",\"1982\",\"1983\",\"1984\",\"1985\",\"1986\",\"1987\",\"1988\",\"1989\",\"1990\",\"1991\",\"1992\",\"1993\",\"1994\",\"1995\",\"1996\",\"1997\",\"1998\",\"1999\",\"2000\",\"2001\",\"2002\",\"2003\",\"2004\",\"2005\",\"2006\",\"2007\",\"2008\",\"2009\",\"2010\",\"2011\",\"2012\",\"2013\",\"2014\",\"2015\",\"2016\",\"2017\",\"2018\",\"2019\",\"2020\",\"2021\",\"2022\",\"2023\"],\"y\":[0.0,0.0,0.0,0.0,0.0,0.0,0.0,0.0,1.0,0.0,0.0,0.0,0.0,1.0,1.0,0.0,0.0,1.0,0.0,0.0,0.0,0.0,0.0,0.0,2.0,0.0,1.0,2.0,1.0,0.0,1.0,1.0,0.0,4.0,2.0,2.0,4.0,3.0,5.0,7.0,6.0,13.0,4.0,10.0,16.0,10.0,28.0,19.0,27.0,30.0,28.0,28.0,27.0,38.0,37.0,39.0,36.0,27.0,46.0,48.0,41.0,21.0,12.0,0.0],\"type\":\"scatter\"},{\"mode\":\"lines+markers\",\"name\":\"Sports\",\"x\":[\"1951\",\"1953\",\"1956\",\"1957\",\"1960\",\"1961\",\"1966\",\"1967\",\"1968\",\"1969\",\"1970\",\"1971\",\"1972\",\"1973\",\"1974\",\"1975\",\"1976\",\"1977\",\"1978\",\"1979\",\"1980\",\"1981\",\"1982\",\"1983\",\"1984\",\"1985\",\"1986\",\"1987\",\"1988\",\"1989\",\"1990\",\"1991\",\"1992\",\"1993\",\"1994\",\"1995\",\"1996\",\"1997\",\"1998\",\"1999\",\"2000\",\"2001\",\"2002\",\"2003\",\"2004\",\"2005\",\"2006\",\"2007\",\"2008\",\"2009\",\"2010\",\"2011\",\"2012\",\"2013\",\"2014\",\"2015\",\"2016\",\"2017\",\"2018\",\"2019\",\"2020\",\"2021\",\"2022\",\"2023\"],\"y\":[0.0,0.0,0.0,0.0,0.0,0.0,0.0,0.0,1.0,0.0,0.0,0.0,0.0,1.0,0.0,0.0,0.0,0.0,0.0,0.0,0.0,0.0,0.0,1.0,0.0,1.0,0.0,1.0,0.0,1.0,1.0,0.0,0.0,3.0,2.0,1.0,2.0,3.0,3.0,1.0,4.0,2.0,4.0,2.0,3.0,2.0,6.0,6.0,2.0,7.0,8.0,0.0,4.0,4.0,3.0,2.0,1.0,5.0,1.0,3.0,3.0,3.0,1.0,0.0],\"type\":\"scatter\"},{\"mode\":\"lines+markers\",\"name\":\"Supernatural\",\"x\":[\"1951\",\"1953\",\"1956\",\"1957\",\"1960\",\"1961\",\"1966\",\"1967\",\"1968\",\"1969\",\"1970\",\"1971\",\"1972\",\"1973\",\"1974\",\"1975\",\"1976\",\"1977\",\"1978\",\"1979\",\"1980\",\"1981\",\"1982\",\"1983\",\"1984\",\"1985\",\"1986\",\"1987\",\"1988\",\"1989\",\"1990\",\"1991\",\"1992\",\"1993\",\"1994\",\"1995\",\"1996\",\"1997\",\"1998\",\"1999\",\"2000\",\"2001\",\"2002\",\"2003\",\"2004\",\"2005\",\"2006\",\"2007\",\"2008\",\"2009\",\"2010\",\"2011\",\"2012\",\"2013\",\"2014\",\"2015\",\"2016\",\"2017\",\"2018\",\"2019\",\"2020\",\"2021\",\"2022\",\"2023\"],\"y\":[0.0,0.0,0.0,0.0,0.0,0.0,0.0,0.0,0.0,0.0,0.0,0.0,0.0,0.0,0.0,0.0,0.0,0.0,0.0,1.0,1.0,2.0,0.0,2.0,2.0,0.0,0.0,3.0,3.0,1.0,0.0,2.0,3.0,4.0,8.0,9.0,5.0,9.0,13.0,9.0,12.0,11.0,16.0,11.0,27.0,35.0,33.0,40.0,40.0,46.0,43.0,53.0,54.0,78.0,53.0,51.0,43.0,42.0,45.0,29.0,27.0,19.0,7.0,2.0],\"type\":\"scatter\"},{\"mode\":\"lines+markers\",\"name\":\"Suspense\",\"x\":[\"1951\",\"1953\",\"1956\",\"1957\",\"1960\",\"1961\",\"1966\",\"1967\",\"1968\",\"1969\",\"1970\",\"1971\",\"1972\",\"1973\",\"1974\",\"1975\",\"1976\",\"1977\",\"1978\",\"1979\",\"1980\",\"1981\",\"1982\",\"1983\",\"1984\",\"1985\",\"1986\",\"1987\",\"1988\",\"1989\",\"1990\",\"1991\",\"1992\",\"1993\",\"1994\",\"1995\",\"1996\",\"1997\",\"1998\",\"1999\",\"2000\",\"2001\",\"2002\",\"2003\",\"2004\",\"2005\",\"2006\",\"2007\",\"2008\",\"2009\",\"2010\",\"2011\",\"2012\",\"2013\",\"2014\",\"2015\",\"2016\",\"2017\",\"2018\",\"2019\",\"2020\",\"2021\",\"2022\",\"2023\"],\"y\":[0.0,0.0,0.0,0.0,0.0,0.0,0.0,0.0,0.0,0.0,0.0,0.0,0.0,0.0,0.0,0.0,0.0,0.0,0.0,0.0,0.0,0.0,0.0,0.0,0.0,0.0,0.0,1.0,1.0,0.0,0.0,0.0,0.0,0.0,1.0,2.0,1.0,0.0,0.0,0.0,0.0,1.0,0.0,0.0,0.0,0.0,1.0,2.0,2.0,0.0,3.0,2.0,1.0,2.0,1.0,4.0,1.0,4.0,1.0,3.0,3.0,1.0,2.0,0.0],\"type\":\"scatter\"}],                        {\"showlegend\":false,\"title\":{\"text\":\"Genre Count by Year - Line Chart\"},\"xaxis\":{\"title\":{\"text\":\"Year\"}},\"yaxis\":{\"title\":{\"text\":\"Count\"}},\"template\":{\"data\":{\"histogram2dcontour\":[{\"type\":\"histogram2dcontour\",\"colorbar\":{\"outlinewidth\":0,\"ticks\":\"\"},\"colorscale\":[[0.0,\"#0d0887\"],[0.1111111111111111,\"#46039f\"],[0.2222222222222222,\"#7201a8\"],[0.3333333333333333,\"#9c179e\"],[0.4444444444444444,\"#bd3786\"],[0.5555555555555556,\"#d8576b\"],[0.6666666666666666,\"#ed7953\"],[0.7777777777777778,\"#fb9f3a\"],[0.8888888888888888,\"#fdca26\"],[1.0,\"#f0f921\"]]}],\"choropleth\":[{\"type\":\"choropleth\",\"colorbar\":{\"outlinewidth\":0,\"ticks\":\"\"}}],\"histogram2d\":[{\"type\":\"histogram2d\",\"colorbar\":{\"outlinewidth\":0,\"ticks\":\"\"},\"colorscale\":[[0.0,\"#0d0887\"],[0.1111111111111111,\"#46039f\"],[0.2222222222222222,\"#7201a8\"],[0.3333333333333333,\"#9c179e\"],[0.4444444444444444,\"#bd3786\"],[0.5555555555555556,\"#d8576b\"],[0.6666666666666666,\"#ed7953\"],[0.7777777777777778,\"#fb9f3a\"],[0.8888888888888888,\"#fdca26\"],[1.0,\"#f0f921\"]]}],\"heatmap\":[{\"type\":\"heatmap\",\"colorbar\":{\"outlinewidth\":0,\"ticks\":\"\"},\"colorscale\":[[0.0,\"#0d0887\"],[0.1111111111111111,\"#46039f\"],[0.2222222222222222,\"#7201a8\"],[0.3333333333333333,\"#9c179e\"],[0.4444444444444444,\"#bd3786\"],[0.5555555555555556,\"#d8576b\"],[0.6666666666666666,\"#ed7953\"],[0.7777777777777778,\"#fb9f3a\"],[0.8888888888888888,\"#fdca26\"],[1.0,\"#f0f921\"]]}],\"heatmapgl\":[{\"type\":\"heatmapgl\",\"colorbar\":{\"outlinewidth\":0,\"ticks\":\"\"},\"colorscale\":[[0.0,\"#0d0887\"],[0.1111111111111111,\"#46039f\"],[0.2222222222222222,\"#7201a8\"],[0.3333333333333333,\"#9c179e\"],[0.4444444444444444,\"#bd3786\"],[0.5555555555555556,\"#d8576b\"],[0.6666666666666666,\"#ed7953\"],[0.7777777777777778,\"#fb9f3a\"],[0.8888888888888888,\"#fdca26\"],[1.0,\"#f0f921\"]]}],\"contourcarpet\":[{\"type\":\"contourcarpet\",\"colorbar\":{\"outlinewidth\":0,\"ticks\":\"\"}}],\"contour\":[{\"type\":\"contour\",\"colorbar\":{\"outlinewidth\":0,\"ticks\":\"\"},\"colorscale\":[[0.0,\"#0d0887\"],[0.1111111111111111,\"#46039f\"],[0.2222222222222222,\"#7201a8\"],[0.3333333333333333,\"#9c179e\"],[0.4444444444444444,\"#bd3786\"],[0.5555555555555556,\"#d8576b\"],[0.6666666666666666,\"#ed7953\"],[0.7777777777777778,\"#fb9f3a\"],[0.8888888888888888,\"#fdca26\"],[1.0,\"#f0f921\"]]}],\"surface\":[{\"type\":\"surface\",\"colorbar\":{\"outlinewidth\":0,\"ticks\":\"\"},\"colorscale\":[[0.0,\"#0d0887\"],[0.1111111111111111,\"#46039f\"],[0.2222222222222222,\"#7201a8\"],[0.3333333333333333,\"#9c179e\"],[0.4444444444444444,\"#bd3786\"],[0.5555555555555556,\"#d8576b\"],[0.6666666666666666,\"#ed7953\"],[0.7777777777777778,\"#fb9f3a\"],[0.8888888888888888,\"#fdca26\"],[1.0,\"#f0f921\"]]}],\"mesh3d\":[{\"type\":\"mesh3d\",\"colorbar\":{\"outlinewidth\":0,\"ticks\":\"\"}}],\"scatter\":[{\"fillpattern\":{\"fillmode\":\"overlay\",\"size\":10,\"solidity\":0.2},\"type\":\"scatter\"}],\"parcoords\":[{\"type\":\"parcoords\",\"line\":{\"colorbar\":{\"outlinewidth\":0,\"ticks\":\"\"}}}],\"scatterpolargl\":[{\"type\":\"scatterpolargl\",\"marker\":{\"colorbar\":{\"outlinewidth\":0,\"ticks\":\"\"}}}],\"bar\":[{\"error_x\":{\"color\":\"#2a3f5f\"},\"error_y\":{\"color\":\"#2a3f5f\"},\"marker\":{\"line\":{\"color\":\"#E5ECF6\",\"width\":0.5},\"pattern\":{\"fillmode\":\"overlay\",\"size\":10,\"solidity\":0.2}},\"type\":\"bar\"}],\"scattergeo\":[{\"type\":\"scattergeo\",\"marker\":{\"colorbar\":{\"outlinewidth\":0,\"ticks\":\"\"}}}],\"scatterpolar\":[{\"type\":\"scatterpolar\",\"marker\":{\"colorbar\":{\"outlinewidth\":0,\"ticks\":\"\"}}}],\"histogram\":[{\"marker\":{\"pattern\":{\"fillmode\":\"overlay\",\"size\":10,\"solidity\":0.2}},\"type\":\"histogram\"}],\"scattergl\":[{\"type\":\"scattergl\",\"marker\":{\"colorbar\":{\"outlinewidth\":0,\"ticks\":\"\"}}}],\"scatter3d\":[{\"type\":\"scatter3d\",\"line\":{\"colorbar\":{\"outlinewidth\":0,\"ticks\":\"\"}},\"marker\":{\"colorbar\":{\"outlinewidth\":0,\"ticks\":\"\"}}}],\"scattermapbox\":[{\"type\":\"scattermapbox\",\"marker\":{\"colorbar\":{\"outlinewidth\":0,\"ticks\":\"\"}}}],\"scatterternary\":[{\"type\":\"scatterternary\",\"marker\":{\"colorbar\":{\"outlinewidth\":0,\"ticks\":\"\"}}}],\"scattercarpet\":[{\"type\":\"scattercarpet\",\"marker\":{\"colorbar\":{\"outlinewidth\":0,\"ticks\":\"\"}}}],\"carpet\":[{\"aaxis\":{\"endlinecolor\":\"#2a3f5f\",\"gridcolor\":\"white\",\"linecolor\":\"white\",\"minorgridcolor\":\"white\",\"startlinecolor\":\"#2a3f5f\"},\"baxis\":{\"endlinecolor\":\"#2a3f5f\",\"gridcolor\":\"white\",\"linecolor\":\"white\",\"minorgridcolor\":\"white\",\"startlinecolor\":\"#2a3f5f\"},\"type\":\"carpet\"}],\"table\":[{\"cells\":{\"fill\":{\"color\":\"#EBF0F8\"},\"line\":{\"color\":\"white\"}},\"header\":{\"fill\":{\"color\":\"#C8D4E3\"},\"line\":{\"color\":\"white\"}},\"type\":\"table\"}],\"barpolar\":[{\"marker\":{\"line\":{\"color\":\"#E5ECF6\",\"width\":0.5},\"pattern\":{\"fillmode\":\"overlay\",\"size\":10,\"solidity\":0.2}},\"type\":\"barpolar\"}],\"pie\":[{\"automargin\":true,\"type\":\"pie\"}]},\"layout\":{\"autotypenumbers\":\"strict\",\"colorway\":[\"#636efa\",\"#EF553B\",\"#00cc96\",\"#ab63fa\",\"#FFA15A\",\"#19d3f3\",\"#FF6692\",\"#B6E880\",\"#FF97FF\",\"#FECB52\"],\"font\":{\"color\":\"#2a3f5f\"},\"hovermode\":\"closest\",\"hoverlabel\":{\"align\":\"left\"},\"paper_bgcolor\":\"white\",\"plot_bgcolor\":\"#E5ECF6\",\"polar\":{\"bgcolor\":\"#E5ECF6\",\"angularaxis\":{\"gridcolor\":\"white\",\"linecolor\":\"white\",\"ticks\":\"\"},\"radialaxis\":{\"gridcolor\":\"white\",\"linecolor\":\"white\",\"ticks\":\"\"}},\"ternary\":{\"bgcolor\":\"#E5ECF6\",\"aaxis\":{\"gridcolor\":\"white\",\"linecolor\":\"white\",\"ticks\":\"\"},\"baxis\":{\"gridcolor\":\"white\",\"linecolor\":\"white\",\"ticks\":\"\"},\"caxis\":{\"gridcolor\":\"white\",\"linecolor\":\"white\",\"ticks\":\"\"}},\"coloraxis\":{\"colorbar\":{\"outlinewidth\":0,\"ticks\":\"\"}},\"colorscale\":{\"sequential\":[[0.0,\"#0d0887\"],[0.1111111111111111,\"#46039f\"],[0.2222222222222222,\"#7201a8\"],[0.3333333333333333,\"#9c179e\"],[0.4444444444444444,\"#bd3786\"],[0.5555555555555556,\"#d8576b\"],[0.6666666666666666,\"#ed7953\"],[0.7777777777777778,\"#fb9f3a\"],[0.8888888888888888,\"#fdca26\"],[1.0,\"#f0f921\"]],\"sequentialminus\":[[0.0,\"#0d0887\"],[0.1111111111111111,\"#46039f\"],[0.2222222222222222,\"#7201a8\"],[0.3333333333333333,\"#9c179e\"],[0.4444444444444444,\"#bd3786\"],[0.5555555555555556,\"#d8576b\"],[0.6666666666666666,\"#ed7953\"],[0.7777777777777778,\"#fb9f3a\"],[0.8888888888888888,\"#fdca26\"],[1.0,\"#f0f921\"]],\"diverging\":[[0,\"#8e0152\"],[0.1,\"#c51b7d\"],[0.2,\"#de77ae\"],[0.3,\"#f1b6da\"],[0.4,\"#fde0ef\"],[0.5,\"#f7f7f7\"],[0.6,\"#e6f5d0\"],[0.7,\"#b8e186\"],[0.8,\"#7fbc41\"],[0.9,\"#4d9221\"],[1,\"#276419\"]]},\"xaxis\":{\"gridcolor\":\"white\",\"linecolor\":\"white\",\"ticks\":\"\",\"title\":{\"standoff\":15},\"zerolinecolor\":\"white\",\"automargin\":true,\"zerolinewidth\":2},\"yaxis\":{\"gridcolor\":\"white\",\"linecolor\":\"white\",\"ticks\":\"\",\"title\":{\"standoff\":15},\"zerolinecolor\":\"white\",\"automargin\":true,\"zerolinewidth\":2},\"scene\":{\"xaxis\":{\"backgroundcolor\":\"#E5ECF6\",\"gridcolor\":\"white\",\"linecolor\":\"white\",\"showbackground\":true,\"ticks\":\"\",\"zerolinecolor\":\"white\",\"gridwidth\":2},\"yaxis\":{\"backgroundcolor\":\"#E5ECF6\",\"gridcolor\":\"white\",\"linecolor\":\"white\",\"showbackground\":true,\"ticks\":\"\",\"zerolinecolor\":\"white\",\"gridwidth\":2},\"zaxis\":{\"backgroundcolor\":\"#E5ECF6\",\"gridcolor\":\"white\",\"linecolor\":\"white\",\"showbackground\":true,\"ticks\":\"\",\"zerolinecolor\":\"white\",\"gridwidth\":2}},\"shapedefaults\":{\"line\":{\"color\":\"#2a3f5f\"}},\"annotationdefaults\":{\"arrowcolor\":\"#2a3f5f\",\"arrowhead\":0,\"arrowwidth\":1},\"geo\":{\"bgcolor\":\"white\",\"landcolor\":\"#E5ECF6\",\"subunitcolor\":\"white\",\"showland\":true,\"showlakes\":true,\"lakecolor\":\"white\"},\"title\":{\"x\":0.05},\"mapbox\":{\"style\":\"light\"}}}},                        {\"responsive\": true}                    ).then(function(){\n",
       "                            \n",
       "var gd = document.getElementById('6d5481c9-bf51-499c-9906-8039220bb5e0');\n",
       "var x = new MutationObserver(function (mutations, observer) {{\n",
       "        var display = window.getComputedStyle(gd).display;\n",
       "        if (!display || display === 'none') {{\n",
       "            console.log([gd, 'removed!']);\n",
       "            Plotly.purge(gd);\n",
       "            observer.disconnect();\n",
       "        }}\n",
       "}});\n",
       "\n",
       "// Listen for the removal of the full notebook cells\n",
       "var notebookContainer = gd.closest('#notebook-container');\n",
       "if (notebookContainer) {{\n",
       "    x.observe(notebookContainer, {childList: true});\n",
       "}}\n",
       "\n",
       "// Listen for the clearing of the current output cell\n",
       "var outputEl = gd.closest('.output');\n",
       "if (outputEl) {{\n",
       "    x.observe(outputEl, {childList: true});\n",
       "}}\n",
       "\n",
       "                        })                };                });            </script>        </div>"
      ]
     },
     "metadata": {},
     "output_type": "display_data"
    }
   ],
   "source": [
    "#LINE GRAPH - INTERACTIVE\n",
    "df_plotly = df_ex_combined.reset_index()\n",
    "\n",
    "line_plots = []\n",
    "for feature in df_plotly.columns[1:]:\n",
    "    line_plot = go.Scatter(\n",
    "        x=df_plotly['index'],\n",
    "        y=df_plotly[feature],\n",
    "        mode='lines+markers',\n",
    "        name=feature\n",
    "    )\n",
    "    line_plots.append(line_plot)\n",
    "\n",
    "\n",
    "layout = go.Layout(\n",
    "    xaxis=dict(title='Year'),\n",
    "    yaxis=dict(title='Count'),\n",
    "    title='Genre Count by Year - Line Chart',\n",
    "    showlegend=True\n",
    ")\n",
    "\n",
    "\n",
    "fig = go.Figure(data=line_plots, layout=layout)\n",
    "\n",
    "# Show the interactive plot\n",
    "fig.show()\n"
   ]
  },
  {
   "cell_type": "code",
   "execution_count": 238,
   "id": "e4233e94",
   "metadata": {},
   "outputs": [],
   "source": [
    "df_ex_combined = df_ex_combined.reset_index()"
   ]
  },
  {
   "cell_type": "code",
   "execution_count": 232,
   "id": "21bb6ae3",
   "metadata": {},
   "outputs": [],
   "source": [
    "# After clean data, we convert into json | csv\n",
    "df_cor.to_csv('df_cor-manga.csv', index=False)\n",
    "df_cor.to_json('df_cor-manga.json', orient='records')\n",
    "\n",
    "df_cor2.to_csv('df_cor2-manga.csv', index=False)\n",
    "df_cor2.to_json('df_cor2-manga.json', orient='records')\n",
    "\n",
    "df_ex_combined.to_csv('df_ex_combined-manga.csv', index=False)\n",
    "df_ex_combined.to_json('df_ex_combined-manga.json', orient='records')"
   ]
  },
  {
   "cell_type": "code",
   "execution_count": 363,
   "id": "7ae5ac88",
   "metadata": {},
   "outputs": [],
   "source": [
    "# We are going to compute the correlation between SCORE | SCORE-GROUP and genres\n",
    "# 1st thought, using HEAT MAP, LINE GRAPH\n",
    "df_gen_sco = df.copy()"
   ]
  },
  {
   "cell_type": "code",
   "execution_count": 364,
   "id": "e7fec9f5",
   "metadata": {},
   "outputs": [
    {
     "data": {
      "text/plain": [
       "Index(['name', 'type', 'status', 'time_published', 'genres', 'serialization',\n",
       "       'score', 'ranked', 'popularity', 'members', 'favorites'],\n",
       "      dtype='object')"
      ]
     },
     "execution_count": 364,
     "metadata": {},
     "output_type": "execute_result"
    }
   ],
   "source": [
    "df_gen_sco.columns"
   ]
  },
  {
   "cell_type": "code",
   "execution_count": 365,
   "id": "9018f204",
   "metadata": {},
   "outputs": [],
   "source": [
    "df_gen_sco.drop(columns = ['name', 'type', 'status', 'time_published', 'serialization'\n",
    "                           , 'ranked', 'popularity', 'members', 'favorites'],axis=1, inplace = True)"
   ]
  },
  {
   "cell_type": "code",
   "execution_count": 366,
   "id": "0dfce43f",
   "metadata": {},
   "outputs": [
    {
     "name": "stderr",
     "output_type": "stream",
     "text": [
      "/var/folders/49/0z2npmwj0rlf4ldy37x66bb00000gn/T/ipykernel_24748/1323027559.py:2: FutureWarning:\n",
      "\n",
      "The default dtype for empty Series will be 'object' instead of 'float64' in a future version. Specify a dtype explicitly to silence this warning.\n",
      "\n",
      "/var/folders/49/0z2npmwj0rlf4ldy37x66bb00000gn/T/ipykernel_24748/1323027559.py:2: FutureWarning:\n",
      "\n",
      "Using the level keyword in DataFrame and Series aggregations is deprecated and will be removed in a future version. Use groupby instead. df.sum(level=1) should use df.groupby(level=1).sum().\n",
      "\n"
     ]
    }
   ],
   "source": [
    "# normalize the genres column\n",
    "genres = pd.get_dummies(df_gen_sco['genres'].apply(pd.Series).stack()).sum(level=0)\n",
    "df_gen_sco = pd.concat([df_gen_sco, genres], axis=1)\n",
    "\n",
    "\n",
    "# \"score\" column\n",
    "df_gen_sco.score = df_gen_sco.score.apply(lambda x: x[0])\n",
    "df_gen_sco.score = df_gen_sco.score.astype('float')"
   ]
  },
  {
   "cell_type": "code",
   "execution_count": 367,
   "id": "2c6a42e9",
   "metadata": {},
   "outputs": [],
   "source": [
    "# Drop na in this dataframe and add if scores are equal\n",
    "df_gen_sco = df_gen_sco.dropna()\n",
    "df_gen_sco = df_gen_sco.drop(['genres'],axis = 1)\n",
    "df_gen_sco = df_gen_sco.groupby('score').sum()"
   ]
  },
  {
   "cell_type": "code",
   "execution_count": 348,
   "id": "094beafc",
   "metadata": {},
   "outputs": [
    {
     "data": {
      "application/vnd.plotly.v1+json": {
       "config": {
        "plotlyServerURL": "https://plot.ly"
       },
       "data": [
        {
         "colorscale": [
          [
           0,
           "rgb(247,251,255)"
          ],
          [
           0.125,
           "rgb(222,235,247)"
          ],
          [
           0.25,
           "rgb(198,219,239)"
          ],
          [
           0.375,
           "rgb(158,202,225)"
          ],
          [
           0.5,
           "rgb(107,174,214)"
          ],
          [
           0.625,
           "rgb(66,146,198)"
          ],
          [
           0.75,
           "rgb(33,113,181)"
          ],
          [
           0.875,
           "rgb(8,81,156)"
          ],
          [
           1,
           "rgb(8,48,107)"
          ]
         ],
         "type": "heatmap",
         "x": [
          "Action",
          "Adventure",
          "Avant Garde",
          "Award Winning",
          "Boys Love",
          "Comedy",
          "Drama",
          "Ecchi",
          "Fantasy",
          "Girls Love",
          "Gourmet",
          "Horror",
          "Mystery",
          "Romance",
          "Sci-Fi",
          "Slice of Life",
          "Sports",
          "Supernatural",
          "Suspense"
         ],
         "y": [
          6.37,
          6.38,
          6.39,
          6.4,
          6.41,
          6.42,
          6.43,
          6.44,
          6.45,
          6.46,
          6.47,
          6.48,
          6.49,
          6.5,
          6.51,
          6.52,
          6.53,
          6.54,
          6.55,
          6.56,
          6.57,
          6.58,
          6.59,
          6.6,
          6.61,
          6.62,
          6.63,
          6.64,
          6.65,
          6.66,
          6.67,
          6.68,
          6.69,
          6.7,
          6.71,
          6.72,
          6.73,
          6.74,
          6.75,
          6.76,
          6.77,
          6.78,
          6.79,
          6.8,
          6.81,
          6.82,
          6.83,
          6.84,
          6.85,
          6.86,
          6.87,
          6.88,
          6.89,
          6.9,
          6.91,
          6.92,
          6.93,
          6.94,
          6.95,
          6.96,
          6.97,
          6.98,
          6.99,
          7,
          7.01,
          7.02,
          7.03,
          7.04,
          7.05,
          7.06,
          7.07,
          7.08,
          7.09,
          7.1,
          7.11,
          7.12,
          7.13,
          7.14,
          7.15,
          7.16,
          7.17,
          7.18,
          7.19,
          7.2,
          7.21,
          7.22,
          7.23,
          7.24,
          7.25,
          7.26,
          7.27,
          7.28,
          7.29,
          7.3,
          7.31,
          7.32,
          7.33,
          7.34,
          7.35,
          7.36,
          7.37,
          7.38,
          7.39,
          7.4,
          7.41,
          7.42,
          7.43,
          7.44,
          7.45,
          7.46,
          7.47,
          7.48,
          7.49,
          7.5,
          7.51,
          7.52,
          7.53,
          7.54,
          7.55,
          7.56,
          7.57,
          7.58,
          7.59,
          7.6,
          7.61,
          7.62,
          7.63,
          7.64,
          7.65,
          7.66,
          7.67,
          7.68,
          7.69,
          7.71,
          7.72,
          7.73,
          7.74,
          7.75,
          7.76,
          7.77,
          7.78,
          7.79,
          7.8,
          7.81,
          7.82,
          7.83,
          7.85,
          7.86,
          7.88,
          7.91,
          7.93,
          7.94,
          7.96,
          7.97,
          7.99,
          8,
          8.03,
          8.04,
          8.08,
          8.12,
          8.13,
          8.16,
          8.2,
          8.21,
          8.22,
          8.26,
          8.27,
          8.28,
          8.32,
          8.33,
          8.34,
          8.38,
          8.39,
          8.4,
          8.5,
          8.51,
          8.52,
          8.63,
          8.64,
          8.65,
          8.67,
          8.68,
          8.69,
          8.88,
          8.89,
          8.92,
          8.94,
          8.95,
          8.96,
          9,
          9.02,
          9.03,
          9.04,
          9.07,
          9.15,
          9.47
         ],
         "z": [
          [
           4,
           0,
           0,
           0,
           0,
           3,
           6,
           1,
           2,
           1,
           0,
           1,
           2,
           7,
           2,
           2,
           0,
           4,
           0
          ],
          [
           6,
           0,
           0,
           0,
           1,
           4,
           2,
           3,
           3,
           0,
           0,
           0,
           0,
           3,
           1,
           0,
           0,
           2,
           0
          ],
          [
           2,
           1,
           0,
           0,
           1,
           5,
           4,
           2,
           3,
           1,
           0,
           1,
           2,
           4,
           3,
           1,
           0,
           6,
           0
          ],
          [
           7,
           4,
           0,
           0,
           0,
           4,
           3,
           1,
           9,
           0,
           0,
           1,
           1,
           4,
           1,
           3,
           0,
           2,
           0
          ],
          [
           5,
           4,
           0,
           0,
           0,
           3,
           3,
           2,
           5,
           3,
           0,
           0,
           1,
           2,
           1,
           0,
           0,
           2,
           0
          ],
          [
           0,
           0,
           0,
           0,
           0,
           3,
           1,
           1,
           2,
           0,
           0,
           1,
           0,
           1,
           0,
           0,
           0,
           0,
           0
          ],
          [
           5,
           4,
           0,
           0,
           0,
           3,
           2,
           2,
           7,
           0,
           0,
           2,
           0,
           3,
           1,
           0,
           0,
           2,
           0
          ],
          [
           9,
           2,
           0,
           0,
           1,
           13,
           9,
           7,
           8,
           3,
           0,
           1,
           0,
           9,
           6,
           1,
           0,
           3,
           0
          ],
          [
           5,
           5,
           1,
           0,
           1,
           4,
           2,
           5,
           7,
           0,
           0,
           2,
           1,
           2,
           2,
           1,
           0,
           0,
           0
          ],
          [
           9,
           5,
           0,
           0,
           0,
           4,
           1,
           0,
           8,
           0,
           0,
           2,
           0,
           4,
           1,
           2,
           0,
           2,
           1
          ],
          [
           3,
           3,
           0,
           0,
           0,
           3,
           4,
           2,
           4,
           0,
           0,
           1,
           0,
           5,
           3,
           0,
           0,
           2,
           0
          ],
          [
           2,
           5,
           1,
           0,
           2,
           10,
           5,
           1,
           7,
           1,
           0,
           0,
           0,
           10,
           1,
           1,
           2,
           2,
           0
          ],
          [
           6,
           4,
           0,
           0,
           0,
           8,
           2,
           6,
           9,
           0,
           0,
           2,
           0,
           10,
           2,
           1,
           0,
           5,
           0
          ],
          [
           5,
           2,
           0,
           0,
           0,
           10,
           2,
           5,
           6,
           2,
           0,
           2,
           2,
           5,
           0,
           2,
           0,
           3,
           0
          ],
          [
           6,
           4,
           0,
           0,
           0,
           8,
           5,
           6,
           5,
           0,
           0,
           4,
           4,
           10,
           2,
           3,
           1,
           8,
           0
          ],
          [
           3,
           2,
           0,
           0,
           1,
           4,
           8,
           2,
           3,
           0,
           0,
           2,
           2,
           4,
           0,
           1,
           0,
           6,
           0
          ],
          [
           3,
           6,
           0,
           0,
           0,
           9,
           2,
           3,
           7,
           1,
           0,
           1,
           1,
           7,
           0,
           3,
           0,
           3,
           0
          ],
          [
           4,
           3,
           0,
           0,
           2,
           10,
           10,
           1,
           4,
           0,
           1,
           1,
           2,
           12,
           4,
           4,
           0,
           5,
           0
          ],
          [
           6,
           5,
           0,
           0,
           0,
           10,
           6,
           6,
           4,
           3,
           0,
           1,
           2,
           10,
           1,
           2,
           1,
           6,
           0
          ],
          [
           4,
           0,
           0,
           0,
           0,
           10,
           2,
           2,
           5,
           0,
           0,
           0,
           0,
           6,
           1,
           3,
           0,
           3,
           0
          ],
          [
           6,
           5,
           0,
           0,
           1,
           12,
           4,
           5,
           7,
           3,
           2,
           2,
           1,
           13,
           2,
           4,
           0,
           2,
           0
          ],
          [
           4,
           2,
           0,
           0,
           1,
           8,
           6,
           2,
           4,
           0,
           0,
           2,
           1,
           11,
           4,
           2,
           0,
           2,
           0
          ],
          [
           6,
           2,
           0,
           0,
           1,
           3,
           5,
           2,
           2,
           1,
           0,
           0,
           2,
           5,
           1,
           1,
           0,
           2,
           0
          ],
          [
           8,
           5,
           0,
           0,
           1,
           14,
           5,
           7,
           8,
           0,
           0,
           3,
           3,
           11,
           3,
           3,
           0,
           6,
           0
          ],
          [
           8,
           5,
           0,
           0,
           3,
           15,
           6,
           5,
           6,
           1,
           0,
           2,
           1,
           8,
           1,
           4,
           2,
           3,
           0
          ],
          [
           5,
           1,
           0,
           0,
           2,
           3,
           7,
           3,
           3,
           1,
           0,
           1,
           2,
           9,
           4,
           1,
           0,
           3,
           0
          ],
          [
           6,
           4,
           0,
           0,
           0,
           15,
           2,
           6,
           8,
           2,
           0,
           0,
           1,
           7,
           1,
           7,
           0,
           6,
           0
          ],
          [
           8,
           4,
           0,
           0,
           0,
           7,
           4,
           2,
           6,
           0,
           0,
           1,
           0,
           8,
           2,
           3,
           0,
           4,
           0
          ],
          [
           7,
           5,
           0,
           0,
           2,
           15,
           8,
           1,
           14,
           2,
           0,
           1,
           2,
           19,
           3,
           3,
           0,
           3,
           2
          ],
          [
           9,
           3,
           0,
           0,
           0,
           11,
           5,
           2,
           5,
           0,
           0,
           3,
           0,
           7,
           2,
           1,
           0,
           4,
           0
          ],
          [
           9,
           4,
           0,
           0,
           1,
           11,
           6,
           6,
           6,
           1,
           1,
           4,
           3,
           8,
           6,
           6,
           0,
           8,
           1
          ],
          [
           3,
           0,
           0,
           0,
           2,
           4,
           10,
           5,
           4,
           1,
           0,
           2,
           1,
           12,
           1,
           2,
           0,
           6,
           0
          ],
          [
           3,
           0,
           0,
           0,
           0,
           6,
           7,
           2,
           2,
           2,
           0,
           2,
           1,
           9,
           4,
           1,
           1,
           4,
           0
          ],
          [
           8,
           2,
           0,
           0,
           0,
           10,
           5,
           4,
           7,
           0,
           0,
           1,
           3,
           11,
           3,
           1,
           0,
           4,
           0
          ],
          [
           7,
           7,
           0,
           0,
           1,
           6,
           4,
           3,
           6,
           0,
           0,
           1,
           1,
           10,
           1,
           1,
           1,
           5,
           0
          ],
          [
           6,
           3,
           0,
           0,
           5,
           10,
           3,
           3,
           7,
           0,
           0,
           3,
           6,
           9,
           3,
           4,
           1,
           5,
           0
          ],
          [
           5,
           1,
           0,
           0,
           0,
           15,
           6,
           6,
           5,
           3,
           1,
           3,
           3,
           14,
           1,
           4,
           0,
           10,
           0
          ],
          [
           7,
           3,
           0,
           0,
           0,
           8,
           4,
           2,
           6,
           0,
           0,
           1,
           1,
           8,
           1,
           2,
           2,
           5,
           0
          ],
          [
           6,
           4,
           0,
           0,
           1,
           5,
           10,
           1,
           6,
           1,
           0,
           3,
           0,
           11,
           3,
           1,
           0,
           2,
           0
          ],
          [
           4,
           4,
           0,
           0,
           2,
           11,
           7,
           3,
           8,
           1,
           0,
           0,
           2,
           9,
           1,
           3,
           0,
           4,
           0
          ],
          [
           5,
           2,
           0,
           1,
           0,
           12,
           8,
           2,
           7,
           0,
           0,
           1,
           1,
           14,
           1,
           5,
           5,
           2,
           0
          ],
          [
           6,
           0,
           0,
           0,
           1,
           9,
           6,
           2,
           3,
           0,
           0,
           1,
           1,
           8,
           4,
           3,
           0,
           4,
           1
          ],
          [
           4,
           5,
           0,
           0,
           0,
           11,
           4,
           3,
           8,
           2,
           0,
           0,
           3,
           9,
           2,
           3,
           1,
           5,
           0
          ],
          [
           6,
           1,
           1,
           0,
           1,
           10,
           6,
           3,
           5,
           0,
           0,
           2,
           0,
           12,
           5,
           4,
           0,
           6,
           0
          ],
          [
           3,
           3,
           0,
           0,
           1,
           15,
           0,
           4,
           7,
           0,
           0,
           0,
           0,
           14,
           2,
           2,
           1,
           2,
           0
          ],
          [
           3,
           3,
           0,
           0,
           0,
           8,
           4,
           3,
           3,
           0,
           0,
           0,
           1,
           8,
           1,
           3,
           0,
           5,
           0
          ],
          [
           10,
           4,
           1,
           0,
           1,
           8,
           6,
           4,
           8,
           0,
           0,
           0,
           1,
           9,
           5,
           3,
           0,
           5,
           0
          ],
          [
           7,
           5,
           0,
           0,
           1,
           9,
           8,
           5,
           5,
           1,
           0,
           2,
           3,
           12,
           1,
           5,
           1,
           11,
           0
          ],
          [
           9,
           5,
           0,
           0,
           1,
           14,
           8,
           1,
           9,
           1,
           1,
           2,
           1,
           16,
           4,
           6,
           0,
           5,
           0
          ],
          [
           8,
           2,
           0,
           0,
           3,
           16,
           8,
           3,
           9,
           0,
           0,
           2,
           3,
           11,
           2,
           4,
           1,
           6,
           0
          ],
          [
           3,
           4,
           0,
           0,
           1,
           10,
           7,
           1,
           7,
           1,
           0,
           1,
           1,
           6,
           3,
           7,
           0,
           5,
           0
          ],
          [
           6,
           5,
           0,
           1,
           1,
           9,
           6,
           2,
           2,
           0,
           1,
           1,
           4,
           9,
           3,
           3,
           0,
           3,
           0
          ],
          [
           10,
           4,
           0,
           0,
           0,
           16,
           11,
           2,
           5,
           2,
           0,
           1,
           2,
           16,
           3,
           5,
           0,
           2,
           0
          ],
          [
           7,
           5,
           0,
           0,
           1,
           10,
           7,
           0,
           8,
           0,
           0,
           2,
           2,
           9,
           4,
           7,
           0,
           4,
           0
          ],
          [
           7,
           4,
           0,
           0,
           1,
           12,
           6,
           3,
           8,
           0,
           0,
           0,
           3,
           14,
           5,
           3,
           1,
           4,
           0
          ],
          [
           9,
           4,
           0,
           0,
           1,
           15,
           6,
           6,
           6,
           0,
           0,
           0,
           1,
           17,
           3,
           7,
           0,
           9,
           1
          ],
          [
           5,
           1,
           0,
           0,
           2,
           13,
           10,
           4,
           4,
           0,
           0,
           1,
           2,
           12,
           2,
           6,
           0,
           6,
           0
          ],
          [
           6,
           1,
           0,
           0,
           2,
           10,
           6,
           4,
           6,
           0,
           0,
           1,
           2,
           11,
           1,
           0,
           1,
           4,
           1
          ],
          [
           7,
           2,
           0,
           0,
           1,
           8,
           4,
           1,
           7,
           2,
           1,
           3,
           2,
           10,
           1,
           6,
           0,
           8,
           0
          ],
          [
           8,
           2,
           0,
           0,
           1,
           10,
           8,
           0,
           9,
           2,
           0,
           3,
           5,
           11,
           4,
           5,
           0,
           7,
           1
          ],
          [
           1,
           3,
           0,
           0,
           1,
           20,
           7,
           5,
           9,
           1,
           0,
           1,
           1,
           13,
           1,
           6,
           1,
           7,
           0
          ],
          [
           4,
           2,
           0,
           1,
           0,
           11,
           10,
           0,
           7,
           2,
           0,
           0,
           1,
           14,
           0,
           8,
           0,
           3,
           0
          ],
          [
           0,
           0,
           0,
           0,
           0,
           10,
           1,
           0,
           0,
           0,
           0,
           0,
           2,
           9,
           2,
           5,
           0,
           1,
           0
          ],
          [
           9,
           1,
           0,
           0,
           1,
           15,
           7,
           2,
           4,
           0,
           0,
           1,
           2,
           10,
           4,
           4,
           0,
           7,
           0
          ],
          [
           2,
           2,
           1,
           0,
           1,
           7,
           5,
           3,
           3,
           0,
           0,
           1,
           2,
           7,
           2,
           2,
           0,
           3,
           0
          ],
          [
           7,
           3,
           0,
           0,
           0,
           6,
           4,
           6,
           3,
           0,
           0,
           0,
           2,
           13,
           3,
           0,
           0,
           1,
           0
          ],
          [
           7,
           2,
           0,
           0,
           0,
           14,
           9,
           5,
           11,
           3,
           1,
           0,
           1,
           14,
           1,
           2,
           2,
           7,
           0
          ],
          [
           11,
           2,
           0,
           0,
           0,
           7,
           11,
           1,
           7,
           1,
           0,
           0,
           3,
           8,
           4,
           1,
           1,
           5,
           0
          ],
          [
           5,
           2,
           0,
           2,
           0,
           10,
           9,
           1,
           9,
           2,
           0,
           0,
           1,
           11,
           0,
           2,
           2,
           5,
           0
          ],
          [
           7,
           3,
           0,
           0,
           3,
           13,
           9,
           3,
           8,
           0,
           1,
           2,
           4,
           14,
           2,
           8,
           0,
           6,
           0
          ],
          [
           6,
           3,
           0,
           0,
           1,
           11,
           6,
           4,
           7,
           1,
           0,
           0,
           1,
           8,
           4,
           5,
           0,
           5,
           0
          ],
          [
           7,
           4,
           0,
           0,
           1,
           15,
           12,
           3,
           10,
           1,
           0,
           0,
           3,
           14,
           1,
           4,
           1,
           8,
           0
          ],
          [
           4,
           2,
           0,
           0,
           0,
           13,
           7,
           3,
           8,
           4,
           2,
           0,
           2,
           12,
           3,
           6,
           0,
           7,
           1
          ],
          [
           3,
           3,
           0,
           0,
           2,
           11,
           4,
           0,
           4,
           1,
           0,
           1,
           1,
           9,
           1,
           4,
           1,
           7,
           0
          ],
          [
           4,
           1,
           0,
           0,
           1,
           10,
           4,
           1,
           8,
           1,
           0,
           1,
           3,
           11,
           1,
           2,
           0,
           4,
           0
          ],
          [
           5,
           2,
           0,
           0,
           0,
           5,
           8,
           2,
           10,
           0,
           0,
           1,
           2,
           9,
           3,
           1,
           0,
           7,
           0
          ],
          [
           7,
           4,
           0,
           0,
           1,
           8,
           6,
           3,
           6,
           1,
           1,
           0,
           0,
           6,
           6,
           6,
           0,
           3,
           0
          ],
          [
           6,
           2,
           0,
           0,
           0,
           19,
           4,
           4,
           8,
           0,
           0,
           1,
           1,
           19,
           4,
           6,
           0,
           5,
           0
          ],
          [
           6,
           2,
           0,
           0,
           1,
           6,
           2,
           1,
           7,
           0,
           0,
           0,
           0,
           6,
           3,
           4,
           0,
           1,
           0
          ],
          [
           6,
           6,
           0,
           0,
           2,
           7,
           7,
           3,
           4,
           1,
           0,
           1,
           3,
           12,
           3,
           2,
           1,
           3,
           0
          ],
          [
           3,
           5,
           0,
           1,
           1,
           18,
           5,
           3,
           7,
           0,
           0,
           2,
           0,
           15,
           2,
           2,
           1,
           4,
           0
          ],
          [
           3,
           5,
           0,
           1,
           2,
           11,
           4,
           2,
           4,
           1,
           0,
           1,
           3,
           8,
           1,
           2,
           0,
           6,
           0
          ],
          [
           7,
           4,
           0,
           0,
           1,
           12,
           6,
           0,
           6,
           2,
           0,
           0,
           3,
           15,
           1,
           4,
           0,
           3,
           0
          ],
          [
           6,
           5,
           0,
           0,
           1,
           8,
           6,
           3,
           4,
           0,
           1,
           0,
           2,
           11,
           6,
           5,
           0,
           4,
           0
          ],
          [
           8,
           2,
           0,
           1,
           3,
           4,
           6,
           1,
           3,
           0,
           0,
           2,
           1,
           5,
           3,
           2,
           0,
           7,
           0
          ],
          [
           1,
           0,
           0,
           0,
           0,
           7,
           6,
           2,
           4,
           2,
           1,
           2,
           3,
           3,
           0,
           3,
           0,
           4,
           0
          ],
          [
           1,
           1,
           0,
           0,
           4,
           5,
           13,
           2,
           5,
           2,
           0,
           0,
           2,
           15,
           1,
           1,
           0,
           5,
           0
          ],
          [
           10,
           7,
           0,
           0,
           1,
           8,
           9,
           2,
           16,
           1,
           1,
           4,
           2,
           14,
           2,
           5,
           0,
           7,
           0
          ],
          [
           2,
           0,
           0,
           1,
           1,
           5,
           3,
           0,
           4,
           0,
           0,
           0,
           0,
           4,
           1,
           0,
           0,
           1,
           0
          ],
          [
           10,
           0,
           0,
           0,
           0,
           14,
           7,
           1,
           4,
           2,
           0,
           2,
           0,
           6,
           5,
           4,
           0,
           6,
           1
          ],
          [
           10,
           4,
           0,
           1,
           1,
           11,
           7,
           1,
           6,
           0,
           0,
           1,
           1,
           12,
           4,
           5,
           0,
           6,
           1
          ],
          [
           5,
           3,
           0,
           3,
           1,
           9,
           11,
           2,
           5,
           0,
           1,
           1,
           4,
           11,
           5,
           5,
           1,
           5,
           0
          ],
          [
           3,
           2,
           0,
           1,
           4,
           4,
           2,
           1,
           6,
           0,
           0,
           1,
           1,
           6,
           2,
           2,
           1,
           4,
           1
          ],
          [
           6,
           4,
           0,
           0,
           0,
           6,
           9,
           0,
           8,
           0,
           1,
           1,
           4,
           2,
           3,
           3,
           1,
           3,
           1
          ],
          [
           1,
           3,
           0,
           0,
           2,
           18,
           7,
           1,
           7,
           3,
           0,
           2,
           2,
           9,
           2,
           9,
           1,
           5,
           0
          ],
          [
           11,
           1,
           0,
           1,
           1,
           7,
           5,
           2,
           6,
           1,
           0,
           2,
           4,
           5,
           4,
           3,
           3,
           7,
           0
          ],
          [
           1,
           1,
           0,
           1,
           2,
           8,
           4,
           1,
           4,
           1,
           0,
           0,
           0,
           6,
           2,
           4,
           2,
           3,
           1
          ],
          [
           4,
           1,
           0,
           2,
           1,
           7,
           4,
           1,
           1,
           2,
           0,
           2,
           1,
           6,
           1,
           8,
           1,
           1,
           0
          ],
          [
           3,
           2,
           0,
           2,
           1,
           8,
           10,
           0,
           3,
           0,
           0,
           2,
           2,
           11,
           3,
           1,
           1,
           5,
           0
          ],
          [
           5,
           3,
           0,
           1,
           1,
           9,
           7,
           1,
           5,
           0,
           0,
           0,
           1,
           5,
           2,
           0,
           0,
           4,
           0
          ],
          [
           6,
           2,
           1,
           0,
           1,
           14,
           6,
           1,
           9,
           4,
           0,
           2,
           1,
           11,
           2,
           7,
           2,
           5,
           0
          ],
          [
           3,
           3,
           0,
           0,
           1,
           13,
           9,
           0,
           6,
           0,
           0,
           0,
           4,
           10,
           2,
           4,
           1,
           2,
           0
          ],
          [
           4,
           1,
           0,
           0,
           1,
           3,
           4,
           0,
           0,
           1,
           0,
           1,
           1,
           4,
           4,
           3,
           0,
           2,
           1
          ],
          [
           7,
           3,
           0,
           0,
           0,
           7,
           8,
           0,
           4,
           0,
           1,
           0,
           5,
           6,
           1,
           0,
           1,
           5,
           0
          ],
          [
           5,
           1,
           0,
           1,
           1,
           11,
           7,
           2,
           5,
           1,
           0,
           1,
           0,
           9,
           2,
           3,
           0,
           4,
           0
          ],
          [
           1,
           2,
           0,
           0,
           1,
           4,
           3,
           1,
           3,
           0,
           0,
           0,
           0,
           5,
           1,
           4,
           0,
           2,
           0
          ],
          [
           4,
           1,
           1,
           1,
           0,
           6,
           1,
           1,
           4,
           0,
           0,
           1,
           0,
           6,
           3,
           2,
           0,
           4,
           1
          ],
          [
           7,
           4,
           0,
           1,
           1,
           9,
           10,
           2,
           8,
           1,
           0,
           2,
           3,
           8,
           3,
           4,
           0,
           3,
           0
          ],
          [
           2,
           1,
           0,
           0,
           0,
           10,
           1,
           1,
           4,
           2,
           1,
           0,
           0,
           4,
           1,
           10,
           1,
           2,
           0
          ],
          [
           4,
           3,
           0,
           1,
           1,
           7,
           3,
           0,
           2,
           0,
           0,
           2,
           4,
           4,
           1,
           2,
           0,
           5,
           0
          ],
          [
           4,
           1,
           0,
           0,
           1,
           4,
           5,
           0,
           2,
           0,
           0,
           0,
           0,
           4,
           2,
           3,
           2,
           3,
           0
          ],
          [
           1,
           3,
           0,
           3,
           0,
           4,
           4,
           0,
           1,
           0,
           0,
           0,
           0,
           2,
           1,
           2,
           1,
           1,
           0
          ],
          [
           6,
           2,
           0,
           3,
           1,
           12,
           6,
           2,
           8,
           0,
           0,
           1,
           1,
           15,
           0,
           4,
           0,
           4,
           0
          ],
          [
           4,
           1,
           0,
           0,
           0,
           6,
           4,
           1,
           3,
           2,
           0,
           1,
           2,
           2,
           3,
           3,
           0,
           0,
           0
          ],
          [
           2,
           2,
           0,
           0,
           0,
           3,
           3,
           0,
           3,
           0,
           0,
           0,
           1,
           1,
           2,
           1,
           2,
           2,
           1
          ],
          [
           1,
           1,
           0,
           0,
           0,
           3,
           5,
           0,
           1,
           0,
           0,
           0,
           0,
           3,
           2,
           1,
           1,
           2,
           0
          ],
          [
           4,
           1,
           0,
           0,
           0,
           6,
           2,
           0,
           4,
           0,
           0,
           0,
           0,
           6,
           1,
           1,
           0,
           1,
           0
          ],
          [
           4,
           1,
           0,
           0,
           1,
           5,
           4,
           1,
           4,
           0,
           0,
           2,
           1,
           4,
           0,
           2,
           0,
           4,
           2
          ],
          [
           4,
           4,
           0,
           0,
           2,
           4,
           3,
           0,
           3,
           0,
           0,
           0,
           1,
           2,
           1,
           1,
           0,
           2,
           0
          ],
          [
           5,
           2,
           0,
           2,
           2,
           5,
           3,
           1,
           5,
           0,
           1,
           1,
           1,
           4,
           1,
           1,
           0,
           3,
           0
          ],
          [
           1,
           0,
           0,
           1,
           1,
           5,
           2,
           0,
           3,
           0,
           0,
           0,
           1,
           9,
           2,
           1,
           0,
           3,
           0
          ],
          [
           2,
           1,
           0,
           0,
           0,
           3,
           2,
           0,
           1,
           0,
           0,
           0,
           0,
           2,
           1,
           4,
           1,
           1,
           1
          ],
          [
           4,
           0,
           0,
           0,
           1,
           6,
           4,
           2,
           3,
           0,
           0,
           0,
           0,
           8,
           1,
           2,
           0,
           2,
           0
          ],
          [
           1,
           0,
           0,
           0,
           0,
           1,
           1,
           1,
           1,
           1,
           0,
           0,
           0,
           0,
           0,
           1,
           0,
           2,
           0
          ],
          [
           4,
           0,
           1,
           0,
           1,
           3,
           5,
           1,
           2,
           0,
           1,
           2,
           1,
           3,
           1,
           1,
           0,
           4,
           1
          ],
          [
           1,
           2,
           0,
           0,
           1,
           0,
           0,
           0,
           1,
           0,
           0,
           0,
           0,
           0,
           0,
           0,
           0,
           1,
           0
          ],
          [
           1,
           2,
           0,
           1,
           1,
           7,
           5,
           0,
           5,
           2,
           0,
           0,
           3,
           2,
           0,
           4,
           0,
           2,
           0
          ],
          [
           0,
           1,
           0,
           0,
           2,
           2,
           2,
           1,
           4,
           0,
           0,
           0,
           1,
           2,
           1,
           0,
           0,
           0,
           0
          ],
          [
           1,
           1,
           0,
           0,
           0,
           1,
           2,
           0,
           1,
           0,
           0,
           1,
           0,
           0,
           0,
           0,
           0,
           3,
           0
          ],
          [
           1,
           0,
           0,
           0,
           0,
           1,
           2,
           0,
           1,
           1,
           0,
           1,
           0,
           3,
           0,
           2,
           0,
           1,
           0
          ],
          [
           4,
           1,
           0,
           2,
           0,
           9,
           4,
           3,
           2,
           0,
           0,
           1,
           0,
           7,
           1,
           4,
           0,
           3,
           1
          ],
          [
           2,
           2,
           0,
           0,
           1,
           6,
           6,
           0,
           3,
           0,
           0,
           0,
           1,
           7,
           2,
           4,
           0,
           2,
           0
          ],
          [
           1,
           0,
           0,
           1,
           0,
           3,
           4,
           0,
           1,
           2,
           0,
           0,
           1,
           3,
           1,
           2,
           1,
           2,
           0
          ],
          [
           5,
           1,
           0,
           4,
           2,
           5,
           4,
           0,
           4,
           0,
           0,
           0,
           2,
           8,
           1,
           0,
           1,
           2,
           0
          ],
          [
           2,
           1,
           0,
           1,
           0,
           4,
           0,
           0,
           1,
           1,
           0,
           1,
           1,
           2,
           0,
           3,
           0,
           1,
           0
          ],
          [
           1,
           0,
           0,
           2,
           0,
           5,
           3,
           0,
           1,
           2,
           0,
           0,
           1,
           2,
           2,
           2,
           0,
           1,
           0
          ],
          [
           3,
           2,
           0,
           1,
           2,
           5,
           5,
           0,
           2,
           0,
           1,
           0,
           1,
           1,
           3,
           1,
           0,
           3,
           0
          ],
          [
           1,
           1,
           0,
           0,
           0,
           0,
           2,
           0,
           1,
           0,
           0,
           0,
           0,
           0,
           2,
           0,
           0,
           1,
           0
          ],
          [
           2,
           0,
           0,
           1,
           0,
           0,
           4,
           0,
           0,
           0,
           0,
           0,
           2,
           2,
           0,
           1,
           0,
           1,
           0
          ],
          [
           1,
           1,
           0,
           0,
           1,
           1,
           1,
           0,
           2,
           0,
           1,
           0,
           2,
           0,
           1,
           1,
           1,
           2,
           0
          ],
          [
           0,
           0,
           0,
           1,
           1,
           1,
           1,
           1,
           0,
           0,
           0,
           0,
           0,
           2,
           0,
           0,
           1,
           0,
           0
          ],
          [
           4,
           2,
           0,
           0,
           1,
           2,
           1,
           0,
           3,
           0,
           0,
           0,
           0,
           0,
           2,
           0,
           0,
           2,
           0
          ],
          [
           0,
           1,
           0,
           0,
           0,
           0,
           1,
           0,
           1,
           0,
           0,
           0,
           0,
           0,
           0,
           2,
           0,
           1,
           0
          ],
          [
           4,
           2,
           0,
           0,
           1,
           2,
           3,
           0,
           6,
           0,
           0,
           1,
           1,
           0,
           1,
           1,
           0,
           1,
           0
          ],
          [
           0,
           0,
           0,
           0,
           0,
           0,
           0,
           0,
           0,
           0,
           0,
           0,
           0,
           1,
           0,
           0,
           1,
           0,
           0
          ],
          [
           4,
           2,
           0,
           2,
           0,
           2,
           4,
           0,
           3,
           0,
           0,
           2,
           4,
           2,
           1,
           1,
           0,
           2,
           0
          ],
          [
           1,
           1,
           0,
           0,
           1,
           0,
           3,
           0,
           1,
           0,
           0,
           0,
           0,
           1,
           0,
           1,
           0,
           1,
           0
          ],
          [
           4,
           1,
           0,
           2,
           0,
           5,
           4,
           0,
           1,
           0,
           0,
           0,
           1,
           5,
           2,
           2,
           0,
           1,
           0
          ],
          [
           2,
           1,
           0,
           0,
           3,
           2,
           5,
           1,
           1,
           0,
           0,
           1,
           2,
           3,
           3,
           2,
           1,
           2,
           0
          ],
          [
           3,
           2,
           0,
           1,
           2,
           3,
           11,
           1,
           3,
           1,
           1,
           1,
           1,
           9,
           0,
           4,
           0,
           3,
           0
          ],
          [
           2,
           1,
           0,
           0,
           1,
           4,
           2,
           1,
           2,
           0,
           0,
           0,
           0,
           3,
           1,
           2,
           0,
           2,
           0
          ],
          [
           1,
           0,
           0,
           0,
           0,
           0,
           4,
           0,
           2,
           0,
           0,
           0,
           1,
           3,
           0,
           1,
           0,
           1,
           1
          ],
          [
           2,
           2,
           0,
           0,
           0,
           0,
           4,
           0,
           1,
           0,
           0,
           1,
           1,
           1,
           1,
           0,
           0,
           2,
           0
          ],
          [
           2,
           1,
           0,
           1,
           0,
           4,
           2,
           0,
           4,
           1,
           0,
           2,
           2,
           4,
           0,
           2,
           0,
           3,
           0
          ],
          [
           2,
           1,
           0,
           1,
           0,
           1,
           0,
           1,
           0,
           0,
           0,
           0,
           0,
           1,
           0,
           0,
           0,
           1,
           0
          ],
          [
           2,
           0,
           0,
           1,
           1,
           1,
           3,
           0,
           2,
           0,
           0,
           0,
           0,
           1,
           2,
           1,
           0,
           0,
           0
          ],
          [
           0,
           0,
           0,
           0,
           0,
           0,
           1,
           0,
           0,
           0,
           0,
           0,
           0,
           1,
           0,
           1,
           0,
           0,
           0
          ],
          [
           1,
           0,
           0,
           0,
           1,
           5,
           3,
           0,
           1,
           0,
           0,
           0,
           0,
           2,
           0,
           4,
           0,
           1,
           1
          ],
          [
           3,
           1,
           0,
           0,
           0,
           3,
           6,
           0,
           1,
           0,
           0,
           2,
           0,
           2,
           2,
           1,
           0,
           1,
           0
          ],
          [
           1,
           0,
           0,
           0,
           2,
           1,
           3,
           0,
           3,
           0,
           0,
           0,
           0,
           2,
           0,
           1,
           0,
           2,
           1
          ],
          [
           0,
           0,
           0,
           1,
           0,
           1,
           1,
           0,
           0,
           0,
           0,
           0,
           1,
           2,
           0,
           0,
           0,
           1,
           1
          ],
          [
           1,
           3,
           0,
           2,
           0,
           6,
           7,
           0,
           2,
           0,
           0,
           1,
           0,
           5,
           0,
           2,
           0,
           1,
           1
          ],
          [
           1,
           1,
           0,
           0,
           0,
           1,
           0,
           0,
           0,
           0,
           0,
           0,
           1,
           1,
           1,
           0,
           0,
           1,
           0
          ],
          [
           2,
           1,
           0,
           1,
           0,
           1,
           3,
           0,
           0,
           0,
           0,
           1,
           2,
           2,
           2,
           1,
           0,
           0,
           1
          ],
          [
           0,
           1,
           0,
           0,
           1,
           1,
           2,
           0,
           1,
           0,
           0,
           0,
           0,
           1,
           0,
           2,
           0,
           1,
           0
          ],
          [
           0,
           0,
           0,
           0,
           1,
           0,
           1,
           0,
           0,
           0,
           0,
           0,
           0,
           0,
           0,
           1,
           0,
           0,
           0
          ],
          [
           5,
           4,
           0,
           2,
           1,
           1,
           4,
           0,
           3,
           0,
           0,
           1,
           2,
           1,
           1,
           2,
           1,
           0,
           0
          ],
          [
           0,
           0,
           0,
           0,
           0,
           0,
           1,
           0,
           0,
           0,
           0,
           1,
           1,
           0,
           0,
           0,
           0,
           0,
           0
          ],
          [
           1,
           1,
           0,
           0,
           1,
           0,
           3,
           0,
           2,
           0,
           0,
           0,
           1,
           1,
           1,
           1,
           0,
           2,
           0
          ],
          [
           2,
           0,
           0,
           2,
           0,
           2,
           4,
           0,
           1,
           0,
           0,
           0,
           0,
           2,
           0,
           1,
           0,
           0,
           0
          ],
          [
           0,
           0,
           0,
           0,
           0,
           1,
           0,
           0,
           1,
           0,
           0,
           0,
           0,
           0,
           0,
           0,
           0,
           0,
           0
          ],
          [
           1,
           1,
           0,
           3,
           0,
           3,
           2,
           0,
           1,
           0,
           0,
           1,
           1,
           1,
           1,
           0,
           0,
           1,
           0
          ],
          [
           0,
           0,
           0,
           1,
           0,
           2,
           2,
           0,
           1,
           0,
           0,
           0,
           0,
           2,
           0,
           0,
           0,
           1,
           0
          ],
          [
           2,
           1,
           0,
           1,
           0,
           0,
           2,
           0,
           2,
           0,
           0,
           1,
           0,
           1,
           0,
           1,
           0,
           1,
           0
          ],
          [
           0,
           0,
           0,
           0,
           0,
           2,
           4,
           0,
           2,
           0,
           0,
           1,
           1,
           2,
           0,
           2,
           0,
           2,
           1
          ],
          [
           3,
           1,
           0,
           0,
           0,
           2,
           3,
           0,
           0,
           0,
           0,
           0,
           1,
           3,
           0,
           0,
           1,
           4,
           0
          ],
          [
           1,
           0,
           0,
           2,
           0,
           0,
           2,
           0,
           1,
           0,
           0,
           1,
           0,
           2,
           0,
           1,
           0,
           1,
           0
          ],
          [
           1,
           2,
           0,
           1,
           0,
           1,
           1,
           0,
           0,
           0,
           0,
           0,
           0,
           0,
           1,
           1,
           0,
           0,
           0
          ],
          [
           0,
           0,
           0,
           0,
           0,
           0,
           1,
           0,
           0,
           0,
           0,
           0,
           0,
           0,
           0,
           0,
           0,
           1,
           0
          ],
          [
           0,
           0,
           0,
           1,
           0,
           1,
           2,
           0,
           0,
           0,
           0,
           0,
           0,
           1,
           0,
           1,
           0,
           0,
           0
          ],
          [
           0,
           0,
           0,
           0,
           0,
           0,
           2,
           0,
           0,
           1,
           0,
           0,
           0,
           0,
           0,
           0,
           0,
           1,
           0
          ],
          [
           3,
           1,
           0,
           2,
           0,
           1,
           1,
           0,
           1,
           0,
           0,
           1,
           0,
           0,
           2,
           1,
           0,
           1,
           0
          ],
          [
           0,
           1,
           0,
           2,
           0,
           1,
           1,
           0,
           0,
           0,
           0,
           0,
           0,
           1,
           0,
           2,
           0,
           0,
           0
          ],
          [
           0,
           0,
           0,
           2,
           0,
           1,
           1,
           0,
           0,
           0,
           0,
           0,
           0,
           0,
           0,
           2,
           0,
           0,
           0
          ],
          [
           1,
           0,
           0,
           1,
           0,
           1,
           1,
           1,
           0,
           0,
           0,
           0,
           0,
           0,
           0,
           0,
           0,
           0,
           0
          ],
          [
           0,
           0,
           0,
           1,
           0,
           1,
           1,
           0,
           0,
           0,
           0,
           0,
           0,
           0,
           0,
           0,
           1,
           0,
           0
          ],
          [
           0,
           0,
           0,
           0,
           0,
           0,
           1,
           0,
           0,
           0,
           0,
           0,
           0,
           0,
           0,
           1,
           1,
           0,
           0
          ],
          [
           0,
           0,
           0,
           1,
           0,
           0,
           1,
           0,
           0,
           0,
           0,
           0,
           1,
           0,
           1,
           0,
           0,
           0,
           0
          ],
          [
           1,
           0,
           0,
           0,
           0,
           0,
           1,
           0,
           1,
           0,
           0,
           0,
           0,
           0,
           0,
           0,
           0,
           0,
           0
          ],
          [
           1,
           0,
           0,
           1,
           0,
           0,
           0,
           0,
           0,
           0,
           0,
           0,
           0,
           0,
           0,
           0,
           0,
           0,
           0
          ],
          [
           0,
           0,
           0,
           0,
           0,
           0,
           1,
           0,
           0,
           0,
           0,
           0,
           0,
           0,
           0,
           1,
           0,
           0,
           0
          ],
          [
           1,
           1,
           0,
           1,
           0,
           0,
           1,
           0,
           0,
           0,
           0,
           0,
           0,
           0,
           0,
           0,
           0,
           0,
           0
          ],
          [
           1,
           1,
           0,
           1,
           0,
           0,
           1,
           0,
           1,
           0,
           0,
           0,
           0,
           0,
           0,
           0,
           0,
           0,
           0
          ],
          [
           0,
           0,
           0,
           1,
           0,
           0,
           0,
           0,
           0,
           0,
           0,
           0,
           0,
           0,
           0,
           0,
           1,
           0,
           0
          ],
          [
           0,
           0,
           0,
           1,
           0,
           0,
           1,
           0,
           0,
           0,
           0,
           0,
           1,
           0,
           0,
           0,
           0,
           0,
           0
          ],
          [
           1,
           1,
           0,
           1,
           0,
           0,
           1,
           0,
           1,
           0,
           0,
           1,
           0,
           0,
           0,
           0,
           0,
           1,
           0
          ]
         ]
        }
       ],
       "layout": {
        "template": {
         "data": {
          "bar": [
           {
            "error_x": {
             "color": "#2a3f5f"
            },
            "error_y": {
             "color": "#2a3f5f"
            },
            "marker": {
             "line": {
              "color": "#E5ECF6",
              "width": 0.5
             },
             "pattern": {
              "fillmode": "overlay",
              "size": 10,
              "solidity": 0.2
             }
            },
            "type": "bar"
           }
          ],
          "barpolar": [
           {
            "marker": {
             "line": {
              "color": "#E5ECF6",
              "width": 0.5
             },
             "pattern": {
              "fillmode": "overlay",
              "size": 10,
              "solidity": 0.2
             }
            },
            "type": "barpolar"
           }
          ],
          "carpet": [
           {
            "aaxis": {
             "endlinecolor": "#2a3f5f",
             "gridcolor": "white",
             "linecolor": "white",
             "minorgridcolor": "white",
             "startlinecolor": "#2a3f5f"
            },
            "baxis": {
             "endlinecolor": "#2a3f5f",
             "gridcolor": "white",
             "linecolor": "white",
             "minorgridcolor": "white",
             "startlinecolor": "#2a3f5f"
            },
            "type": "carpet"
           }
          ],
          "choropleth": [
           {
            "colorbar": {
             "outlinewidth": 0,
             "ticks": ""
            },
            "type": "choropleth"
           }
          ],
          "contour": [
           {
            "colorbar": {
             "outlinewidth": 0,
             "ticks": ""
            },
            "colorscale": [
             [
              0,
              "#0d0887"
             ],
             [
              0.1111111111111111,
              "#46039f"
             ],
             [
              0.2222222222222222,
              "#7201a8"
             ],
             [
              0.3333333333333333,
              "#9c179e"
             ],
             [
              0.4444444444444444,
              "#bd3786"
             ],
             [
              0.5555555555555556,
              "#d8576b"
             ],
             [
              0.6666666666666666,
              "#ed7953"
             ],
             [
              0.7777777777777778,
              "#fb9f3a"
             ],
             [
              0.8888888888888888,
              "#fdca26"
             ],
             [
              1,
              "#f0f921"
             ]
            ],
            "type": "contour"
           }
          ],
          "contourcarpet": [
           {
            "colorbar": {
             "outlinewidth": 0,
             "ticks": ""
            },
            "type": "contourcarpet"
           }
          ],
          "heatmap": [
           {
            "colorbar": {
             "outlinewidth": 0,
             "ticks": ""
            },
            "colorscale": [
             [
              0,
              "#0d0887"
             ],
             [
              0.1111111111111111,
              "#46039f"
             ],
             [
              0.2222222222222222,
              "#7201a8"
             ],
             [
              0.3333333333333333,
              "#9c179e"
             ],
             [
              0.4444444444444444,
              "#bd3786"
             ],
             [
              0.5555555555555556,
              "#d8576b"
             ],
             [
              0.6666666666666666,
              "#ed7953"
             ],
             [
              0.7777777777777778,
              "#fb9f3a"
             ],
             [
              0.8888888888888888,
              "#fdca26"
             ],
             [
              1,
              "#f0f921"
             ]
            ],
            "type": "heatmap"
           }
          ],
          "heatmapgl": [
           {
            "colorbar": {
             "outlinewidth": 0,
             "ticks": ""
            },
            "colorscale": [
             [
              0,
              "#0d0887"
             ],
             [
              0.1111111111111111,
              "#46039f"
             ],
             [
              0.2222222222222222,
              "#7201a8"
             ],
             [
              0.3333333333333333,
              "#9c179e"
             ],
             [
              0.4444444444444444,
              "#bd3786"
             ],
             [
              0.5555555555555556,
              "#d8576b"
             ],
             [
              0.6666666666666666,
              "#ed7953"
             ],
             [
              0.7777777777777778,
              "#fb9f3a"
             ],
             [
              0.8888888888888888,
              "#fdca26"
             ],
             [
              1,
              "#f0f921"
             ]
            ],
            "type": "heatmapgl"
           }
          ],
          "histogram": [
           {
            "marker": {
             "pattern": {
              "fillmode": "overlay",
              "size": 10,
              "solidity": 0.2
             }
            },
            "type": "histogram"
           }
          ],
          "histogram2d": [
           {
            "colorbar": {
             "outlinewidth": 0,
             "ticks": ""
            },
            "colorscale": [
             [
              0,
              "#0d0887"
             ],
             [
              0.1111111111111111,
              "#46039f"
             ],
             [
              0.2222222222222222,
              "#7201a8"
             ],
             [
              0.3333333333333333,
              "#9c179e"
             ],
             [
              0.4444444444444444,
              "#bd3786"
             ],
             [
              0.5555555555555556,
              "#d8576b"
             ],
             [
              0.6666666666666666,
              "#ed7953"
             ],
             [
              0.7777777777777778,
              "#fb9f3a"
             ],
             [
              0.8888888888888888,
              "#fdca26"
             ],
             [
              1,
              "#f0f921"
             ]
            ],
            "type": "histogram2d"
           }
          ],
          "histogram2dcontour": [
           {
            "colorbar": {
             "outlinewidth": 0,
             "ticks": ""
            },
            "colorscale": [
             [
              0,
              "#0d0887"
             ],
             [
              0.1111111111111111,
              "#46039f"
             ],
             [
              0.2222222222222222,
              "#7201a8"
             ],
             [
              0.3333333333333333,
              "#9c179e"
             ],
             [
              0.4444444444444444,
              "#bd3786"
             ],
             [
              0.5555555555555556,
              "#d8576b"
             ],
             [
              0.6666666666666666,
              "#ed7953"
             ],
             [
              0.7777777777777778,
              "#fb9f3a"
             ],
             [
              0.8888888888888888,
              "#fdca26"
             ],
             [
              1,
              "#f0f921"
             ]
            ],
            "type": "histogram2dcontour"
           }
          ],
          "mesh3d": [
           {
            "colorbar": {
             "outlinewidth": 0,
             "ticks": ""
            },
            "type": "mesh3d"
           }
          ],
          "parcoords": [
           {
            "line": {
             "colorbar": {
              "outlinewidth": 0,
              "ticks": ""
             }
            },
            "type": "parcoords"
           }
          ],
          "pie": [
           {
            "automargin": true,
            "type": "pie"
           }
          ],
          "scatter": [
           {
            "fillpattern": {
             "fillmode": "overlay",
             "size": 10,
             "solidity": 0.2
            },
            "type": "scatter"
           }
          ],
          "scatter3d": [
           {
            "line": {
             "colorbar": {
              "outlinewidth": 0,
              "ticks": ""
             }
            },
            "marker": {
             "colorbar": {
              "outlinewidth": 0,
              "ticks": ""
             }
            },
            "type": "scatter3d"
           }
          ],
          "scattercarpet": [
           {
            "marker": {
             "colorbar": {
              "outlinewidth": 0,
              "ticks": ""
             }
            },
            "type": "scattercarpet"
           }
          ],
          "scattergeo": [
           {
            "marker": {
             "colorbar": {
              "outlinewidth": 0,
              "ticks": ""
             }
            },
            "type": "scattergeo"
           }
          ],
          "scattergl": [
           {
            "marker": {
             "colorbar": {
              "outlinewidth": 0,
              "ticks": ""
             }
            },
            "type": "scattergl"
           }
          ],
          "scattermapbox": [
           {
            "marker": {
             "colorbar": {
              "outlinewidth": 0,
              "ticks": ""
             }
            },
            "type": "scattermapbox"
           }
          ],
          "scatterpolar": [
           {
            "marker": {
             "colorbar": {
              "outlinewidth": 0,
              "ticks": ""
             }
            },
            "type": "scatterpolar"
           }
          ],
          "scatterpolargl": [
           {
            "marker": {
             "colorbar": {
              "outlinewidth": 0,
              "ticks": ""
             }
            },
            "type": "scatterpolargl"
           }
          ],
          "scatterternary": [
           {
            "marker": {
             "colorbar": {
              "outlinewidth": 0,
              "ticks": ""
             }
            },
            "type": "scatterternary"
           }
          ],
          "surface": [
           {
            "colorbar": {
             "outlinewidth": 0,
             "ticks": ""
            },
            "colorscale": [
             [
              0,
              "#0d0887"
             ],
             [
              0.1111111111111111,
              "#46039f"
             ],
             [
              0.2222222222222222,
              "#7201a8"
             ],
             [
              0.3333333333333333,
              "#9c179e"
             ],
             [
              0.4444444444444444,
              "#bd3786"
             ],
             [
              0.5555555555555556,
              "#d8576b"
             ],
             [
              0.6666666666666666,
              "#ed7953"
             ],
             [
              0.7777777777777778,
              "#fb9f3a"
             ],
             [
              0.8888888888888888,
              "#fdca26"
             ],
             [
              1,
              "#f0f921"
             ]
            ],
            "type": "surface"
           }
          ],
          "table": [
           {
            "cells": {
             "fill": {
              "color": "#EBF0F8"
             },
             "line": {
              "color": "white"
             }
            },
            "header": {
             "fill": {
              "color": "#C8D4E3"
             },
             "line": {
              "color": "white"
             }
            },
            "type": "table"
           }
          ]
         },
         "layout": {
          "annotationdefaults": {
           "arrowcolor": "#2a3f5f",
           "arrowhead": 0,
           "arrowwidth": 1
          },
          "autotypenumbers": "strict",
          "coloraxis": {
           "colorbar": {
            "outlinewidth": 0,
            "ticks": ""
           }
          },
          "colorscale": {
           "diverging": [
            [
             0,
             "#8e0152"
            ],
            [
             0.1,
             "#c51b7d"
            ],
            [
             0.2,
             "#de77ae"
            ],
            [
             0.3,
             "#f1b6da"
            ],
            [
             0.4,
             "#fde0ef"
            ],
            [
             0.5,
             "#f7f7f7"
            ],
            [
             0.6,
             "#e6f5d0"
            ],
            [
             0.7,
             "#b8e186"
            ],
            [
             0.8,
             "#7fbc41"
            ],
            [
             0.9,
             "#4d9221"
            ],
            [
             1,
             "#276419"
            ]
           ],
           "sequential": [
            [
             0,
             "#0d0887"
            ],
            [
             0.1111111111111111,
             "#46039f"
            ],
            [
             0.2222222222222222,
             "#7201a8"
            ],
            [
             0.3333333333333333,
             "#9c179e"
            ],
            [
             0.4444444444444444,
             "#bd3786"
            ],
            [
             0.5555555555555556,
             "#d8576b"
            ],
            [
             0.6666666666666666,
             "#ed7953"
            ],
            [
             0.7777777777777778,
             "#fb9f3a"
            ],
            [
             0.8888888888888888,
             "#fdca26"
            ],
            [
             1,
             "#f0f921"
            ]
           ],
           "sequentialminus": [
            [
             0,
             "#0d0887"
            ],
            [
             0.1111111111111111,
             "#46039f"
            ],
            [
             0.2222222222222222,
             "#7201a8"
            ],
            [
             0.3333333333333333,
             "#9c179e"
            ],
            [
             0.4444444444444444,
             "#bd3786"
            ],
            [
             0.5555555555555556,
             "#d8576b"
            ],
            [
             0.6666666666666666,
             "#ed7953"
            ],
            [
             0.7777777777777778,
             "#fb9f3a"
            ],
            [
             0.8888888888888888,
             "#fdca26"
            ],
            [
             1,
             "#f0f921"
            ]
           ]
          },
          "colorway": [
           "#636efa",
           "#EF553B",
           "#00cc96",
           "#ab63fa",
           "#FFA15A",
           "#19d3f3",
           "#FF6692",
           "#B6E880",
           "#FF97FF",
           "#FECB52"
          ],
          "font": {
           "color": "#2a3f5f"
          },
          "geo": {
           "bgcolor": "white",
           "lakecolor": "white",
           "landcolor": "#E5ECF6",
           "showlakes": true,
           "showland": true,
           "subunitcolor": "white"
          },
          "hoverlabel": {
           "align": "left"
          },
          "hovermode": "closest",
          "mapbox": {
           "style": "light"
          },
          "paper_bgcolor": "white",
          "plot_bgcolor": "#E5ECF6",
          "polar": {
           "angularaxis": {
            "gridcolor": "white",
            "linecolor": "white",
            "ticks": ""
           },
           "bgcolor": "#E5ECF6",
           "radialaxis": {
            "gridcolor": "white",
            "linecolor": "white",
            "ticks": ""
           }
          },
          "scene": {
           "xaxis": {
            "backgroundcolor": "#E5ECF6",
            "gridcolor": "white",
            "gridwidth": 2,
            "linecolor": "white",
            "showbackground": true,
            "ticks": "",
            "zerolinecolor": "white"
           },
           "yaxis": {
            "backgroundcolor": "#E5ECF6",
            "gridcolor": "white",
            "gridwidth": 2,
            "linecolor": "white",
            "showbackground": true,
            "ticks": "",
            "zerolinecolor": "white"
           },
           "zaxis": {
            "backgroundcolor": "#E5ECF6",
            "gridcolor": "white",
            "gridwidth": 2,
            "linecolor": "white",
            "showbackground": true,
            "ticks": "",
            "zerolinecolor": "white"
           }
          },
          "shapedefaults": {
           "line": {
            "color": "#2a3f5f"
           }
          },
          "ternary": {
           "aaxis": {
            "gridcolor": "white",
            "linecolor": "white",
            "ticks": ""
           },
           "baxis": {
            "gridcolor": "white",
            "linecolor": "white",
            "ticks": ""
           },
           "bgcolor": "#E5ECF6",
           "caxis": {
            "gridcolor": "white",
            "linecolor": "white",
            "ticks": ""
           }
          },
          "title": {
           "x": 0.05
          },
          "xaxis": {
           "automargin": true,
           "gridcolor": "white",
           "linecolor": "white",
           "ticks": "",
           "title": {
            "standoff": 15
           },
           "zerolinecolor": "white",
           "zerolinewidth": 2
          },
          "yaxis": {
           "automargin": true,
           "gridcolor": "white",
           "linecolor": "white",
           "ticks": "",
           "title": {
            "standoff": 15
           },
           "zerolinecolor": "white",
           "zerolinewidth": 2
          }
         }
        },
        "title": {
         "text": "Genre Count by score - Heatmap"
        },
        "xaxis": {
         "title": {
          "text": "Genres"
         }
        },
        "yaxis": {
         "title": {
          "text": "score"
         }
        }
       }
      },
      "text/html": [
       "<div>                            <div id=\"757cdb31-5b99-4759-84b2-c7c345904cb1\" class=\"plotly-graph-div\" style=\"height:525px; width:100%;\"></div>            <script type=\"text/javascript\">                require([\"plotly\"], function(Plotly) {                    window.PLOTLYENV=window.PLOTLYENV || {};                                    if (document.getElementById(\"757cdb31-5b99-4759-84b2-c7c345904cb1\")) {                    Plotly.newPlot(                        \"757cdb31-5b99-4759-84b2-c7c345904cb1\",                        [{\"colorscale\":[[0.0,\"rgb(247,251,255)\"],[0.125,\"rgb(222,235,247)\"],[0.25,\"rgb(198,219,239)\"],[0.375,\"rgb(158,202,225)\"],[0.5,\"rgb(107,174,214)\"],[0.625,\"rgb(66,146,198)\"],[0.75,\"rgb(33,113,181)\"],[0.875,\"rgb(8,81,156)\"],[1.0,\"rgb(8,48,107)\"]],\"x\":[\"Action\",\"Adventure\",\"Avant Garde\",\"Award Winning\",\"Boys Love\",\"Comedy\",\"Drama\",\"Ecchi\",\"Fantasy\",\"Girls Love\",\"Gourmet\",\"Horror\",\"Mystery\",\"Romance\",\"Sci-Fi\",\"Slice of Life\",\"Sports\",\"Supernatural\",\"Suspense\"],\"y\":[6.37,6.38,6.39,6.4,6.41,6.42,6.43,6.44,6.45,6.46,6.47,6.48,6.49,6.5,6.51,6.52,6.53,6.54,6.55,6.56,6.57,6.58,6.59,6.6,6.61,6.62,6.63,6.64,6.65,6.66,6.67,6.68,6.69,6.7,6.71,6.72,6.73,6.74,6.75,6.76,6.77,6.78,6.79,6.8,6.81,6.82,6.83,6.84,6.85,6.86,6.87,6.88,6.89,6.9,6.91,6.92,6.93,6.94,6.95,6.96,6.97,6.98,6.99,7.0,7.01,7.02,7.03,7.04,7.05,7.06,7.07,7.08,7.09,7.1,7.11,7.12,7.13,7.14,7.15,7.16,7.17,7.18,7.19,7.2,7.21,7.22,7.23,7.24,7.25,7.26,7.27,7.28,7.29,7.3,7.31,7.32,7.33,7.34,7.35,7.36,7.37,7.38,7.39,7.4,7.41,7.42,7.43,7.44,7.45,7.46,7.47,7.48,7.49,7.5,7.51,7.52,7.53,7.54,7.55,7.56,7.57,7.58,7.59,7.6,7.61,7.62,7.63,7.64,7.65,7.66,7.67,7.68,7.69,7.71,7.72,7.73,7.74,7.75,7.76,7.77,7.78,7.79,7.8,7.81,7.82,7.83,7.85,7.86,7.88,7.91,7.93,7.94,7.96,7.97,7.99,8.0,8.03,8.04,8.08,8.12,8.13,8.16,8.2,8.21,8.22,8.26,8.27,8.28,8.32,8.33,8.34,8.38,8.39,8.4,8.5,8.51,8.52,8.63,8.64,8.65,8.67,8.68,8.69,8.88,8.89,8.92,8.94,8.95,8.96,9.0,9.02,9.03,9.04,9.07,9.15,9.47],\"z\":[[4.0,0.0,0.0,0.0,0.0,3.0,6.0,1.0,2.0,1.0,0.0,1.0,2.0,7.0,2.0,2.0,0.0,4.0,0.0],[6.0,0.0,0.0,0.0,1.0,4.0,2.0,3.0,3.0,0.0,0.0,0.0,0.0,3.0,1.0,0.0,0.0,2.0,0.0],[2.0,1.0,0.0,0.0,1.0,5.0,4.0,2.0,3.0,1.0,0.0,1.0,2.0,4.0,3.0,1.0,0.0,6.0,0.0],[7.0,4.0,0.0,0.0,0.0,4.0,3.0,1.0,9.0,0.0,0.0,1.0,1.0,4.0,1.0,3.0,0.0,2.0,0.0],[5.0,4.0,0.0,0.0,0.0,3.0,3.0,2.0,5.0,3.0,0.0,0.0,1.0,2.0,1.0,0.0,0.0,2.0,0.0],[0.0,0.0,0.0,0.0,0.0,3.0,1.0,1.0,2.0,0.0,0.0,1.0,0.0,1.0,0.0,0.0,0.0,0.0,0.0],[5.0,4.0,0.0,0.0,0.0,3.0,2.0,2.0,7.0,0.0,0.0,2.0,0.0,3.0,1.0,0.0,0.0,2.0,0.0],[9.0,2.0,0.0,0.0,1.0,13.0,9.0,7.0,8.0,3.0,0.0,1.0,0.0,9.0,6.0,1.0,0.0,3.0,0.0],[5.0,5.0,1.0,0.0,1.0,4.0,2.0,5.0,7.0,0.0,0.0,2.0,1.0,2.0,2.0,1.0,0.0,0.0,0.0],[9.0,5.0,0.0,0.0,0.0,4.0,1.0,0.0,8.0,0.0,0.0,2.0,0.0,4.0,1.0,2.0,0.0,2.0,1.0],[3.0,3.0,0.0,0.0,0.0,3.0,4.0,2.0,4.0,0.0,0.0,1.0,0.0,5.0,3.0,0.0,0.0,2.0,0.0],[2.0,5.0,1.0,0.0,2.0,10.0,5.0,1.0,7.0,1.0,0.0,0.0,0.0,10.0,1.0,1.0,2.0,2.0,0.0],[6.0,4.0,0.0,0.0,0.0,8.0,2.0,6.0,9.0,0.0,0.0,2.0,0.0,10.0,2.0,1.0,0.0,5.0,0.0],[5.0,2.0,0.0,0.0,0.0,10.0,2.0,5.0,6.0,2.0,0.0,2.0,2.0,5.0,0.0,2.0,0.0,3.0,0.0],[6.0,4.0,0.0,0.0,0.0,8.0,5.0,6.0,5.0,0.0,0.0,4.0,4.0,10.0,2.0,3.0,1.0,8.0,0.0],[3.0,2.0,0.0,0.0,1.0,4.0,8.0,2.0,3.0,0.0,0.0,2.0,2.0,4.0,0.0,1.0,0.0,6.0,0.0],[3.0,6.0,0.0,0.0,0.0,9.0,2.0,3.0,7.0,1.0,0.0,1.0,1.0,7.0,0.0,3.0,0.0,3.0,0.0],[4.0,3.0,0.0,0.0,2.0,10.0,10.0,1.0,4.0,0.0,1.0,1.0,2.0,12.0,4.0,4.0,0.0,5.0,0.0],[6.0,5.0,0.0,0.0,0.0,10.0,6.0,6.0,4.0,3.0,0.0,1.0,2.0,10.0,1.0,2.0,1.0,6.0,0.0],[4.0,0.0,0.0,0.0,0.0,10.0,2.0,2.0,5.0,0.0,0.0,0.0,0.0,6.0,1.0,3.0,0.0,3.0,0.0],[6.0,5.0,0.0,0.0,1.0,12.0,4.0,5.0,7.0,3.0,2.0,2.0,1.0,13.0,2.0,4.0,0.0,2.0,0.0],[4.0,2.0,0.0,0.0,1.0,8.0,6.0,2.0,4.0,0.0,0.0,2.0,1.0,11.0,4.0,2.0,0.0,2.0,0.0],[6.0,2.0,0.0,0.0,1.0,3.0,5.0,2.0,2.0,1.0,0.0,0.0,2.0,5.0,1.0,1.0,0.0,2.0,0.0],[8.0,5.0,0.0,0.0,1.0,14.0,5.0,7.0,8.0,0.0,0.0,3.0,3.0,11.0,3.0,3.0,0.0,6.0,0.0],[8.0,5.0,0.0,0.0,3.0,15.0,6.0,5.0,6.0,1.0,0.0,2.0,1.0,8.0,1.0,4.0,2.0,3.0,0.0],[5.0,1.0,0.0,0.0,2.0,3.0,7.0,3.0,3.0,1.0,0.0,1.0,2.0,9.0,4.0,1.0,0.0,3.0,0.0],[6.0,4.0,0.0,0.0,0.0,15.0,2.0,6.0,8.0,2.0,0.0,0.0,1.0,7.0,1.0,7.0,0.0,6.0,0.0],[8.0,4.0,0.0,0.0,0.0,7.0,4.0,2.0,6.0,0.0,0.0,1.0,0.0,8.0,2.0,3.0,0.0,4.0,0.0],[7.0,5.0,0.0,0.0,2.0,15.0,8.0,1.0,14.0,2.0,0.0,1.0,2.0,19.0,3.0,3.0,0.0,3.0,2.0],[9.0,3.0,0.0,0.0,0.0,11.0,5.0,2.0,5.0,0.0,0.0,3.0,0.0,7.0,2.0,1.0,0.0,4.0,0.0],[9.0,4.0,0.0,0.0,1.0,11.0,6.0,6.0,6.0,1.0,1.0,4.0,3.0,8.0,6.0,6.0,0.0,8.0,1.0],[3.0,0.0,0.0,0.0,2.0,4.0,10.0,5.0,4.0,1.0,0.0,2.0,1.0,12.0,1.0,2.0,0.0,6.0,0.0],[3.0,0.0,0.0,0.0,0.0,6.0,7.0,2.0,2.0,2.0,0.0,2.0,1.0,9.0,4.0,1.0,1.0,4.0,0.0],[8.0,2.0,0.0,0.0,0.0,10.0,5.0,4.0,7.0,0.0,0.0,1.0,3.0,11.0,3.0,1.0,0.0,4.0,0.0],[7.0,7.0,0.0,0.0,1.0,6.0,4.0,3.0,6.0,0.0,0.0,1.0,1.0,10.0,1.0,1.0,1.0,5.0,0.0],[6.0,3.0,0.0,0.0,5.0,10.0,3.0,3.0,7.0,0.0,0.0,3.0,6.0,9.0,3.0,4.0,1.0,5.0,0.0],[5.0,1.0,0.0,0.0,0.0,15.0,6.0,6.0,5.0,3.0,1.0,3.0,3.0,14.0,1.0,4.0,0.0,10.0,0.0],[7.0,3.0,0.0,0.0,0.0,8.0,4.0,2.0,6.0,0.0,0.0,1.0,1.0,8.0,1.0,2.0,2.0,5.0,0.0],[6.0,4.0,0.0,0.0,1.0,5.0,10.0,1.0,6.0,1.0,0.0,3.0,0.0,11.0,3.0,1.0,0.0,2.0,0.0],[4.0,4.0,0.0,0.0,2.0,11.0,7.0,3.0,8.0,1.0,0.0,0.0,2.0,9.0,1.0,3.0,0.0,4.0,0.0],[5.0,2.0,0.0,1.0,0.0,12.0,8.0,2.0,7.0,0.0,0.0,1.0,1.0,14.0,1.0,5.0,5.0,2.0,0.0],[6.0,0.0,0.0,0.0,1.0,9.0,6.0,2.0,3.0,0.0,0.0,1.0,1.0,8.0,4.0,3.0,0.0,4.0,1.0],[4.0,5.0,0.0,0.0,0.0,11.0,4.0,3.0,8.0,2.0,0.0,0.0,3.0,9.0,2.0,3.0,1.0,5.0,0.0],[6.0,1.0,1.0,0.0,1.0,10.0,6.0,3.0,5.0,0.0,0.0,2.0,0.0,12.0,5.0,4.0,0.0,6.0,0.0],[3.0,3.0,0.0,0.0,1.0,15.0,0.0,4.0,7.0,0.0,0.0,0.0,0.0,14.0,2.0,2.0,1.0,2.0,0.0],[3.0,3.0,0.0,0.0,0.0,8.0,4.0,3.0,3.0,0.0,0.0,0.0,1.0,8.0,1.0,3.0,0.0,5.0,0.0],[10.0,4.0,1.0,0.0,1.0,8.0,6.0,4.0,8.0,0.0,0.0,0.0,1.0,9.0,5.0,3.0,0.0,5.0,0.0],[7.0,5.0,0.0,0.0,1.0,9.0,8.0,5.0,5.0,1.0,0.0,2.0,3.0,12.0,1.0,5.0,1.0,11.0,0.0],[9.0,5.0,0.0,0.0,1.0,14.0,8.0,1.0,9.0,1.0,1.0,2.0,1.0,16.0,4.0,6.0,0.0,5.0,0.0],[8.0,2.0,0.0,0.0,3.0,16.0,8.0,3.0,9.0,0.0,0.0,2.0,3.0,11.0,2.0,4.0,1.0,6.0,0.0],[3.0,4.0,0.0,0.0,1.0,10.0,7.0,1.0,7.0,1.0,0.0,1.0,1.0,6.0,3.0,7.0,0.0,5.0,0.0],[6.0,5.0,0.0,1.0,1.0,9.0,6.0,2.0,2.0,0.0,1.0,1.0,4.0,9.0,3.0,3.0,0.0,3.0,0.0],[10.0,4.0,0.0,0.0,0.0,16.0,11.0,2.0,5.0,2.0,0.0,1.0,2.0,16.0,3.0,5.0,0.0,2.0,0.0],[7.0,5.0,0.0,0.0,1.0,10.0,7.0,0.0,8.0,0.0,0.0,2.0,2.0,9.0,4.0,7.0,0.0,4.0,0.0],[7.0,4.0,0.0,0.0,1.0,12.0,6.0,3.0,8.0,0.0,0.0,0.0,3.0,14.0,5.0,3.0,1.0,4.0,0.0],[9.0,4.0,0.0,0.0,1.0,15.0,6.0,6.0,6.0,0.0,0.0,0.0,1.0,17.0,3.0,7.0,0.0,9.0,1.0],[5.0,1.0,0.0,0.0,2.0,13.0,10.0,4.0,4.0,0.0,0.0,1.0,2.0,12.0,2.0,6.0,0.0,6.0,0.0],[6.0,1.0,0.0,0.0,2.0,10.0,6.0,4.0,6.0,0.0,0.0,1.0,2.0,11.0,1.0,0.0,1.0,4.0,1.0],[7.0,2.0,0.0,0.0,1.0,8.0,4.0,1.0,7.0,2.0,1.0,3.0,2.0,10.0,1.0,6.0,0.0,8.0,0.0],[8.0,2.0,0.0,0.0,1.0,10.0,8.0,0.0,9.0,2.0,0.0,3.0,5.0,11.0,4.0,5.0,0.0,7.0,1.0],[1.0,3.0,0.0,0.0,1.0,20.0,7.0,5.0,9.0,1.0,0.0,1.0,1.0,13.0,1.0,6.0,1.0,7.0,0.0],[4.0,2.0,0.0,1.0,0.0,11.0,10.0,0.0,7.0,2.0,0.0,0.0,1.0,14.0,0.0,8.0,0.0,3.0,0.0],[0.0,0.0,0.0,0.0,0.0,10.0,1.0,0.0,0.0,0.0,0.0,0.0,2.0,9.0,2.0,5.0,0.0,1.0,0.0],[9.0,1.0,0.0,0.0,1.0,15.0,7.0,2.0,4.0,0.0,0.0,1.0,2.0,10.0,4.0,4.0,0.0,7.0,0.0],[2.0,2.0,1.0,0.0,1.0,7.0,5.0,3.0,3.0,0.0,0.0,1.0,2.0,7.0,2.0,2.0,0.0,3.0,0.0],[7.0,3.0,0.0,0.0,0.0,6.0,4.0,6.0,3.0,0.0,0.0,0.0,2.0,13.0,3.0,0.0,0.0,1.0,0.0],[7.0,2.0,0.0,0.0,0.0,14.0,9.0,5.0,11.0,3.0,1.0,0.0,1.0,14.0,1.0,2.0,2.0,7.0,0.0],[11.0,2.0,0.0,0.0,0.0,7.0,11.0,1.0,7.0,1.0,0.0,0.0,3.0,8.0,4.0,1.0,1.0,5.0,0.0],[5.0,2.0,0.0,2.0,0.0,10.0,9.0,1.0,9.0,2.0,0.0,0.0,1.0,11.0,0.0,2.0,2.0,5.0,0.0],[7.0,3.0,0.0,0.0,3.0,13.0,9.0,3.0,8.0,0.0,1.0,2.0,4.0,14.0,2.0,8.0,0.0,6.0,0.0],[6.0,3.0,0.0,0.0,1.0,11.0,6.0,4.0,7.0,1.0,0.0,0.0,1.0,8.0,4.0,5.0,0.0,5.0,0.0],[7.0,4.0,0.0,0.0,1.0,15.0,12.0,3.0,10.0,1.0,0.0,0.0,3.0,14.0,1.0,4.0,1.0,8.0,0.0],[4.0,2.0,0.0,0.0,0.0,13.0,7.0,3.0,8.0,4.0,2.0,0.0,2.0,12.0,3.0,6.0,0.0,7.0,1.0],[3.0,3.0,0.0,0.0,2.0,11.0,4.0,0.0,4.0,1.0,0.0,1.0,1.0,9.0,1.0,4.0,1.0,7.0,0.0],[4.0,1.0,0.0,0.0,1.0,10.0,4.0,1.0,8.0,1.0,0.0,1.0,3.0,11.0,1.0,2.0,0.0,4.0,0.0],[5.0,2.0,0.0,0.0,0.0,5.0,8.0,2.0,10.0,0.0,0.0,1.0,2.0,9.0,3.0,1.0,0.0,7.0,0.0],[7.0,4.0,0.0,0.0,1.0,8.0,6.0,3.0,6.0,1.0,1.0,0.0,0.0,6.0,6.0,6.0,0.0,3.0,0.0],[6.0,2.0,0.0,0.0,0.0,19.0,4.0,4.0,8.0,0.0,0.0,1.0,1.0,19.0,4.0,6.0,0.0,5.0,0.0],[6.0,2.0,0.0,0.0,1.0,6.0,2.0,1.0,7.0,0.0,0.0,0.0,0.0,6.0,3.0,4.0,0.0,1.0,0.0],[6.0,6.0,0.0,0.0,2.0,7.0,7.0,3.0,4.0,1.0,0.0,1.0,3.0,12.0,3.0,2.0,1.0,3.0,0.0],[3.0,5.0,0.0,1.0,1.0,18.0,5.0,3.0,7.0,0.0,0.0,2.0,0.0,15.0,2.0,2.0,1.0,4.0,0.0],[3.0,5.0,0.0,1.0,2.0,11.0,4.0,2.0,4.0,1.0,0.0,1.0,3.0,8.0,1.0,2.0,0.0,6.0,0.0],[7.0,4.0,0.0,0.0,1.0,12.0,6.0,0.0,6.0,2.0,0.0,0.0,3.0,15.0,1.0,4.0,0.0,3.0,0.0],[6.0,5.0,0.0,0.0,1.0,8.0,6.0,3.0,4.0,0.0,1.0,0.0,2.0,11.0,6.0,5.0,0.0,4.0,0.0],[8.0,2.0,0.0,1.0,3.0,4.0,6.0,1.0,3.0,0.0,0.0,2.0,1.0,5.0,3.0,2.0,0.0,7.0,0.0],[1.0,0.0,0.0,0.0,0.0,7.0,6.0,2.0,4.0,2.0,1.0,2.0,3.0,3.0,0.0,3.0,0.0,4.0,0.0],[1.0,1.0,0.0,0.0,4.0,5.0,13.0,2.0,5.0,2.0,0.0,0.0,2.0,15.0,1.0,1.0,0.0,5.0,0.0],[10.0,7.0,0.0,0.0,1.0,8.0,9.0,2.0,16.0,1.0,1.0,4.0,2.0,14.0,2.0,5.0,0.0,7.0,0.0],[2.0,0.0,0.0,1.0,1.0,5.0,3.0,0.0,4.0,0.0,0.0,0.0,0.0,4.0,1.0,0.0,0.0,1.0,0.0],[10.0,0.0,0.0,0.0,0.0,14.0,7.0,1.0,4.0,2.0,0.0,2.0,0.0,6.0,5.0,4.0,0.0,6.0,1.0],[10.0,4.0,0.0,1.0,1.0,11.0,7.0,1.0,6.0,0.0,0.0,1.0,1.0,12.0,4.0,5.0,0.0,6.0,1.0],[5.0,3.0,0.0,3.0,1.0,9.0,11.0,2.0,5.0,0.0,1.0,1.0,4.0,11.0,5.0,5.0,1.0,5.0,0.0],[3.0,2.0,0.0,1.0,4.0,4.0,2.0,1.0,6.0,0.0,0.0,1.0,1.0,6.0,2.0,2.0,1.0,4.0,1.0],[6.0,4.0,0.0,0.0,0.0,6.0,9.0,0.0,8.0,0.0,1.0,1.0,4.0,2.0,3.0,3.0,1.0,3.0,1.0],[1.0,3.0,0.0,0.0,2.0,18.0,7.0,1.0,7.0,3.0,0.0,2.0,2.0,9.0,2.0,9.0,1.0,5.0,0.0],[11.0,1.0,0.0,1.0,1.0,7.0,5.0,2.0,6.0,1.0,0.0,2.0,4.0,5.0,4.0,3.0,3.0,7.0,0.0],[1.0,1.0,0.0,1.0,2.0,8.0,4.0,1.0,4.0,1.0,0.0,0.0,0.0,6.0,2.0,4.0,2.0,3.0,1.0],[4.0,1.0,0.0,2.0,1.0,7.0,4.0,1.0,1.0,2.0,0.0,2.0,1.0,6.0,1.0,8.0,1.0,1.0,0.0],[3.0,2.0,0.0,2.0,1.0,8.0,10.0,0.0,3.0,0.0,0.0,2.0,2.0,11.0,3.0,1.0,1.0,5.0,0.0],[5.0,3.0,0.0,1.0,1.0,9.0,7.0,1.0,5.0,0.0,0.0,0.0,1.0,5.0,2.0,0.0,0.0,4.0,0.0],[6.0,2.0,1.0,0.0,1.0,14.0,6.0,1.0,9.0,4.0,0.0,2.0,1.0,11.0,2.0,7.0,2.0,5.0,0.0],[3.0,3.0,0.0,0.0,1.0,13.0,9.0,0.0,6.0,0.0,0.0,0.0,4.0,10.0,2.0,4.0,1.0,2.0,0.0],[4.0,1.0,0.0,0.0,1.0,3.0,4.0,0.0,0.0,1.0,0.0,1.0,1.0,4.0,4.0,3.0,0.0,2.0,1.0],[7.0,3.0,0.0,0.0,0.0,7.0,8.0,0.0,4.0,0.0,1.0,0.0,5.0,6.0,1.0,0.0,1.0,5.0,0.0],[5.0,1.0,0.0,1.0,1.0,11.0,7.0,2.0,5.0,1.0,0.0,1.0,0.0,9.0,2.0,3.0,0.0,4.0,0.0],[1.0,2.0,0.0,0.0,1.0,4.0,3.0,1.0,3.0,0.0,0.0,0.0,0.0,5.0,1.0,4.0,0.0,2.0,0.0],[4.0,1.0,1.0,1.0,0.0,6.0,1.0,1.0,4.0,0.0,0.0,1.0,0.0,6.0,3.0,2.0,0.0,4.0,1.0],[7.0,4.0,0.0,1.0,1.0,9.0,10.0,2.0,8.0,1.0,0.0,2.0,3.0,8.0,3.0,4.0,0.0,3.0,0.0],[2.0,1.0,0.0,0.0,0.0,10.0,1.0,1.0,4.0,2.0,1.0,0.0,0.0,4.0,1.0,10.0,1.0,2.0,0.0],[4.0,3.0,0.0,1.0,1.0,7.0,3.0,0.0,2.0,0.0,0.0,2.0,4.0,4.0,1.0,2.0,0.0,5.0,0.0],[4.0,1.0,0.0,0.0,1.0,4.0,5.0,0.0,2.0,0.0,0.0,0.0,0.0,4.0,2.0,3.0,2.0,3.0,0.0],[1.0,3.0,0.0,3.0,0.0,4.0,4.0,0.0,1.0,0.0,0.0,0.0,0.0,2.0,1.0,2.0,1.0,1.0,0.0],[6.0,2.0,0.0,3.0,1.0,12.0,6.0,2.0,8.0,0.0,0.0,1.0,1.0,15.0,0.0,4.0,0.0,4.0,0.0],[4.0,1.0,0.0,0.0,0.0,6.0,4.0,1.0,3.0,2.0,0.0,1.0,2.0,2.0,3.0,3.0,0.0,0.0,0.0],[2.0,2.0,0.0,0.0,0.0,3.0,3.0,0.0,3.0,0.0,0.0,0.0,1.0,1.0,2.0,1.0,2.0,2.0,1.0],[1.0,1.0,0.0,0.0,0.0,3.0,5.0,0.0,1.0,0.0,0.0,0.0,0.0,3.0,2.0,1.0,1.0,2.0,0.0],[4.0,1.0,0.0,0.0,0.0,6.0,2.0,0.0,4.0,0.0,0.0,0.0,0.0,6.0,1.0,1.0,0.0,1.0,0.0],[4.0,1.0,0.0,0.0,1.0,5.0,4.0,1.0,4.0,0.0,0.0,2.0,1.0,4.0,0.0,2.0,0.0,4.0,2.0],[4.0,4.0,0.0,0.0,2.0,4.0,3.0,0.0,3.0,0.0,0.0,0.0,1.0,2.0,1.0,1.0,0.0,2.0,0.0],[5.0,2.0,0.0,2.0,2.0,5.0,3.0,1.0,5.0,0.0,1.0,1.0,1.0,4.0,1.0,1.0,0.0,3.0,0.0],[1.0,0.0,0.0,1.0,1.0,5.0,2.0,0.0,3.0,0.0,0.0,0.0,1.0,9.0,2.0,1.0,0.0,3.0,0.0],[2.0,1.0,0.0,0.0,0.0,3.0,2.0,0.0,1.0,0.0,0.0,0.0,0.0,2.0,1.0,4.0,1.0,1.0,1.0],[4.0,0.0,0.0,0.0,1.0,6.0,4.0,2.0,3.0,0.0,0.0,0.0,0.0,8.0,1.0,2.0,0.0,2.0,0.0],[1.0,0.0,0.0,0.0,0.0,1.0,1.0,1.0,1.0,1.0,0.0,0.0,0.0,0.0,0.0,1.0,0.0,2.0,0.0],[4.0,0.0,1.0,0.0,1.0,3.0,5.0,1.0,2.0,0.0,1.0,2.0,1.0,3.0,1.0,1.0,0.0,4.0,1.0],[1.0,2.0,0.0,0.0,1.0,0.0,0.0,0.0,1.0,0.0,0.0,0.0,0.0,0.0,0.0,0.0,0.0,1.0,0.0],[1.0,2.0,0.0,1.0,1.0,7.0,5.0,0.0,5.0,2.0,0.0,0.0,3.0,2.0,0.0,4.0,0.0,2.0,0.0],[0.0,1.0,0.0,0.0,2.0,2.0,2.0,1.0,4.0,0.0,0.0,0.0,1.0,2.0,1.0,0.0,0.0,0.0,0.0],[1.0,1.0,0.0,0.0,0.0,1.0,2.0,0.0,1.0,0.0,0.0,1.0,0.0,0.0,0.0,0.0,0.0,3.0,0.0],[1.0,0.0,0.0,0.0,0.0,1.0,2.0,0.0,1.0,1.0,0.0,1.0,0.0,3.0,0.0,2.0,0.0,1.0,0.0],[4.0,1.0,0.0,2.0,0.0,9.0,4.0,3.0,2.0,0.0,0.0,1.0,0.0,7.0,1.0,4.0,0.0,3.0,1.0],[2.0,2.0,0.0,0.0,1.0,6.0,6.0,0.0,3.0,0.0,0.0,0.0,1.0,7.0,2.0,4.0,0.0,2.0,0.0],[1.0,0.0,0.0,1.0,0.0,3.0,4.0,0.0,1.0,2.0,0.0,0.0,1.0,3.0,1.0,2.0,1.0,2.0,0.0],[5.0,1.0,0.0,4.0,2.0,5.0,4.0,0.0,4.0,0.0,0.0,0.0,2.0,8.0,1.0,0.0,1.0,2.0,0.0],[2.0,1.0,0.0,1.0,0.0,4.0,0.0,0.0,1.0,1.0,0.0,1.0,1.0,2.0,0.0,3.0,0.0,1.0,0.0],[1.0,0.0,0.0,2.0,0.0,5.0,3.0,0.0,1.0,2.0,0.0,0.0,1.0,2.0,2.0,2.0,0.0,1.0,0.0],[3.0,2.0,0.0,1.0,2.0,5.0,5.0,0.0,2.0,0.0,1.0,0.0,1.0,1.0,3.0,1.0,0.0,3.0,0.0],[1.0,1.0,0.0,0.0,0.0,0.0,2.0,0.0,1.0,0.0,0.0,0.0,0.0,0.0,2.0,0.0,0.0,1.0,0.0],[2.0,0.0,0.0,1.0,0.0,0.0,4.0,0.0,0.0,0.0,0.0,0.0,2.0,2.0,0.0,1.0,0.0,1.0,0.0],[1.0,1.0,0.0,0.0,1.0,1.0,1.0,0.0,2.0,0.0,1.0,0.0,2.0,0.0,1.0,1.0,1.0,2.0,0.0],[0.0,0.0,0.0,1.0,1.0,1.0,1.0,1.0,0.0,0.0,0.0,0.0,0.0,2.0,0.0,0.0,1.0,0.0,0.0],[4.0,2.0,0.0,0.0,1.0,2.0,1.0,0.0,3.0,0.0,0.0,0.0,0.0,0.0,2.0,0.0,0.0,2.0,0.0],[0.0,1.0,0.0,0.0,0.0,0.0,1.0,0.0,1.0,0.0,0.0,0.0,0.0,0.0,0.0,2.0,0.0,1.0,0.0],[4.0,2.0,0.0,0.0,1.0,2.0,3.0,0.0,6.0,0.0,0.0,1.0,1.0,0.0,1.0,1.0,0.0,1.0,0.0],[0.0,0.0,0.0,0.0,0.0,0.0,0.0,0.0,0.0,0.0,0.0,0.0,0.0,1.0,0.0,0.0,1.0,0.0,0.0],[4.0,2.0,0.0,2.0,0.0,2.0,4.0,0.0,3.0,0.0,0.0,2.0,4.0,2.0,1.0,1.0,0.0,2.0,0.0],[1.0,1.0,0.0,0.0,1.0,0.0,3.0,0.0,1.0,0.0,0.0,0.0,0.0,1.0,0.0,1.0,0.0,1.0,0.0],[4.0,1.0,0.0,2.0,0.0,5.0,4.0,0.0,1.0,0.0,0.0,0.0,1.0,5.0,2.0,2.0,0.0,1.0,0.0],[2.0,1.0,0.0,0.0,3.0,2.0,5.0,1.0,1.0,0.0,0.0,1.0,2.0,3.0,3.0,2.0,1.0,2.0,0.0],[3.0,2.0,0.0,1.0,2.0,3.0,11.0,1.0,3.0,1.0,1.0,1.0,1.0,9.0,0.0,4.0,0.0,3.0,0.0],[2.0,1.0,0.0,0.0,1.0,4.0,2.0,1.0,2.0,0.0,0.0,0.0,0.0,3.0,1.0,2.0,0.0,2.0,0.0],[1.0,0.0,0.0,0.0,0.0,0.0,4.0,0.0,2.0,0.0,0.0,0.0,1.0,3.0,0.0,1.0,0.0,1.0,1.0],[2.0,2.0,0.0,0.0,0.0,0.0,4.0,0.0,1.0,0.0,0.0,1.0,1.0,1.0,1.0,0.0,0.0,2.0,0.0],[2.0,1.0,0.0,1.0,0.0,4.0,2.0,0.0,4.0,1.0,0.0,2.0,2.0,4.0,0.0,2.0,0.0,3.0,0.0],[2.0,1.0,0.0,1.0,0.0,1.0,0.0,1.0,0.0,0.0,0.0,0.0,0.0,1.0,0.0,0.0,0.0,1.0,0.0],[2.0,0.0,0.0,1.0,1.0,1.0,3.0,0.0,2.0,0.0,0.0,0.0,0.0,1.0,2.0,1.0,0.0,0.0,0.0],[0.0,0.0,0.0,0.0,0.0,0.0,1.0,0.0,0.0,0.0,0.0,0.0,0.0,1.0,0.0,1.0,0.0,0.0,0.0],[1.0,0.0,0.0,0.0,1.0,5.0,3.0,0.0,1.0,0.0,0.0,0.0,0.0,2.0,0.0,4.0,0.0,1.0,1.0],[3.0,1.0,0.0,0.0,0.0,3.0,6.0,0.0,1.0,0.0,0.0,2.0,0.0,2.0,2.0,1.0,0.0,1.0,0.0],[1.0,0.0,0.0,0.0,2.0,1.0,3.0,0.0,3.0,0.0,0.0,0.0,0.0,2.0,0.0,1.0,0.0,2.0,1.0],[0.0,0.0,0.0,1.0,0.0,1.0,1.0,0.0,0.0,0.0,0.0,0.0,1.0,2.0,0.0,0.0,0.0,1.0,1.0],[1.0,3.0,0.0,2.0,0.0,6.0,7.0,0.0,2.0,0.0,0.0,1.0,0.0,5.0,0.0,2.0,0.0,1.0,1.0],[1.0,1.0,0.0,0.0,0.0,1.0,0.0,0.0,0.0,0.0,0.0,0.0,1.0,1.0,1.0,0.0,0.0,1.0,0.0],[2.0,1.0,0.0,1.0,0.0,1.0,3.0,0.0,0.0,0.0,0.0,1.0,2.0,2.0,2.0,1.0,0.0,0.0,1.0],[0.0,1.0,0.0,0.0,1.0,1.0,2.0,0.0,1.0,0.0,0.0,0.0,0.0,1.0,0.0,2.0,0.0,1.0,0.0],[0.0,0.0,0.0,0.0,1.0,0.0,1.0,0.0,0.0,0.0,0.0,0.0,0.0,0.0,0.0,1.0,0.0,0.0,0.0],[5.0,4.0,0.0,2.0,1.0,1.0,4.0,0.0,3.0,0.0,0.0,1.0,2.0,1.0,1.0,2.0,1.0,0.0,0.0],[0.0,0.0,0.0,0.0,0.0,0.0,1.0,0.0,0.0,0.0,0.0,1.0,1.0,0.0,0.0,0.0,0.0,0.0,0.0],[1.0,1.0,0.0,0.0,1.0,0.0,3.0,0.0,2.0,0.0,0.0,0.0,1.0,1.0,1.0,1.0,0.0,2.0,0.0],[2.0,0.0,0.0,2.0,0.0,2.0,4.0,0.0,1.0,0.0,0.0,0.0,0.0,2.0,0.0,1.0,0.0,0.0,0.0],[0.0,0.0,0.0,0.0,0.0,1.0,0.0,0.0,1.0,0.0,0.0,0.0,0.0,0.0,0.0,0.0,0.0,0.0,0.0],[1.0,1.0,0.0,3.0,0.0,3.0,2.0,0.0,1.0,0.0,0.0,1.0,1.0,1.0,1.0,0.0,0.0,1.0,0.0],[0.0,0.0,0.0,1.0,0.0,2.0,2.0,0.0,1.0,0.0,0.0,0.0,0.0,2.0,0.0,0.0,0.0,1.0,0.0],[2.0,1.0,0.0,1.0,0.0,0.0,2.0,0.0,2.0,0.0,0.0,1.0,0.0,1.0,0.0,1.0,0.0,1.0,0.0],[0.0,0.0,0.0,0.0,0.0,2.0,4.0,0.0,2.0,0.0,0.0,1.0,1.0,2.0,0.0,2.0,0.0,2.0,1.0],[3.0,1.0,0.0,0.0,0.0,2.0,3.0,0.0,0.0,0.0,0.0,0.0,1.0,3.0,0.0,0.0,1.0,4.0,0.0],[1.0,0.0,0.0,2.0,0.0,0.0,2.0,0.0,1.0,0.0,0.0,1.0,0.0,2.0,0.0,1.0,0.0,1.0,0.0],[1.0,2.0,0.0,1.0,0.0,1.0,1.0,0.0,0.0,0.0,0.0,0.0,0.0,0.0,1.0,1.0,0.0,0.0,0.0],[0.0,0.0,0.0,0.0,0.0,0.0,1.0,0.0,0.0,0.0,0.0,0.0,0.0,0.0,0.0,0.0,0.0,1.0,0.0],[0.0,0.0,0.0,1.0,0.0,1.0,2.0,0.0,0.0,0.0,0.0,0.0,0.0,1.0,0.0,1.0,0.0,0.0,0.0],[0.0,0.0,0.0,0.0,0.0,0.0,2.0,0.0,0.0,1.0,0.0,0.0,0.0,0.0,0.0,0.0,0.0,1.0,0.0],[3.0,1.0,0.0,2.0,0.0,1.0,1.0,0.0,1.0,0.0,0.0,1.0,0.0,0.0,2.0,1.0,0.0,1.0,0.0],[0.0,1.0,0.0,2.0,0.0,1.0,1.0,0.0,0.0,0.0,0.0,0.0,0.0,1.0,0.0,2.0,0.0,0.0,0.0],[0.0,0.0,0.0,2.0,0.0,1.0,1.0,0.0,0.0,0.0,0.0,0.0,0.0,0.0,0.0,2.0,0.0,0.0,0.0],[1.0,0.0,0.0,1.0,0.0,1.0,1.0,1.0,0.0,0.0,0.0,0.0,0.0,0.0,0.0,0.0,0.0,0.0,0.0],[0.0,0.0,0.0,1.0,0.0,1.0,1.0,0.0,0.0,0.0,0.0,0.0,0.0,0.0,0.0,0.0,1.0,0.0,0.0],[0.0,0.0,0.0,0.0,0.0,0.0,1.0,0.0,0.0,0.0,0.0,0.0,0.0,0.0,0.0,1.0,1.0,0.0,0.0],[0.0,0.0,0.0,1.0,0.0,0.0,1.0,0.0,0.0,0.0,0.0,0.0,1.0,0.0,1.0,0.0,0.0,0.0,0.0],[1.0,0.0,0.0,0.0,0.0,0.0,1.0,0.0,1.0,0.0,0.0,0.0,0.0,0.0,0.0,0.0,0.0,0.0,0.0],[1.0,0.0,0.0,1.0,0.0,0.0,0.0,0.0,0.0,0.0,0.0,0.0,0.0,0.0,0.0,0.0,0.0,0.0,0.0],[0.0,0.0,0.0,0.0,0.0,0.0,1.0,0.0,0.0,0.0,0.0,0.0,0.0,0.0,0.0,1.0,0.0,0.0,0.0],[1.0,1.0,0.0,1.0,0.0,0.0,1.0,0.0,0.0,0.0,0.0,0.0,0.0,0.0,0.0,0.0,0.0,0.0,0.0],[1.0,1.0,0.0,1.0,0.0,0.0,1.0,0.0,1.0,0.0,0.0,0.0,0.0,0.0,0.0,0.0,0.0,0.0,0.0],[0.0,0.0,0.0,1.0,0.0,0.0,0.0,0.0,0.0,0.0,0.0,0.0,0.0,0.0,0.0,0.0,1.0,0.0,0.0],[0.0,0.0,0.0,1.0,0.0,0.0,1.0,0.0,0.0,0.0,0.0,0.0,1.0,0.0,0.0,0.0,0.0,0.0,0.0],[1.0,1.0,0.0,1.0,0.0,0.0,1.0,0.0,1.0,0.0,0.0,1.0,0.0,0.0,0.0,0.0,0.0,1.0,0.0]],\"type\":\"heatmap\"}],                        {\"title\":{\"text\":\"Genre Count by score - Heatmap\"},\"xaxis\":{\"title\":{\"text\":\"Genres\"}},\"yaxis\":{\"title\":{\"text\":\"score\"}},\"template\":{\"data\":{\"histogram2dcontour\":[{\"type\":\"histogram2dcontour\",\"colorbar\":{\"outlinewidth\":0,\"ticks\":\"\"},\"colorscale\":[[0.0,\"#0d0887\"],[0.1111111111111111,\"#46039f\"],[0.2222222222222222,\"#7201a8\"],[0.3333333333333333,\"#9c179e\"],[0.4444444444444444,\"#bd3786\"],[0.5555555555555556,\"#d8576b\"],[0.6666666666666666,\"#ed7953\"],[0.7777777777777778,\"#fb9f3a\"],[0.8888888888888888,\"#fdca26\"],[1.0,\"#f0f921\"]]}],\"choropleth\":[{\"type\":\"choropleth\",\"colorbar\":{\"outlinewidth\":0,\"ticks\":\"\"}}],\"histogram2d\":[{\"type\":\"histogram2d\",\"colorbar\":{\"outlinewidth\":0,\"ticks\":\"\"},\"colorscale\":[[0.0,\"#0d0887\"],[0.1111111111111111,\"#46039f\"],[0.2222222222222222,\"#7201a8\"],[0.3333333333333333,\"#9c179e\"],[0.4444444444444444,\"#bd3786\"],[0.5555555555555556,\"#d8576b\"],[0.6666666666666666,\"#ed7953\"],[0.7777777777777778,\"#fb9f3a\"],[0.8888888888888888,\"#fdca26\"],[1.0,\"#f0f921\"]]}],\"heatmap\":[{\"type\":\"heatmap\",\"colorbar\":{\"outlinewidth\":0,\"ticks\":\"\"},\"colorscale\":[[0.0,\"#0d0887\"],[0.1111111111111111,\"#46039f\"],[0.2222222222222222,\"#7201a8\"],[0.3333333333333333,\"#9c179e\"],[0.4444444444444444,\"#bd3786\"],[0.5555555555555556,\"#d8576b\"],[0.6666666666666666,\"#ed7953\"],[0.7777777777777778,\"#fb9f3a\"],[0.8888888888888888,\"#fdca26\"],[1.0,\"#f0f921\"]]}],\"heatmapgl\":[{\"type\":\"heatmapgl\",\"colorbar\":{\"outlinewidth\":0,\"ticks\":\"\"},\"colorscale\":[[0.0,\"#0d0887\"],[0.1111111111111111,\"#46039f\"],[0.2222222222222222,\"#7201a8\"],[0.3333333333333333,\"#9c179e\"],[0.4444444444444444,\"#bd3786\"],[0.5555555555555556,\"#d8576b\"],[0.6666666666666666,\"#ed7953\"],[0.7777777777777778,\"#fb9f3a\"],[0.8888888888888888,\"#fdca26\"],[1.0,\"#f0f921\"]]}],\"contourcarpet\":[{\"type\":\"contourcarpet\",\"colorbar\":{\"outlinewidth\":0,\"ticks\":\"\"}}],\"contour\":[{\"type\":\"contour\",\"colorbar\":{\"outlinewidth\":0,\"ticks\":\"\"},\"colorscale\":[[0.0,\"#0d0887\"],[0.1111111111111111,\"#46039f\"],[0.2222222222222222,\"#7201a8\"],[0.3333333333333333,\"#9c179e\"],[0.4444444444444444,\"#bd3786\"],[0.5555555555555556,\"#d8576b\"],[0.6666666666666666,\"#ed7953\"],[0.7777777777777778,\"#fb9f3a\"],[0.8888888888888888,\"#fdca26\"],[1.0,\"#f0f921\"]]}],\"surface\":[{\"type\":\"surface\",\"colorbar\":{\"outlinewidth\":0,\"ticks\":\"\"},\"colorscale\":[[0.0,\"#0d0887\"],[0.1111111111111111,\"#46039f\"],[0.2222222222222222,\"#7201a8\"],[0.3333333333333333,\"#9c179e\"],[0.4444444444444444,\"#bd3786\"],[0.5555555555555556,\"#d8576b\"],[0.6666666666666666,\"#ed7953\"],[0.7777777777777778,\"#fb9f3a\"],[0.8888888888888888,\"#fdca26\"],[1.0,\"#f0f921\"]]}],\"mesh3d\":[{\"type\":\"mesh3d\",\"colorbar\":{\"outlinewidth\":0,\"ticks\":\"\"}}],\"scatter\":[{\"fillpattern\":{\"fillmode\":\"overlay\",\"size\":10,\"solidity\":0.2},\"type\":\"scatter\"}],\"parcoords\":[{\"type\":\"parcoords\",\"line\":{\"colorbar\":{\"outlinewidth\":0,\"ticks\":\"\"}}}],\"scatterpolargl\":[{\"type\":\"scatterpolargl\",\"marker\":{\"colorbar\":{\"outlinewidth\":0,\"ticks\":\"\"}}}],\"bar\":[{\"error_x\":{\"color\":\"#2a3f5f\"},\"error_y\":{\"color\":\"#2a3f5f\"},\"marker\":{\"line\":{\"color\":\"#E5ECF6\",\"width\":0.5},\"pattern\":{\"fillmode\":\"overlay\",\"size\":10,\"solidity\":0.2}},\"type\":\"bar\"}],\"scattergeo\":[{\"type\":\"scattergeo\",\"marker\":{\"colorbar\":{\"outlinewidth\":0,\"ticks\":\"\"}}}],\"scatterpolar\":[{\"type\":\"scatterpolar\",\"marker\":{\"colorbar\":{\"outlinewidth\":0,\"ticks\":\"\"}}}],\"histogram\":[{\"marker\":{\"pattern\":{\"fillmode\":\"overlay\",\"size\":10,\"solidity\":0.2}},\"type\":\"histogram\"}],\"scattergl\":[{\"type\":\"scattergl\",\"marker\":{\"colorbar\":{\"outlinewidth\":0,\"ticks\":\"\"}}}],\"scatter3d\":[{\"type\":\"scatter3d\",\"line\":{\"colorbar\":{\"outlinewidth\":0,\"ticks\":\"\"}},\"marker\":{\"colorbar\":{\"outlinewidth\":0,\"ticks\":\"\"}}}],\"scattermapbox\":[{\"type\":\"scattermapbox\",\"marker\":{\"colorbar\":{\"outlinewidth\":0,\"ticks\":\"\"}}}],\"scatterternary\":[{\"type\":\"scatterternary\",\"marker\":{\"colorbar\":{\"outlinewidth\":0,\"ticks\":\"\"}}}],\"scattercarpet\":[{\"type\":\"scattercarpet\",\"marker\":{\"colorbar\":{\"outlinewidth\":0,\"ticks\":\"\"}}}],\"carpet\":[{\"aaxis\":{\"endlinecolor\":\"#2a3f5f\",\"gridcolor\":\"white\",\"linecolor\":\"white\",\"minorgridcolor\":\"white\",\"startlinecolor\":\"#2a3f5f\"},\"baxis\":{\"endlinecolor\":\"#2a3f5f\",\"gridcolor\":\"white\",\"linecolor\":\"white\",\"minorgridcolor\":\"white\",\"startlinecolor\":\"#2a3f5f\"},\"type\":\"carpet\"}],\"table\":[{\"cells\":{\"fill\":{\"color\":\"#EBF0F8\"},\"line\":{\"color\":\"white\"}},\"header\":{\"fill\":{\"color\":\"#C8D4E3\"},\"line\":{\"color\":\"white\"}},\"type\":\"table\"}],\"barpolar\":[{\"marker\":{\"line\":{\"color\":\"#E5ECF6\",\"width\":0.5},\"pattern\":{\"fillmode\":\"overlay\",\"size\":10,\"solidity\":0.2}},\"type\":\"barpolar\"}],\"pie\":[{\"automargin\":true,\"type\":\"pie\"}]},\"layout\":{\"autotypenumbers\":\"strict\",\"colorway\":[\"#636efa\",\"#EF553B\",\"#00cc96\",\"#ab63fa\",\"#FFA15A\",\"#19d3f3\",\"#FF6692\",\"#B6E880\",\"#FF97FF\",\"#FECB52\"],\"font\":{\"color\":\"#2a3f5f\"},\"hovermode\":\"closest\",\"hoverlabel\":{\"align\":\"left\"},\"paper_bgcolor\":\"white\",\"plot_bgcolor\":\"#E5ECF6\",\"polar\":{\"bgcolor\":\"#E5ECF6\",\"angularaxis\":{\"gridcolor\":\"white\",\"linecolor\":\"white\",\"ticks\":\"\"},\"radialaxis\":{\"gridcolor\":\"white\",\"linecolor\":\"white\",\"ticks\":\"\"}},\"ternary\":{\"bgcolor\":\"#E5ECF6\",\"aaxis\":{\"gridcolor\":\"white\",\"linecolor\":\"white\",\"ticks\":\"\"},\"baxis\":{\"gridcolor\":\"white\",\"linecolor\":\"white\",\"ticks\":\"\"},\"caxis\":{\"gridcolor\":\"white\",\"linecolor\":\"white\",\"ticks\":\"\"}},\"coloraxis\":{\"colorbar\":{\"outlinewidth\":0,\"ticks\":\"\"}},\"colorscale\":{\"sequential\":[[0.0,\"#0d0887\"],[0.1111111111111111,\"#46039f\"],[0.2222222222222222,\"#7201a8\"],[0.3333333333333333,\"#9c179e\"],[0.4444444444444444,\"#bd3786\"],[0.5555555555555556,\"#d8576b\"],[0.6666666666666666,\"#ed7953\"],[0.7777777777777778,\"#fb9f3a\"],[0.8888888888888888,\"#fdca26\"],[1.0,\"#f0f921\"]],\"sequentialminus\":[[0.0,\"#0d0887\"],[0.1111111111111111,\"#46039f\"],[0.2222222222222222,\"#7201a8\"],[0.3333333333333333,\"#9c179e\"],[0.4444444444444444,\"#bd3786\"],[0.5555555555555556,\"#d8576b\"],[0.6666666666666666,\"#ed7953\"],[0.7777777777777778,\"#fb9f3a\"],[0.8888888888888888,\"#fdca26\"],[1.0,\"#f0f921\"]],\"diverging\":[[0,\"#8e0152\"],[0.1,\"#c51b7d\"],[0.2,\"#de77ae\"],[0.3,\"#f1b6da\"],[0.4,\"#fde0ef\"],[0.5,\"#f7f7f7\"],[0.6,\"#e6f5d0\"],[0.7,\"#b8e186\"],[0.8,\"#7fbc41\"],[0.9,\"#4d9221\"],[1,\"#276419\"]]},\"xaxis\":{\"gridcolor\":\"white\",\"linecolor\":\"white\",\"ticks\":\"\",\"title\":{\"standoff\":15},\"zerolinecolor\":\"white\",\"automargin\":true,\"zerolinewidth\":2},\"yaxis\":{\"gridcolor\":\"white\",\"linecolor\":\"white\",\"ticks\":\"\",\"title\":{\"standoff\":15},\"zerolinecolor\":\"white\",\"automargin\":true,\"zerolinewidth\":2},\"scene\":{\"xaxis\":{\"backgroundcolor\":\"#E5ECF6\",\"gridcolor\":\"white\",\"linecolor\":\"white\",\"showbackground\":true,\"ticks\":\"\",\"zerolinecolor\":\"white\",\"gridwidth\":2},\"yaxis\":{\"backgroundcolor\":\"#E5ECF6\",\"gridcolor\":\"white\",\"linecolor\":\"white\",\"showbackground\":true,\"ticks\":\"\",\"zerolinecolor\":\"white\",\"gridwidth\":2},\"zaxis\":{\"backgroundcolor\":\"#E5ECF6\",\"gridcolor\":\"white\",\"linecolor\":\"white\",\"showbackground\":true,\"ticks\":\"\",\"zerolinecolor\":\"white\",\"gridwidth\":2}},\"shapedefaults\":{\"line\":{\"color\":\"#2a3f5f\"}},\"annotationdefaults\":{\"arrowcolor\":\"#2a3f5f\",\"arrowhead\":0,\"arrowwidth\":1},\"geo\":{\"bgcolor\":\"white\",\"landcolor\":\"#E5ECF6\",\"subunitcolor\":\"white\",\"showland\":true,\"showlakes\":true,\"lakecolor\":\"white\"},\"title\":{\"x\":0.05},\"mapbox\":{\"style\":\"light\"}}}},                        {\"responsive\": true}                    ).then(function(){\n",
       "                            \n",
       "var gd = document.getElementById('757cdb31-5b99-4759-84b2-c7c345904cb1');\n",
       "var x = new MutationObserver(function (mutations, observer) {{\n",
       "        var display = window.getComputedStyle(gd).display;\n",
       "        if (!display || display === 'none') {{\n",
       "            console.log([gd, 'removed!']);\n",
       "            Plotly.purge(gd);\n",
       "            observer.disconnect();\n",
       "        }}\n",
       "}});\n",
       "\n",
       "// Listen for the removal of the full notebook cells\n",
       "var notebookContainer = gd.closest('#notebook-container');\n",
       "if (notebookContainer) {{\n",
       "    x.observe(notebookContainer, {childList: true});\n",
       "}}\n",
       "\n",
       "// Listen for the clearing of the current output cell\n",
       "var outputEl = gd.closest('.output');\n",
       "if (outputEl) {{\n",
       "    x.observe(outputEl, {childList: true});\n",
       "}}\n",
       "\n",
       "                        })                };                });            </script>        </div>"
      ]
     },
     "metadata": {},
     "output_type": "display_data"
    }
   ],
   "source": [
    "# HEATMAP - INTERACTIVE - SCORE GENRES\n",
    "heatmap = go.Heatmap(\n",
    "    x=df_gen_sco.columns,\n",
    "    y=df_gen_sco.index,\n",
    "    z=df_gen_sco.values,\n",
    "    colorscale='Blues'\n",
    ")\n",
    "\n",
    "layout = go.Layout(\n",
    "    xaxis=dict(title='Genres'),\n",
    "    yaxis=dict(title='score'),\n",
    "    title='Genre Count by Score - Heatmap'\n",
    ")\n",
    "\n",
    "fig = go.Figure(data=[heatmap], layout=layout)\n",
    "\n",
    "fig.show()"
   ]
  },
  {
   "cell_type": "code",
   "execution_count": 369,
   "id": "1cc3c49e",
   "metadata": {},
   "outputs": [],
   "source": [
    "# Scores grouped by 6-6.99 , 7-7.99, 8-8.99, 9-10\n",
    "bins = [0, 6.99, 7.99, 8.99, 10]\n",
    "df_gen_sco_final = df_gen_sco.reset_index()\n",
    "sco_group = pd.cut(df_gen_sco_final.score, bins=bins, labels=['6-6.99','7-7.99','8-8.99','9-10'])\n",
    "df_gen_sco_final.insert(1,'score-group', sco_group)"
   ]
  },
  {
   "cell_type": "code",
   "execution_count": 373,
   "id": "f9b87cb0",
   "metadata": {},
   "outputs": [],
   "source": [
    "df_gen_sco_final = df_gen_sco_final.groupby('score-group').sum().drop(['score'],axis=1)"
   ]
  },
  {
   "cell_type": "code",
   "execution_count": 374,
   "id": "3721ffaf",
   "metadata": {},
   "outputs": [
    {
     "data": {
      "application/vnd.plotly.v1+json": {
       "config": {
        "plotlyServerURL": "https://plot.ly"
       },
       "data": [
        {
         "colorscale": [
          [
           0,
           "rgb(247,251,255)"
          ],
          [
           0.125,
           "rgb(222,235,247)"
          ],
          [
           0.25,
           "rgb(198,219,239)"
          ],
          [
           0.375,
           "rgb(158,202,225)"
          ],
          [
           0.5,
           "rgb(107,174,214)"
          ],
          [
           0.625,
           "rgb(66,146,198)"
          ],
          [
           0.75,
           "rgb(33,113,181)"
          ],
          [
           0.875,
           "rgb(8,81,156)"
          ],
          [
           1,
           "rgb(8,48,107)"
          ]
         ],
         "type": "heatmap",
         "x": [
          "Action",
          "Adventure",
          "Avant Garde",
          "Award Winning",
          "Boys Love",
          "Comedy",
          "Drama",
          "Ecchi",
          "Fantasy",
          "Girls Love",
          "Gourmet",
          "Horror",
          "Mystery",
          "Romance",
          "Sci-Fi",
          "Slice of Life",
          "Sports",
          "Supernatural",
          "Suspense"
         ],
         "y": [
          "6-6.99",
          "7-7.99",
          "8-8.99",
          "9-10"
         ],
         "z": [
          [
           353,
           190,
           4,
           3,
           53,
           583,
           340,
           186,
           370,
           48,
           8,
           84,
           96,
           581,
           138,
           190,
           23,
           268,
           8
          ],
          [
           349,
           169,
           4,
           52,
           79,
           585,
           439,
           97,
           371,
           55,
           17,
           62,
           122,
           558,
           158,
           236,
           38,
           289,
           15
          ],
          [
           32,
           19,
           0,
           27,
           8,
           40,
           71,
           1,
           26,
           1,
           0,
           11,
           12,
           36,
           14,
           30,
           4,
           23,
           6
          ],
          [
           4,
           3,
           0,
           6,
           0,
           0,
           5,
           0,
           2,
           0,
           0,
           1,
           1,
           0,
           0,
           1,
           1,
           1,
           0
          ]
         ]
        }
       ],
       "layout": {
        "template": {
         "data": {
          "bar": [
           {
            "error_x": {
             "color": "#2a3f5f"
            },
            "error_y": {
             "color": "#2a3f5f"
            },
            "marker": {
             "line": {
              "color": "#E5ECF6",
              "width": 0.5
             },
             "pattern": {
              "fillmode": "overlay",
              "size": 10,
              "solidity": 0.2
             }
            },
            "type": "bar"
           }
          ],
          "barpolar": [
           {
            "marker": {
             "line": {
              "color": "#E5ECF6",
              "width": 0.5
             },
             "pattern": {
              "fillmode": "overlay",
              "size": 10,
              "solidity": 0.2
             }
            },
            "type": "barpolar"
           }
          ],
          "carpet": [
           {
            "aaxis": {
             "endlinecolor": "#2a3f5f",
             "gridcolor": "white",
             "linecolor": "white",
             "minorgridcolor": "white",
             "startlinecolor": "#2a3f5f"
            },
            "baxis": {
             "endlinecolor": "#2a3f5f",
             "gridcolor": "white",
             "linecolor": "white",
             "minorgridcolor": "white",
             "startlinecolor": "#2a3f5f"
            },
            "type": "carpet"
           }
          ],
          "choropleth": [
           {
            "colorbar": {
             "outlinewidth": 0,
             "ticks": ""
            },
            "type": "choropleth"
           }
          ],
          "contour": [
           {
            "colorbar": {
             "outlinewidth": 0,
             "ticks": ""
            },
            "colorscale": [
             [
              0,
              "#0d0887"
             ],
             [
              0.1111111111111111,
              "#46039f"
             ],
             [
              0.2222222222222222,
              "#7201a8"
             ],
             [
              0.3333333333333333,
              "#9c179e"
             ],
             [
              0.4444444444444444,
              "#bd3786"
             ],
             [
              0.5555555555555556,
              "#d8576b"
             ],
             [
              0.6666666666666666,
              "#ed7953"
             ],
             [
              0.7777777777777778,
              "#fb9f3a"
             ],
             [
              0.8888888888888888,
              "#fdca26"
             ],
             [
              1,
              "#f0f921"
             ]
            ],
            "type": "contour"
           }
          ],
          "contourcarpet": [
           {
            "colorbar": {
             "outlinewidth": 0,
             "ticks": ""
            },
            "type": "contourcarpet"
           }
          ],
          "heatmap": [
           {
            "colorbar": {
             "outlinewidth": 0,
             "ticks": ""
            },
            "colorscale": [
             [
              0,
              "#0d0887"
             ],
             [
              0.1111111111111111,
              "#46039f"
             ],
             [
              0.2222222222222222,
              "#7201a8"
             ],
             [
              0.3333333333333333,
              "#9c179e"
             ],
             [
              0.4444444444444444,
              "#bd3786"
             ],
             [
              0.5555555555555556,
              "#d8576b"
             ],
             [
              0.6666666666666666,
              "#ed7953"
             ],
             [
              0.7777777777777778,
              "#fb9f3a"
             ],
             [
              0.8888888888888888,
              "#fdca26"
             ],
             [
              1,
              "#f0f921"
             ]
            ],
            "type": "heatmap"
           }
          ],
          "heatmapgl": [
           {
            "colorbar": {
             "outlinewidth": 0,
             "ticks": ""
            },
            "colorscale": [
             [
              0,
              "#0d0887"
             ],
             [
              0.1111111111111111,
              "#46039f"
             ],
             [
              0.2222222222222222,
              "#7201a8"
             ],
             [
              0.3333333333333333,
              "#9c179e"
             ],
             [
              0.4444444444444444,
              "#bd3786"
             ],
             [
              0.5555555555555556,
              "#d8576b"
             ],
             [
              0.6666666666666666,
              "#ed7953"
             ],
             [
              0.7777777777777778,
              "#fb9f3a"
             ],
             [
              0.8888888888888888,
              "#fdca26"
             ],
             [
              1,
              "#f0f921"
             ]
            ],
            "type": "heatmapgl"
           }
          ],
          "histogram": [
           {
            "marker": {
             "pattern": {
              "fillmode": "overlay",
              "size": 10,
              "solidity": 0.2
             }
            },
            "type": "histogram"
           }
          ],
          "histogram2d": [
           {
            "colorbar": {
             "outlinewidth": 0,
             "ticks": ""
            },
            "colorscale": [
             [
              0,
              "#0d0887"
             ],
             [
              0.1111111111111111,
              "#46039f"
             ],
             [
              0.2222222222222222,
              "#7201a8"
             ],
             [
              0.3333333333333333,
              "#9c179e"
             ],
             [
              0.4444444444444444,
              "#bd3786"
             ],
             [
              0.5555555555555556,
              "#d8576b"
             ],
             [
              0.6666666666666666,
              "#ed7953"
             ],
             [
              0.7777777777777778,
              "#fb9f3a"
             ],
             [
              0.8888888888888888,
              "#fdca26"
             ],
             [
              1,
              "#f0f921"
             ]
            ],
            "type": "histogram2d"
           }
          ],
          "histogram2dcontour": [
           {
            "colorbar": {
             "outlinewidth": 0,
             "ticks": ""
            },
            "colorscale": [
             [
              0,
              "#0d0887"
             ],
             [
              0.1111111111111111,
              "#46039f"
             ],
             [
              0.2222222222222222,
              "#7201a8"
             ],
             [
              0.3333333333333333,
              "#9c179e"
             ],
             [
              0.4444444444444444,
              "#bd3786"
             ],
             [
              0.5555555555555556,
              "#d8576b"
             ],
             [
              0.6666666666666666,
              "#ed7953"
             ],
             [
              0.7777777777777778,
              "#fb9f3a"
             ],
             [
              0.8888888888888888,
              "#fdca26"
             ],
             [
              1,
              "#f0f921"
             ]
            ],
            "type": "histogram2dcontour"
           }
          ],
          "mesh3d": [
           {
            "colorbar": {
             "outlinewidth": 0,
             "ticks": ""
            },
            "type": "mesh3d"
           }
          ],
          "parcoords": [
           {
            "line": {
             "colorbar": {
              "outlinewidth": 0,
              "ticks": ""
             }
            },
            "type": "parcoords"
           }
          ],
          "pie": [
           {
            "automargin": true,
            "type": "pie"
           }
          ],
          "scatter": [
           {
            "fillpattern": {
             "fillmode": "overlay",
             "size": 10,
             "solidity": 0.2
            },
            "type": "scatter"
           }
          ],
          "scatter3d": [
           {
            "line": {
             "colorbar": {
              "outlinewidth": 0,
              "ticks": ""
             }
            },
            "marker": {
             "colorbar": {
              "outlinewidth": 0,
              "ticks": ""
             }
            },
            "type": "scatter3d"
           }
          ],
          "scattercarpet": [
           {
            "marker": {
             "colorbar": {
              "outlinewidth": 0,
              "ticks": ""
             }
            },
            "type": "scattercarpet"
           }
          ],
          "scattergeo": [
           {
            "marker": {
             "colorbar": {
              "outlinewidth": 0,
              "ticks": ""
             }
            },
            "type": "scattergeo"
           }
          ],
          "scattergl": [
           {
            "marker": {
             "colorbar": {
              "outlinewidth": 0,
              "ticks": ""
             }
            },
            "type": "scattergl"
           }
          ],
          "scattermapbox": [
           {
            "marker": {
             "colorbar": {
              "outlinewidth": 0,
              "ticks": ""
             }
            },
            "type": "scattermapbox"
           }
          ],
          "scatterpolar": [
           {
            "marker": {
             "colorbar": {
              "outlinewidth": 0,
              "ticks": ""
             }
            },
            "type": "scatterpolar"
           }
          ],
          "scatterpolargl": [
           {
            "marker": {
             "colorbar": {
              "outlinewidth": 0,
              "ticks": ""
             }
            },
            "type": "scatterpolargl"
           }
          ],
          "scatterternary": [
           {
            "marker": {
             "colorbar": {
              "outlinewidth": 0,
              "ticks": ""
             }
            },
            "type": "scatterternary"
           }
          ],
          "surface": [
           {
            "colorbar": {
             "outlinewidth": 0,
             "ticks": ""
            },
            "colorscale": [
             [
              0,
              "#0d0887"
             ],
             [
              0.1111111111111111,
              "#46039f"
             ],
             [
              0.2222222222222222,
              "#7201a8"
             ],
             [
              0.3333333333333333,
              "#9c179e"
             ],
             [
              0.4444444444444444,
              "#bd3786"
             ],
             [
              0.5555555555555556,
              "#d8576b"
             ],
             [
              0.6666666666666666,
              "#ed7953"
             ],
             [
              0.7777777777777778,
              "#fb9f3a"
             ],
             [
              0.8888888888888888,
              "#fdca26"
             ],
             [
              1,
              "#f0f921"
             ]
            ],
            "type": "surface"
           }
          ],
          "table": [
           {
            "cells": {
             "fill": {
              "color": "#EBF0F8"
             },
             "line": {
              "color": "white"
             }
            },
            "header": {
             "fill": {
              "color": "#C8D4E3"
             },
             "line": {
              "color": "white"
             }
            },
            "type": "table"
           }
          ]
         },
         "layout": {
          "annotationdefaults": {
           "arrowcolor": "#2a3f5f",
           "arrowhead": 0,
           "arrowwidth": 1
          },
          "autotypenumbers": "strict",
          "coloraxis": {
           "colorbar": {
            "outlinewidth": 0,
            "ticks": ""
           }
          },
          "colorscale": {
           "diverging": [
            [
             0,
             "#8e0152"
            ],
            [
             0.1,
             "#c51b7d"
            ],
            [
             0.2,
             "#de77ae"
            ],
            [
             0.3,
             "#f1b6da"
            ],
            [
             0.4,
             "#fde0ef"
            ],
            [
             0.5,
             "#f7f7f7"
            ],
            [
             0.6,
             "#e6f5d0"
            ],
            [
             0.7,
             "#b8e186"
            ],
            [
             0.8,
             "#7fbc41"
            ],
            [
             0.9,
             "#4d9221"
            ],
            [
             1,
             "#276419"
            ]
           ],
           "sequential": [
            [
             0,
             "#0d0887"
            ],
            [
             0.1111111111111111,
             "#46039f"
            ],
            [
             0.2222222222222222,
             "#7201a8"
            ],
            [
             0.3333333333333333,
             "#9c179e"
            ],
            [
             0.4444444444444444,
             "#bd3786"
            ],
            [
             0.5555555555555556,
             "#d8576b"
            ],
            [
             0.6666666666666666,
             "#ed7953"
            ],
            [
             0.7777777777777778,
             "#fb9f3a"
            ],
            [
             0.8888888888888888,
             "#fdca26"
            ],
            [
             1,
             "#f0f921"
            ]
           ],
           "sequentialminus": [
            [
             0,
             "#0d0887"
            ],
            [
             0.1111111111111111,
             "#46039f"
            ],
            [
             0.2222222222222222,
             "#7201a8"
            ],
            [
             0.3333333333333333,
             "#9c179e"
            ],
            [
             0.4444444444444444,
             "#bd3786"
            ],
            [
             0.5555555555555556,
             "#d8576b"
            ],
            [
             0.6666666666666666,
             "#ed7953"
            ],
            [
             0.7777777777777778,
             "#fb9f3a"
            ],
            [
             0.8888888888888888,
             "#fdca26"
            ],
            [
             1,
             "#f0f921"
            ]
           ]
          },
          "colorway": [
           "#636efa",
           "#EF553B",
           "#00cc96",
           "#ab63fa",
           "#FFA15A",
           "#19d3f3",
           "#FF6692",
           "#B6E880",
           "#FF97FF",
           "#FECB52"
          ],
          "font": {
           "color": "#2a3f5f"
          },
          "geo": {
           "bgcolor": "white",
           "lakecolor": "white",
           "landcolor": "#E5ECF6",
           "showlakes": true,
           "showland": true,
           "subunitcolor": "white"
          },
          "hoverlabel": {
           "align": "left"
          },
          "hovermode": "closest",
          "mapbox": {
           "style": "light"
          },
          "paper_bgcolor": "white",
          "plot_bgcolor": "#E5ECF6",
          "polar": {
           "angularaxis": {
            "gridcolor": "white",
            "linecolor": "white",
            "ticks": ""
           },
           "bgcolor": "#E5ECF6",
           "radialaxis": {
            "gridcolor": "white",
            "linecolor": "white",
            "ticks": ""
           }
          },
          "scene": {
           "xaxis": {
            "backgroundcolor": "#E5ECF6",
            "gridcolor": "white",
            "gridwidth": 2,
            "linecolor": "white",
            "showbackground": true,
            "ticks": "",
            "zerolinecolor": "white"
           },
           "yaxis": {
            "backgroundcolor": "#E5ECF6",
            "gridcolor": "white",
            "gridwidth": 2,
            "linecolor": "white",
            "showbackground": true,
            "ticks": "",
            "zerolinecolor": "white"
           },
           "zaxis": {
            "backgroundcolor": "#E5ECF6",
            "gridcolor": "white",
            "gridwidth": 2,
            "linecolor": "white",
            "showbackground": true,
            "ticks": "",
            "zerolinecolor": "white"
           }
          },
          "shapedefaults": {
           "line": {
            "color": "#2a3f5f"
           }
          },
          "ternary": {
           "aaxis": {
            "gridcolor": "white",
            "linecolor": "white",
            "ticks": ""
           },
           "baxis": {
            "gridcolor": "white",
            "linecolor": "white",
            "ticks": ""
           },
           "bgcolor": "#E5ECF6",
           "caxis": {
            "gridcolor": "white",
            "linecolor": "white",
            "ticks": ""
           }
          },
          "title": {
           "x": 0.05
          },
          "xaxis": {
           "automargin": true,
           "gridcolor": "white",
           "linecolor": "white",
           "ticks": "",
           "title": {
            "standoff": 15
           },
           "zerolinecolor": "white",
           "zerolinewidth": 2
          },
          "yaxis": {
           "automargin": true,
           "gridcolor": "white",
           "linecolor": "white",
           "ticks": "",
           "title": {
            "standoff": 15
           },
           "zerolinecolor": "white",
           "zerolinewidth": 2
          }
         }
        },
        "title": {
         "text": "Genre Count by score-group - Heatmap"
        },
        "xaxis": {
         "title": {
          "text": "Genres"
         }
        },
        "yaxis": {
         "title": {
          "text": "score"
         }
        }
       }
      },
      "text/html": [
       "<div>                            <div id=\"2000a67f-b0b6-427f-a0ad-15c392bef892\" class=\"plotly-graph-div\" style=\"height:525px; width:100%;\"></div>            <script type=\"text/javascript\">                require([\"plotly\"], function(Plotly) {                    window.PLOTLYENV=window.PLOTLYENV || {};                                    if (document.getElementById(\"2000a67f-b0b6-427f-a0ad-15c392bef892\")) {                    Plotly.newPlot(                        \"2000a67f-b0b6-427f-a0ad-15c392bef892\",                        [{\"colorscale\":[[0.0,\"rgb(247,251,255)\"],[0.125,\"rgb(222,235,247)\"],[0.25,\"rgb(198,219,239)\"],[0.375,\"rgb(158,202,225)\"],[0.5,\"rgb(107,174,214)\"],[0.625,\"rgb(66,146,198)\"],[0.75,\"rgb(33,113,181)\"],[0.875,\"rgb(8,81,156)\"],[1.0,\"rgb(8,48,107)\"]],\"x\":[\"Action\",\"Adventure\",\"Avant Garde\",\"Award Winning\",\"Boys Love\",\"Comedy\",\"Drama\",\"Ecchi\",\"Fantasy\",\"Girls Love\",\"Gourmet\",\"Horror\",\"Mystery\",\"Romance\",\"Sci-Fi\",\"Slice of Life\",\"Sports\",\"Supernatural\",\"Suspense\"],\"y\":[\"6-6.99\",\"7-7.99\",\"8-8.99\",\"9-10\"],\"z\":[[353.0,190.0,4.0,3.0,53.0,583.0,340.0,186.0,370.0,48.0,8.0,84.0,96.0,581.0,138.0,190.0,23.0,268.0,8.0],[349.0,169.0,4.0,52.0,79.0,585.0,439.0,97.0,371.0,55.0,17.0,62.0,122.0,558.0,158.0,236.0,38.0,289.0,15.0],[32.0,19.0,0.0,27.0,8.0,40.0,71.0,1.0,26.0,1.0,0.0,11.0,12.0,36.0,14.0,30.0,4.0,23.0,6.0],[4.0,3.0,0.0,6.0,0.0,0.0,5.0,0.0,2.0,0.0,0.0,1.0,1.0,0.0,0.0,1.0,1.0,1.0,0.0]],\"type\":\"heatmap\"}],                        {\"title\":{\"text\":\"Genre Count by score-group - Heatmap\"},\"xaxis\":{\"title\":{\"text\":\"Genres\"}},\"yaxis\":{\"title\":{\"text\":\"score\"}},\"template\":{\"data\":{\"histogram2dcontour\":[{\"type\":\"histogram2dcontour\",\"colorbar\":{\"outlinewidth\":0,\"ticks\":\"\"},\"colorscale\":[[0.0,\"#0d0887\"],[0.1111111111111111,\"#46039f\"],[0.2222222222222222,\"#7201a8\"],[0.3333333333333333,\"#9c179e\"],[0.4444444444444444,\"#bd3786\"],[0.5555555555555556,\"#d8576b\"],[0.6666666666666666,\"#ed7953\"],[0.7777777777777778,\"#fb9f3a\"],[0.8888888888888888,\"#fdca26\"],[1.0,\"#f0f921\"]]}],\"choropleth\":[{\"type\":\"choropleth\",\"colorbar\":{\"outlinewidth\":0,\"ticks\":\"\"}}],\"histogram2d\":[{\"type\":\"histogram2d\",\"colorbar\":{\"outlinewidth\":0,\"ticks\":\"\"},\"colorscale\":[[0.0,\"#0d0887\"],[0.1111111111111111,\"#46039f\"],[0.2222222222222222,\"#7201a8\"],[0.3333333333333333,\"#9c179e\"],[0.4444444444444444,\"#bd3786\"],[0.5555555555555556,\"#d8576b\"],[0.6666666666666666,\"#ed7953\"],[0.7777777777777778,\"#fb9f3a\"],[0.8888888888888888,\"#fdca26\"],[1.0,\"#f0f921\"]]}],\"heatmap\":[{\"type\":\"heatmap\",\"colorbar\":{\"outlinewidth\":0,\"ticks\":\"\"},\"colorscale\":[[0.0,\"#0d0887\"],[0.1111111111111111,\"#46039f\"],[0.2222222222222222,\"#7201a8\"],[0.3333333333333333,\"#9c179e\"],[0.4444444444444444,\"#bd3786\"],[0.5555555555555556,\"#d8576b\"],[0.6666666666666666,\"#ed7953\"],[0.7777777777777778,\"#fb9f3a\"],[0.8888888888888888,\"#fdca26\"],[1.0,\"#f0f921\"]]}],\"heatmapgl\":[{\"type\":\"heatmapgl\",\"colorbar\":{\"outlinewidth\":0,\"ticks\":\"\"},\"colorscale\":[[0.0,\"#0d0887\"],[0.1111111111111111,\"#46039f\"],[0.2222222222222222,\"#7201a8\"],[0.3333333333333333,\"#9c179e\"],[0.4444444444444444,\"#bd3786\"],[0.5555555555555556,\"#d8576b\"],[0.6666666666666666,\"#ed7953\"],[0.7777777777777778,\"#fb9f3a\"],[0.8888888888888888,\"#fdca26\"],[1.0,\"#f0f921\"]]}],\"contourcarpet\":[{\"type\":\"contourcarpet\",\"colorbar\":{\"outlinewidth\":0,\"ticks\":\"\"}}],\"contour\":[{\"type\":\"contour\",\"colorbar\":{\"outlinewidth\":0,\"ticks\":\"\"},\"colorscale\":[[0.0,\"#0d0887\"],[0.1111111111111111,\"#46039f\"],[0.2222222222222222,\"#7201a8\"],[0.3333333333333333,\"#9c179e\"],[0.4444444444444444,\"#bd3786\"],[0.5555555555555556,\"#d8576b\"],[0.6666666666666666,\"#ed7953\"],[0.7777777777777778,\"#fb9f3a\"],[0.8888888888888888,\"#fdca26\"],[1.0,\"#f0f921\"]]}],\"surface\":[{\"type\":\"surface\",\"colorbar\":{\"outlinewidth\":0,\"ticks\":\"\"},\"colorscale\":[[0.0,\"#0d0887\"],[0.1111111111111111,\"#46039f\"],[0.2222222222222222,\"#7201a8\"],[0.3333333333333333,\"#9c179e\"],[0.4444444444444444,\"#bd3786\"],[0.5555555555555556,\"#d8576b\"],[0.6666666666666666,\"#ed7953\"],[0.7777777777777778,\"#fb9f3a\"],[0.8888888888888888,\"#fdca26\"],[1.0,\"#f0f921\"]]}],\"mesh3d\":[{\"type\":\"mesh3d\",\"colorbar\":{\"outlinewidth\":0,\"ticks\":\"\"}}],\"scatter\":[{\"fillpattern\":{\"fillmode\":\"overlay\",\"size\":10,\"solidity\":0.2},\"type\":\"scatter\"}],\"parcoords\":[{\"type\":\"parcoords\",\"line\":{\"colorbar\":{\"outlinewidth\":0,\"ticks\":\"\"}}}],\"scatterpolargl\":[{\"type\":\"scatterpolargl\",\"marker\":{\"colorbar\":{\"outlinewidth\":0,\"ticks\":\"\"}}}],\"bar\":[{\"error_x\":{\"color\":\"#2a3f5f\"},\"error_y\":{\"color\":\"#2a3f5f\"},\"marker\":{\"line\":{\"color\":\"#E5ECF6\",\"width\":0.5},\"pattern\":{\"fillmode\":\"overlay\",\"size\":10,\"solidity\":0.2}},\"type\":\"bar\"}],\"scattergeo\":[{\"type\":\"scattergeo\",\"marker\":{\"colorbar\":{\"outlinewidth\":0,\"ticks\":\"\"}}}],\"scatterpolar\":[{\"type\":\"scatterpolar\",\"marker\":{\"colorbar\":{\"outlinewidth\":0,\"ticks\":\"\"}}}],\"histogram\":[{\"marker\":{\"pattern\":{\"fillmode\":\"overlay\",\"size\":10,\"solidity\":0.2}},\"type\":\"histogram\"}],\"scattergl\":[{\"type\":\"scattergl\",\"marker\":{\"colorbar\":{\"outlinewidth\":0,\"ticks\":\"\"}}}],\"scatter3d\":[{\"type\":\"scatter3d\",\"line\":{\"colorbar\":{\"outlinewidth\":0,\"ticks\":\"\"}},\"marker\":{\"colorbar\":{\"outlinewidth\":0,\"ticks\":\"\"}}}],\"scattermapbox\":[{\"type\":\"scattermapbox\",\"marker\":{\"colorbar\":{\"outlinewidth\":0,\"ticks\":\"\"}}}],\"scatterternary\":[{\"type\":\"scatterternary\",\"marker\":{\"colorbar\":{\"outlinewidth\":0,\"ticks\":\"\"}}}],\"scattercarpet\":[{\"type\":\"scattercarpet\",\"marker\":{\"colorbar\":{\"outlinewidth\":0,\"ticks\":\"\"}}}],\"carpet\":[{\"aaxis\":{\"endlinecolor\":\"#2a3f5f\",\"gridcolor\":\"white\",\"linecolor\":\"white\",\"minorgridcolor\":\"white\",\"startlinecolor\":\"#2a3f5f\"},\"baxis\":{\"endlinecolor\":\"#2a3f5f\",\"gridcolor\":\"white\",\"linecolor\":\"white\",\"minorgridcolor\":\"white\",\"startlinecolor\":\"#2a3f5f\"},\"type\":\"carpet\"}],\"table\":[{\"cells\":{\"fill\":{\"color\":\"#EBF0F8\"},\"line\":{\"color\":\"white\"}},\"header\":{\"fill\":{\"color\":\"#C8D4E3\"},\"line\":{\"color\":\"white\"}},\"type\":\"table\"}],\"barpolar\":[{\"marker\":{\"line\":{\"color\":\"#E5ECF6\",\"width\":0.5},\"pattern\":{\"fillmode\":\"overlay\",\"size\":10,\"solidity\":0.2}},\"type\":\"barpolar\"}],\"pie\":[{\"automargin\":true,\"type\":\"pie\"}]},\"layout\":{\"autotypenumbers\":\"strict\",\"colorway\":[\"#636efa\",\"#EF553B\",\"#00cc96\",\"#ab63fa\",\"#FFA15A\",\"#19d3f3\",\"#FF6692\",\"#B6E880\",\"#FF97FF\",\"#FECB52\"],\"font\":{\"color\":\"#2a3f5f\"},\"hovermode\":\"closest\",\"hoverlabel\":{\"align\":\"left\"},\"paper_bgcolor\":\"white\",\"plot_bgcolor\":\"#E5ECF6\",\"polar\":{\"bgcolor\":\"#E5ECF6\",\"angularaxis\":{\"gridcolor\":\"white\",\"linecolor\":\"white\",\"ticks\":\"\"},\"radialaxis\":{\"gridcolor\":\"white\",\"linecolor\":\"white\",\"ticks\":\"\"}},\"ternary\":{\"bgcolor\":\"#E5ECF6\",\"aaxis\":{\"gridcolor\":\"white\",\"linecolor\":\"white\",\"ticks\":\"\"},\"baxis\":{\"gridcolor\":\"white\",\"linecolor\":\"white\",\"ticks\":\"\"},\"caxis\":{\"gridcolor\":\"white\",\"linecolor\":\"white\",\"ticks\":\"\"}},\"coloraxis\":{\"colorbar\":{\"outlinewidth\":0,\"ticks\":\"\"}},\"colorscale\":{\"sequential\":[[0.0,\"#0d0887\"],[0.1111111111111111,\"#46039f\"],[0.2222222222222222,\"#7201a8\"],[0.3333333333333333,\"#9c179e\"],[0.4444444444444444,\"#bd3786\"],[0.5555555555555556,\"#d8576b\"],[0.6666666666666666,\"#ed7953\"],[0.7777777777777778,\"#fb9f3a\"],[0.8888888888888888,\"#fdca26\"],[1.0,\"#f0f921\"]],\"sequentialminus\":[[0.0,\"#0d0887\"],[0.1111111111111111,\"#46039f\"],[0.2222222222222222,\"#7201a8\"],[0.3333333333333333,\"#9c179e\"],[0.4444444444444444,\"#bd3786\"],[0.5555555555555556,\"#d8576b\"],[0.6666666666666666,\"#ed7953\"],[0.7777777777777778,\"#fb9f3a\"],[0.8888888888888888,\"#fdca26\"],[1.0,\"#f0f921\"]],\"diverging\":[[0,\"#8e0152\"],[0.1,\"#c51b7d\"],[0.2,\"#de77ae\"],[0.3,\"#f1b6da\"],[0.4,\"#fde0ef\"],[0.5,\"#f7f7f7\"],[0.6,\"#e6f5d0\"],[0.7,\"#b8e186\"],[0.8,\"#7fbc41\"],[0.9,\"#4d9221\"],[1,\"#276419\"]]},\"xaxis\":{\"gridcolor\":\"white\",\"linecolor\":\"white\",\"ticks\":\"\",\"title\":{\"standoff\":15},\"zerolinecolor\":\"white\",\"automargin\":true,\"zerolinewidth\":2},\"yaxis\":{\"gridcolor\":\"white\",\"linecolor\":\"white\",\"ticks\":\"\",\"title\":{\"standoff\":15},\"zerolinecolor\":\"white\",\"automargin\":true,\"zerolinewidth\":2},\"scene\":{\"xaxis\":{\"backgroundcolor\":\"#E5ECF6\",\"gridcolor\":\"white\",\"linecolor\":\"white\",\"showbackground\":true,\"ticks\":\"\",\"zerolinecolor\":\"white\",\"gridwidth\":2},\"yaxis\":{\"backgroundcolor\":\"#E5ECF6\",\"gridcolor\":\"white\",\"linecolor\":\"white\",\"showbackground\":true,\"ticks\":\"\",\"zerolinecolor\":\"white\",\"gridwidth\":2},\"zaxis\":{\"backgroundcolor\":\"#E5ECF6\",\"gridcolor\":\"white\",\"linecolor\":\"white\",\"showbackground\":true,\"ticks\":\"\",\"zerolinecolor\":\"white\",\"gridwidth\":2}},\"shapedefaults\":{\"line\":{\"color\":\"#2a3f5f\"}},\"annotationdefaults\":{\"arrowcolor\":\"#2a3f5f\",\"arrowhead\":0,\"arrowwidth\":1},\"geo\":{\"bgcolor\":\"white\",\"landcolor\":\"#E5ECF6\",\"subunitcolor\":\"white\",\"showland\":true,\"showlakes\":true,\"lakecolor\":\"white\"},\"title\":{\"x\":0.05},\"mapbox\":{\"style\":\"light\"}}}},                        {\"responsive\": true}                    ).then(function(){\n",
       "                            \n",
       "var gd = document.getElementById('2000a67f-b0b6-427f-a0ad-15c392bef892');\n",
       "var x = new MutationObserver(function (mutations, observer) {{\n",
       "        var display = window.getComputedStyle(gd).display;\n",
       "        if (!display || display === 'none') {{\n",
       "            console.log([gd, 'removed!']);\n",
       "            Plotly.purge(gd);\n",
       "            observer.disconnect();\n",
       "        }}\n",
       "}});\n",
       "\n",
       "// Listen for the removal of the full notebook cells\n",
       "var notebookContainer = gd.closest('#notebook-container');\n",
       "if (notebookContainer) {{\n",
       "    x.observe(notebookContainer, {childList: true});\n",
       "}}\n",
       "\n",
       "// Listen for the clearing of the current output cell\n",
       "var outputEl = gd.closest('.output');\n",
       "if (outputEl) {{\n",
       "    x.observe(outputEl, {childList: true});\n",
       "}}\n",
       "\n",
       "                        })                };                });            </script>        </div>"
      ]
     },
     "metadata": {},
     "output_type": "display_data"
    }
   ],
   "source": [
    "# HEATMAP - INTERACTIVE - SCORE-GROUPS GENRES\n",
    "#df_gen_sco_final = df_gen_sco_final.reset_index()\n",
    "heatmap = go.Heatmap(\n",
    "    x=df_gen_sco_final.columns,\n",
    "    y=df_gen_sco_final.index,\n",
    "    z=df_gen_sco_final.values,\n",
    "    colorscale='Blues'\n",
    ")\n",
    "\n",
    "layout = go.Layout(\n",
    "    xaxis=dict(title='Genres'),\n",
    "    yaxis=dict(title='score'),\n",
    "    title='Genre Count by SCORE-GROUPS - Heatmap'\n",
    ")\n",
    "\n",
    "fig = go.Figure(data=[heatmap], layout=layout)\n",
    "\n",
    "fig.show()"
   ]
  },
  {
   "cell_type": "code",
   "execution_count": 378,
   "id": "e8844442",
   "metadata": {},
   "outputs": [
    {
     "data": {
      "application/vnd.plotly.v1+json": {
       "config": {
        "plotlyServerURL": "https://plot.ly"
       },
       "data": [
        {
         "mode": "lines+markers",
         "name": "Action",
         "type": "scatter",
         "x": [
          "6-6.99",
          "7-7.99",
          "8-8.99",
          "9-10"
         ],
         "y": [
          353,
          349,
          32,
          4
         ]
        },
        {
         "mode": "lines+markers",
         "name": "Adventure",
         "type": "scatter",
         "x": [
          "6-6.99",
          "7-7.99",
          "8-8.99",
          "9-10"
         ],
         "y": [
          190,
          169,
          19,
          3
         ]
        },
        {
         "mode": "lines+markers",
         "name": "Avant Garde",
         "type": "scatter",
         "x": [
          "6-6.99",
          "7-7.99",
          "8-8.99",
          "9-10"
         ],
         "y": [
          4,
          4,
          0,
          0
         ]
        },
        {
         "mode": "lines+markers",
         "name": "Award Winning",
         "type": "scatter",
         "x": [
          "6-6.99",
          "7-7.99",
          "8-8.99",
          "9-10"
         ],
         "y": [
          3,
          52,
          27,
          6
         ]
        },
        {
         "mode": "lines+markers",
         "name": "Boys Love",
         "type": "scatter",
         "x": [
          "6-6.99",
          "7-7.99",
          "8-8.99",
          "9-10"
         ],
         "y": [
          53,
          79,
          8,
          0
         ]
        },
        {
         "mode": "lines+markers",
         "name": "Comedy",
         "type": "scatter",
         "x": [
          "6-6.99",
          "7-7.99",
          "8-8.99",
          "9-10"
         ],
         "y": [
          583,
          585,
          40,
          0
         ]
        },
        {
         "mode": "lines+markers",
         "name": "Drama",
         "type": "scatter",
         "x": [
          "6-6.99",
          "7-7.99",
          "8-8.99",
          "9-10"
         ],
         "y": [
          340,
          439,
          71,
          5
         ]
        },
        {
         "mode": "lines+markers",
         "name": "Ecchi",
         "type": "scatter",
         "x": [
          "6-6.99",
          "7-7.99",
          "8-8.99",
          "9-10"
         ],
         "y": [
          186,
          97,
          1,
          0
         ]
        },
        {
         "mode": "lines+markers",
         "name": "Fantasy",
         "type": "scatter",
         "x": [
          "6-6.99",
          "7-7.99",
          "8-8.99",
          "9-10"
         ],
         "y": [
          370,
          371,
          26,
          2
         ]
        },
        {
         "mode": "lines+markers",
         "name": "Girls Love",
         "type": "scatter",
         "x": [
          "6-6.99",
          "7-7.99",
          "8-8.99",
          "9-10"
         ],
         "y": [
          48,
          55,
          1,
          0
         ]
        },
        {
         "mode": "lines+markers",
         "name": "Gourmet",
         "type": "scatter",
         "x": [
          "6-6.99",
          "7-7.99",
          "8-8.99",
          "9-10"
         ],
         "y": [
          8,
          17,
          0,
          0
         ]
        },
        {
         "mode": "lines+markers",
         "name": "Horror",
         "type": "scatter",
         "x": [
          "6-6.99",
          "7-7.99",
          "8-8.99",
          "9-10"
         ],
         "y": [
          84,
          62,
          11,
          1
         ]
        },
        {
         "mode": "lines+markers",
         "name": "Mystery",
         "type": "scatter",
         "x": [
          "6-6.99",
          "7-7.99",
          "8-8.99",
          "9-10"
         ],
         "y": [
          96,
          122,
          12,
          1
         ]
        },
        {
         "mode": "lines+markers",
         "name": "Romance",
         "type": "scatter",
         "x": [
          "6-6.99",
          "7-7.99",
          "8-8.99",
          "9-10"
         ],
         "y": [
          581,
          558,
          36,
          0
         ]
        },
        {
         "mode": "lines+markers",
         "name": "Sci-Fi",
         "type": "scatter",
         "x": [
          "6-6.99",
          "7-7.99",
          "8-8.99",
          "9-10"
         ],
         "y": [
          138,
          158,
          14,
          0
         ]
        },
        {
         "mode": "lines+markers",
         "name": "Slice of Life",
         "type": "scatter",
         "x": [
          "6-6.99",
          "7-7.99",
          "8-8.99",
          "9-10"
         ],
         "y": [
          190,
          236,
          30,
          1
         ]
        },
        {
         "mode": "lines+markers",
         "name": "Sports",
         "type": "scatter",
         "x": [
          "6-6.99",
          "7-7.99",
          "8-8.99",
          "9-10"
         ],
         "y": [
          23,
          38,
          4,
          1
         ]
        },
        {
         "mode": "lines+markers",
         "name": "Supernatural",
         "type": "scatter",
         "x": [
          "6-6.99",
          "7-7.99",
          "8-8.99",
          "9-10"
         ],
         "y": [
          268,
          289,
          23,
          1
         ]
        },
        {
         "mode": "lines+markers",
         "name": "Suspense",
         "type": "scatter",
         "x": [
          "6-6.99",
          "7-7.99",
          "8-8.99",
          "9-10"
         ],
         "y": [
          8,
          15,
          6,
          0
         ]
        }
       ],
       "layout": {
        "showlegend": true,
        "template": {
         "data": {
          "bar": [
           {
            "error_x": {
             "color": "#2a3f5f"
            },
            "error_y": {
             "color": "#2a3f5f"
            },
            "marker": {
             "line": {
              "color": "#E5ECF6",
              "width": 0.5
             },
             "pattern": {
              "fillmode": "overlay",
              "size": 10,
              "solidity": 0.2
             }
            },
            "type": "bar"
           }
          ],
          "barpolar": [
           {
            "marker": {
             "line": {
              "color": "#E5ECF6",
              "width": 0.5
             },
             "pattern": {
              "fillmode": "overlay",
              "size": 10,
              "solidity": 0.2
             }
            },
            "type": "barpolar"
           }
          ],
          "carpet": [
           {
            "aaxis": {
             "endlinecolor": "#2a3f5f",
             "gridcolor": "white",
             "linecolor": "white",
             "minorgridcolor": "white",
             "startlinecolor": "#2a3f5f"
            },
            "baxis": {
             "endlinecolor": "#2a3f5f",
             "gridcolor": "white",
             "linecolor": "white",
             "minorgridcolor": "white",
             "startlinecolor": "#2a3f5f"
            },
            "type": "carpet"
           }
          ],
          "choropleth": [
           {
            "colorbar": {
             "outlinewidth": 0,
             "ticks": ""
            },
            "type": "choropleth"
           }
          ],
          "contour": [
           {
            "colorbar": {
             "outlinewidth": 0,
             "ticks": ""
            },
            "colorscale": [
             [
              0,
              "#0d0887"
             ],
             [
              0.1111111111111111,
              "#46039f"
             ],
             [
              0.2222222222222222,
              "#7201a8"
             ],
             [
              0.3333333333333333,
              "#9c179e"
             ],
             [
              0.4444444444444444,
              "#bd3786"
             ],
             [
              0.5555555555555556,
              "#d8576b"
             ],
             [
              0.6666666666666666,
              "#ed7953"
             ],
             [
              0.7777777777777778,
              "#fb9f3a"
             ],
             [
              0.8888888888888888,
              "#fdca26"
             ],
             [
              1,
              "#f0f921"
             ]
            ],
            "type": "contour"
           }
          ],
          "contourcarpet": [
           {
            "colorbar": {
             "outlinewidth": 0,
             "ticks": ""
            },
            "type": "contourcarpet"
           }
          ],
          "heatmap": [
           {
            "colorbar": {
             "outlinewidth": 0,
             "ticks": ""
            },
            "colorscale": [
             [
              0,
              "#0d0887"
             ],
             [
              0.1111111111111111,
              "#46039f"
             ],
             [
              0.2222222222222222,
              "#7201a8"
             ],
             [
              0.3333333333333333,
              "#9c179e"
             ],
             [
              0.4444444444444444,
              "#bd3786"
             ],
             [
              0.5555555555555556,
              "#d8576b"
             ],
             [
              0.6666666666666666,
              "#ed7953"
             ],
             [
              0.7777777777777778,
              "#fb9f3a"
             ],
             [
              0.8888888888888888,
              "#fdca26"
             ],
             [
              1,
              "#f0f921"
             ]
            ],
            "type": "heatmap"
           }
          ],
          "heatmapgl": [
           {
            "colorbar": {
             "outlinewidth": 0,
             "ticks": ""
            },
            "colorscale": [
             [
              0,
              "#0d0887"
             ],
             [
              0.1111111111111111,
              "#46039f"
             ],
             [
              0.2222222222222222,
              "#7201a8"
             ],
             [
              0.3333333333333333,
              "#9c179e"
             ],
             [
              0.4444444444444444,
              "#bd3786"
             ],
             [
              0.5555555555555556,
              "#d8576b"
             ],
             [
              0.6666666666666666,
              "#ed7953"
             ],
             [
              0.7777777777777778,
              "#fb9f3a"
             ],
             [
              0.8888888888888888,
              "#fdca26"
             ],
             [
              1,
              "#f0f921"
             ]
            ],
            "type": "heatmapgl"
           }
          ],
          "histogram": [
           {
            "marker": {
             "pattern": {
              "fillmode": "overlay",
              "size": 10,
              "solidity": 0.2
             }
            },
            "type": "histogram"
           }
          ],
          "histogram2d": [
           {
            "colorbar": {
             "outlinewidth": 0,
             "ticks": ""
            },
            "colorscale": [
             [
              0,
              "#0d0887"
             ],
             [
              0.1111111111111111,
              "#46039f"
             ],
             [
              0.2222222222222222,
              "#7201a8"
             ],
             [
              0.3333333333333333,
              "#9c179e"
             ],
             [
              0.4444444444444444,
              "#bd3786"
             ],
             [
              0.5555555555555556,
              "#d8576b"
             ],
             [
              0.6666666666666666,
              "#ed7953"
             ],
             [
              0.7777777777777778,
              "#fb9f3a"
             ],
             [
              0.8888888888888888,
              "#fdca26"
             ],
             [
              1,
              "#f0f921"
             ]
            ],
            "type": "histogram2d"
           }
          ],
          "histogram2dcontour": [
           {
            "colorbar": {
             "outlinewidth": 0,
             "ticks": ""
            },
            "colorscale": [
             [
              0,
              "#0d0887"
             ],
             [
              0.1111111111111111,
              "#46039f"
             ],
             [
              0.2222222222222222,
              "#7201a8"
             ],
             [
              0.3333333333333333,
              "#9c179e"
             ],
             [
              0.4444444444444444,
              "#bd3786"
             ],
             [
              0.5555555555555556,
              "#d8576b"
             ],
             [
              0.6666666666666666,
              "#ed7953"
             ],
             [
              0.7777777777777778,
              "#fb9f3a"
             ],
             [
              0.8888888888888888,
              "#fdca26"
             ],
             [
              1,
              "#f0f921"
             ]
            ],
            "type": "histogram2dcontour"
           }
          ],
          "mesh3d": [
           {
            "colorbar": {
             "outlinewidth": 0,
             "ticks": ""
            },
            "type": "mesh3d"
           }
          ],
          "parcoords": [
           {
            "line": {
             "colorbar": {
              "outlinewidth": 0,
              "ticks": ""
             }
            },
            "type": "parcoords"
           }
          ],
          "pie": [
           {
            "automargin": true,
            "type": "pie"
           }
          ],
          "scatter": [
           {
            "fillpattern": {
             "fillmode": "overlay",
             "size": 10,
             "solidity": 0.2
            },
            "type": "scatter"
           }
          ],
          "scatter3d": [
           {
            "line": {
             "colorbar": {
              "outlinewidth": 0,
              "ticks": ""
             }
            },
            "marker": {
             "colorbar": {
              "outlinewidth": 0,
              "ticks": ""
             }
            },
            "type": "scatter3d"
           }
          ],
          "scattercarpet": [
           {
            "marker": {
             "colorbar": {
              "outlinewidth": 0,
              "ticks": ""
             }
            },
            "type": "scattercarpet"
           }
          ],
          "scattergeo": [
           {
            "marker": {
             "colorbar": {
              "outlinewidth": 0,
              "ticks": ""
             }
            },
            "type": "scattergeo"
           }
          ],
          "scattergl": [
           {
            "marker": {
             "colorbar": {
              "outlinewidth": 0,
              "ticks": ""
             }
            },
            "type": "scattergl"
           }
          ],
          "scattermapbox": [
           {
            "marker": {
             "colorbar": {
              "outlinewidth": 0,
              "ticks": ""
             }
            },
            "type": "scattermapbox"
           }
          ],
          "scatterpolar": [
           {
            "marker": {
             "colorbar": {
              "outlinewidth": 0,
              "ticks": ""
             }
            },
            "type": "scatterpolar"
           }
          ],
          "scatterpolargl": [
           {
            "marker": {
             "colorbar": {
              "outlinewidth": 0,
              "ticks": ""
             }
            },
            "type": "scatterpolargl"
           }
          ],
          "scatterternary": [
           {
            "marker": {
             "colorbar": {
              "outlinewidth": 0,
              "ticks": ""
             }
            },
            "type": "scatterternary"
           }
          ],
          "surface": [
           {
            "colorbar": {
             "outlinewidth": 0,
             "ticks": ""
            },
            "colorscale": [
             [
              0,
              "#0d0887"
             ],
             [
              0.1111111111111111,
              "#46039f"
             ],
             [
              0.2222222222222222,
              "#7201a8"
             ],
             [
              0.3333333333333333,
              "#9c179e"
             ],
             [
              0.4444444444444444,
              "#bd3786"
             ],
             [
              0.5555555555555556,
              "#d8576b"
             ],
             [
              0.6666666666666666,
              "#ed7953"
             ],
             [
              0.7777777777777778,
              "#fb9f3a"
             ],
             [
              0.8888888888888888,
              "#fdca26"
             ],
             [
              1,
              "#f0f921"
             ]
            ],
            "type": "surface"
           }
          ],
          "table": [
           {
            "cells": {
             "fill": {
              "color": "#EBF0F8"
             },
             "line": {
              "color": "white"
             }
            },
            "header": {
             "fill": {
              "color": "#C8D4E3"
             },
             "line": {
              "color": "white"
             }
            },
            "type": "table"
           }
          ]
         },
         "layout": {
          "annotationdefaults": {
           "arrowcolor": "#2a3f5f",
           "arrowhead": 0,
           "arrowwidth": 1
          },
          "autotypenumbers": "strict",
          "coloraxis": {
           "colorbar": {
            "outlinewidth": 0,
            "ticks": ""
           }
          },
          "colorscale": {
           "diverging": [
            [
             0,
             "#8e0152"
            ],
            [
             0.1,
             "#c51b7d"
            ],
            [
             0.2,
             "#de77ae"
            ],
            [
             0.3,
             "#f1b6da"
            ],
            [
             0.4,
             "#fde0ef"
            ],
            [
             0.5,
             "#f7f7f7"
            ],
            [
             0.6,
             "#e6f5d0"
            ],
            [
             0.7,
             "#b8e186"
            ],
            [
             0.8,
             "#7fbc41"
            ],
            [
             0.9,
             "#4d9221"
            ],
            [
             1,
             "#276419"
            ]
           ],
           "sequential": [
            [
             0,
             "#0d0887"
            ],
            [
             0.1111111111111111,
             "#46039f"
            ],
            [
             0.2222222222222222,
             "#7201a8"
            ],
            [
             0.3333333333333333,
             "#9c179e"
            ],
            [
             0.4444444444444444,
             "#bd3786"
            ],
            [
             0.5555555555555556,
             "#d8576b"
            ],
            [
             0.6666666666666666,
             "#ed7953"
            ],
            [
             0.7777777777777778,
             "#fb9f3a"
            ],
            [
             0.8888888888888888,
             "#fdca26"
            ],
            [
             1,
             "#f0f921"
            ]
           ],
           "sequentialminus": [
            [
             0,
             "#0d0887"
            ],
            [
             0.1111111111111111,
             "#46039f"
            ],
            [
             0.2222222222222222,
             "#7201a8"
            ],
            [
             0.3333333333333333,
             "#9c179e"
            ],
            [
             0.4444444444444444,
             "#bd3786"
            ],
            [
             0.5555555555555556,
             "#d8576b"
            ],
            [
             0.6666666666666666,
             "#ed7953"
            ],
            [
             0.7777777777777778,
             "#fb9f3a"
            ],
            [
             0.8888888888888888,
             "#fdca26"
            ],
            [
             1,
             "#f0f921"
            ]
           ]
          },
          "colorway": [
           "#636efa",
           "#EF553B",
           "#00cc96",
           "#ab63fa",
           "#FFA15A",
           "#19d3f3",
           "#FF6692",
           "#B6E880",
           "#FF97FF",
           "#FECB52"
          ],
          "font": {
           "color": "#2a3f5f"
          },
          "geo": {
           "bgcolor": "white",
           "lakecolor": "white",
           "landcolor": "#E5ECF6",
           "showlakes": true,
           "showland": true,
           "subunitcolor": "white"
          },
          "hoverlabel": {
           "align": "left"
          },
          "hovermode": "closest",
          "mapbox": {
           "style": "light"
          },
          "paper_bgcolor": "white",
          "plot_bgcolor": "#E5ECF6",
          "polar": {
           "angularaxis": {
            "gridcolor": "white",
            "linecolor": "white",
            "ticks": ""
           },
           "bgcolor": "#E5ECF6",
           "radialaxis": {
            "gridcolor": "white",
            "linecolor": "white",
            "ticks": ""
           }
          },
          "scene": {
           "xaxis": {
            "backgroundcolor": "#E5ECF6",
            "gridcolor": "white",
            "gridwidth": 2,
            "linecolor": "white",
            "showbackground": true,
            "ticks": "",
            "zerolinecolor": "white"
           },
           "yaxis": {
            "backgroundcolor": "#E5ECF6",
            "gridcolor": "white",
            "gridwidth": 2,
            "linecolor": "white",
            "showbackground": true,
            "ticks": "",
            "zerolinecolor": "white"
           },
           "zaxis": {
            "backgroundcolor": "#E5ECF6",
            "gridcolor": "white",
            "gridwidth": 2,
            "linecolor": "white",
            "showbackground": true,
            "ticks": "",
            "zerolinecolor": "white"
           }
          },
          "shapedefaults": {
           "line": {
            "color": "#2a3f5f"
           }
          },
          "ternary": {
           "aaxis": {
            "gridcolor": "white",
            "linecolor": "white",
            "ticks": ""
           },
           "baxis": {
            "gridcolor": "white",
            "linecolor": "white",
            "ticks": ""
           },
           "bgcolor": "#E5ECF6",
           "caxis": {
            "gridcolor": "white",
            "linecolor": "white",
            "ticks": ""
           }
          },
          "title": {
           "x": 0.05
          },
          "xaxis": {
           "automargin": true,
           "gridcolor": "white",
           "linecolor": "white",
           "ticks": "",
           "title": {
            "standoff": 15
           },
           "zerolinecolor": "white",
           "zerolinewidth": 2
          },
          "yaxis": {
           "automargin": true,
           "gridcolor": "white",
           "linecolor": "white",
           "ticks": "",
           "title": {
            "standoff": 15
           },
           "zerolinecolor": "white",
           "zerolinewidth": 2
          }
         }
        },
        "title": {
         "text": "Genre Count by score-group - Line Chart"
        },
        "xaxis": {
         "title": {
          "text": "count"
         }
        },
        "yaxis": {
         "title": {
          "text": "score-group"
         }
        }
       }
      },
      "text/html": [
       "<div>                            <div id=\"4bd26832-7be8-4634-979b-a07437a14689\" class=\"plotly-graph-div\" style=\"height:525px; width:100%;\"></div>            <script type=\"text/javascript\">                require([\"plotly\"], function(Plotly) {                    window.PLOTLYENV=window.PLOTLYENV || {};                                    if (document.getElementById(\"4bd26832-7be8-4634-979b-a07437a14689\")) {                    Plotly.newPlot(                        \"4bd26832-7be8-4634-979b-a07437a14689\",                        [{\"mode\":\"lines+markers\",\"name\":\"Action\",\"x\":[\"6-6.99\",\"7-7.99\",\"8-8.99\",\"9-10\"],\"y\":[353.0,349.0,32.0,4.0],\"type\":\"scatter\"},{\"mode\":\"lines+markers\",\"name\":\"Adventure\",\"x\":[\"6-6.99\",\"7-7.99\",\"8-8.99\",\"9-10\"],\"y\":[190.0,169.0,19.0,3.0],\"type\":\"scatter\"},{\"mode\":\"lines+markers\",\"name\":\"Avant Garde\",\"x\":[\"6-6.99\",\"7-7.99\",\"8-8.99\",\"9-10\"],\"y\":[4.0,4.0,0.0,0.0],\"type\":\"scatter\"},{\"mode\":\"lines+markers\",\"name\":\"Award Winning\",\"x\":[\"6-6.99\",\"7-7.99\",\"8-8.99\",\"9-10\"],\"y\":[3.0,52.0,27.0,6.0],\"type\":\"scatter\"},{\"mode\":\"lines+markers\",\"name\":\"Boys Love\",\"x\":[\"6-6.99\",\"7-7.99\",\"8-8.99\",\"9-10\"],\"y\":[53.0,79.0,8.0,0.0],\"type\":\"scatter\"},{\"mode\":\"lines+markers\",\"name\":\"Comedy\",\"x\":[\"6-6.99\",\"7-7.99\",\"8-8.99\",\"9-10\"],\"y\":[583.0,585.0,40.0,0.0],\"type\":\"scatter\"},{\"mode\":\"lines+markers\",\"name\":\"Drama\",\"x\":[\"6-6.99\",\"7-7.99\",\"8-8.99\",\"9-10\"],\"y\":[340.0,439.0,71.0,5.0],\"type\":\"scatter\"},{\"mode\":\"lines+markers\",\"name\":\"Ecchi\",\"x\":[\"6-6.99\",\"7-7.99\",\"8-8.99\",\"9-10\"],\"y\":[186.0,97.0,1.0,0.0],\"type\":\"scatter\"},{\"mode\":\"lines+markers\",\"name\":\"Fantasy\",\"x\":[\"6-6.99\",\"7-7.99\",\"8-8.99\",\"9-10\"],\"y\":[370.0,371.0,26.0,2.0],\"type\":\"scatter\"},{\"mode\":\"lines+markers\",\"name\":\"Girls Love\",\"x\":[\"6-6.99\",\"7-7.99\",\"8-8.99\",\"9-10\"],\"y\":[48.0,55.0,1.0,0.0],\"type\":\"scatter\"},{\"mode\":\"lines+markers\",\"name\":\"Gourmet\",\"x\":[\"6-6.99\",\"7-7.99\",\"8-8.99\",\"9-10\"],\"y\":[8.0,17.0,0.0,0.0],\"type\":\"scatter\"},{\"mode\":\"lines+markers\",\"name\":\"Horror\",\"x\":[\"6-6.99\",\"7-7.99\",\"8-8.99\",\"9-10\"],\"y\":[84.0,62.0,11.0,1.0],\"type\":\"scatter\"},{\"mode\":\"lines+markers\",\"name\":\"Mystery\",\"x\":[\"6-6.99\",\"7-7.99\",\"8-8.99\",\"9-10\"],\"y\":[96.0,122.0,12.0,1.0],\"type\":\"scatter\"},{\"mode\":\"lines+markers\",\"name\":\"Romance\",\"x\":[\"6-6.99\",\"7-7.99\",\"8-8.99\",\"9-10\"],\"y\":[581.0,558.0,36.0,0.0],\"type\":\"scatter\"},{\"mode\":\"lines+markers\",\"name\":\"Sci-Fi\",\"x\":[\"6-6.99\",\"7-7.99\",\"8-8.99\",\"9-10\"],\"y\":[138.0,158.0,14.0,0.0],\"type\":\"scatter\"},{\"mode\":\"lines+markers\",\"name\":\"Slice of Life\",\"x\":[\"6-6.99\",\"7-7.99\",\"8-8.99\",\"9-10\"],\"y\":[190.0,236.0,30.0,1.0],\"type\":\"scatter\"},{\"mode\":\"lines+markers\",\"name\":\"Sports\",\"x\":[\"6-6.99\",\"7-7.99\",\"8-8.99\",\"9-10\"],\"y\":[23.0,38.0,4.0,1.0],\"type\":\"scatter\"},{\"mode\":\"lines+markers\",\"name\":\"Supernatural\",\"x\":[\"6-6.99\",\"7-7.99\",\"8-8.99\",\"9-10\"],\"y\":[268.0,289.0,23.0,1.0],\"type\":\"scatter\"},{\"mode\":\"lines+markers\",\"name\":\"Suspense\",\"x\":[\"6-6.99\",\"7-7.99\",\"8-8.99\",\"9-10\"],\"y\":[8.0,15.0,6.0,0.0],\"type\":\"scatter\"}],                        {\"showlegend\":true,\"title\":{\"text\":\"Genre Count by score-group - Line Chart\"},\"xaxis\":{\"title\":{\"text\":\"count\"}},\"yaxis\":{\"title\":{\"text\":\"score-group\"}},\"template\":{\"data\":{\"histogram2dcontour\":[{\"type\":\"histogram2dcontour\",\"colorbar\":{\"outlinewidth\":0,\"ticks\":\"\"},\"colorscale\":[[0.0,\"#0d0887\"],[0.1111111111111111,\"#46039f\"],[0.2222222222222222,\"#7201a8\"],[0.3333333333333333,\"#9c179e\"],[0.4444444444444444,\"#bd3786\"],[0.5555555555555556,\"#d8576b\"],[0.6666666666666666,\"#ed7953\"],[0.7777777777777778,\"#fb9f3a\"],[0.8888888888888888,\"#fdca26\"],[1.0,\"#f0f921\"]]}],\"choropleth\":[{\"type\":\"choropleth\",\"colorbar\":{\"outlinewidth\":0,\"ticks\":\"\"}}],\"histogram2d\":[{\"type\":\"histogram2d\",\"colorbar\":{\"outlinewidth\":0,\"ticks\":\"\"},\"colorscale\":[[0.0,\"#0d0887\"],[0.1111111111111111,\"#46039f\"],[0.2222222222222222,\"#7201a8\"],[0.3333333333333333,\"#9c179e\"],[0.4444444444444444,\"#bd3786\"],[0.5555555555555556,\"#d8576b\"],[0.6666666666666666,\"#ed7953\"],[0.7777777777777778,\"#fb9f3a\"],[0.8888888888888888,\"#fdca26\"],[1.0,\"#f0f921\"]]}],\"heatmap\":[{\"type\":\"heatmap\",\"colorbar\":{\"outlinewidth\":0,\"ticks\":\"\"},\"colorscale\":[[0.0,\"#0d0887\"],[0.1111111111111111,\"#46039f\"],[0.2222222222222222,\"#7201a8\"],[0.3333333333333333,\"#9c179e\"],[0.4444444444444444,\"#bd3786\"],[0.5555555555555556,\"#d8576b\"],[0.6666666666666666,\"#ed7953\"],[0.7777777777777778,\"#fb9f3a\"],[0.8888888888888888,\"#fdca26\"],[1.0,\"#f0f921\"]]}],\"heatmapgl\":[{\"type\":\"heatmapgl\",\"colorbar\":{\"outlinewidth\":0,\"ticks\":\"\"},\"colorscale\":[[0.0,\"#0d0887\"],[0.1111111111111111,\"#46039f\"],[0.2222222222222222,\"#7201a8\"],[0.3333333333333333,\"#9c179e\"],[0.4444444444444444,\"#bd3786\"],[0.5555555555555556,\"#d8576b\"],[0.6666666666666666,\"#ed7953\"],[0.7777777777777778,\"#fb9f3a\"],[0.8888888888888888,\"#fdca26\"],[1.0,\"#f0f921\"]]}],\"contourcarpet\":[{\"type\":\"contourcarpet\",\"colorbar\":{\"outlinewidth\":0,\"ticks\":\"\"}}],\"contour\":[{\"type\":\"contour\",\"colorbar\":{\"outlinewidth\":0,\"ticks\":\"\"},\"colorscale\":[[0.0,\"#0d0887\"],[0.1111111111111111,\"#46039f\"],[0.2222222222222222,\"#7201a8\"],[0.3333333333333333,\"#9c179e\"],[0.4444444444444444,\"#bd3786\"],[0.5555555555555556,\"#d8576b\"],[0.6666666666666666,\"#ed7953\"],[0.7777777777777778,\"#fb9f3a\"],[0.8888888888888888,\"#fdca26\"],[1.0,\"#f0f921\"]]}],\"surface\":[{\"type\":\"surface\",\"colorbar\":{\"outlinewidth\":0,\"ticks\":\"\"},\"colorscale\":[[0.0,\"#0d0887\"],[0.1111111111111111,\"#46039f\"],[0.2222222222222222,\"#7201a8\"],[0.3333333333333333,\"#9c179e\"],[0.4444444444444444,\"#bd3786\"],[0.5555555555555556,\"#d8576b\"],[0.6666666666666666,\"#ed7953\"],[0.7777777777777778,\"#fb9f3a\"],[0.8888888888888888,\"#fdca26\"],[1.0,\"#f0f921\"]]}],\"mesh3d\":[{\"type\":\"mesh3d\",\"colorbar\":{\"outlinewidth\":0,\"ticks\":\"\"}}],\"scatter\":[{\"fillpattern\":{\"fillmode\":\"overlay\",\"size\":10,\"solidity\":0.2},\"type\":\"scatter\"}],\"parcoords\":[{\"type\":\"parcoords\",\"line\":{\"colorbar\":{\"outlinewidth\":0,\"ticks\":\"\"}}}],\"scatterpolargl\":[{\"type\":\"scatterpolargl\",\"marker\":{\"colorbar\":{\"outlinewidth\":0,\"ticks\":\"\"}}}],\"bar\":[{\"error_x\":{\"color\":\"#2a3f5f\"},\"error_y\":{\"color\":\"#2a3f5f\"},\"marker\":{\"line\":{\"color\":\"#E5ECF6\",\"width\":0.5},\"pattern\":{\"fillmode\":\"overlay\",\"size\":10,\"solidity\":0.2}},\"type\":\"bar\"}],\"scattergeo\":[{\"type\":\"scattergeo\",\"marker\":{\"colorbar\":{\"outlinewidth\":0,\"ticks\":\"\"}}}],\"scatterpolar\":[{\"type\":\"scatterpolar\",\"marker\":{\"colorbar\":{\"outlinewidth\":0,\"ticks\":\"\"}}}],\"histogram\":[{\"marker\":{\"pattern\":{\"fillmode\":\"overlay\",\"size\":10,\"solidity\":0.2}},\"type\":\"histogram\"}],\"scattergl\":[{\"type\":\"scattergl\",\"marker\":{\"colorbar\":{\"outlinewidth\":0,\"ticks\":\"\"}}}],\"scatter3d\":[{\"type\":\"scatter3d\",\"line\":{\"colorbar\":{\"outlinewidth\":0,\"ticks\":\"\"}},\"marker\":{\"colorbar\":{\"outlinewidth\":0,\"ticks\":\"\"}}}],\"scattermapbox\":[{\"type\":\"scattermapbox\",\"marker\":{\"colorbar\":{\"outlinewidth\":0,\"ticks\":\"\"}}}],\"scatterternary\":[{\"type\":\"scatterternary\",\"marker\":{\"colorbar\":{\"outlinewidth\":0,\"ticks\":\"\"}}}],\"scattercarpet\":[{\"type\":\"scattercarpet\",\"marker\":{\"colorbar\":{\"outlinewidth\":0,\"ticks\":\"\"}}}],\"carpet\":[{\"aaxis\":{\"endlinecolor\":\"#2a3f5f\",\"gridcolor\":\"white\",\"linecolor\":\"white\",\"minorgridcolor\":\"white\",\"startlinecolor\":\"#2a3f5f\"},\"baxis\":{\"endlinecolor\":\"#2a3f5f\",\"gridcolor\":\"white\",\"linecolor\":\"white\",\"minorgridcolor\":\"white\",\"startlinecolor\":\"#2a3f5f\"},\"type\":\"carpet\"}],\"table\":[{\"cells\":{\"fill\":{\"color\":\"#EBF0F8\"},\"line\":{\"color\":\"white\"}},\"header\":{\"fill\":{\"color\":\"#C8D4E3\"},\"line\":{\"color\":\"white\"}},\"type\":\"table\"}],\"barpolar\":[{\"marker\":{\"line\":{\"color\":\"#E5ECF6\",\"width\":0.5},\"pattern\":{\"fillmode\":\"overlay\",\"size\":10,\"solidity\":0.2}},\"type\":\"barpolar\"}],\"pie\":[{\"automargin\":true,\"type\":\"pie\"}]},\"layout\":{\"autotypenumbers\":\"strict\",\"colorway\":[\"#636efa\",\"#EF553B\",\"#00cc96\",\"#ab63fa\",\"#FFA15A\",\"#19d3f3\",\"#FF6692\",\"#B6E880\",\"#FF97FF\",\"#FECB52\"],\"font\":{\"color\":\"#2a3f5f\"},\"hovermode\":\"closest\",\"hoverlabel\":{\"align\":\"left\"},\"paper_bgcolor\":\"white\",\"plot_bgcolor\":\"#E5ECF6\",\"polar\":{\"bgcolor\":\"#E5ECF6\",\"angularaxis\":{\"gridcolor\":\"white\",\"linecolor\":\"white\",\"ticks\":\"\"},\"radialaxis\":{\"gridcolor\":\"white\",\"linecolor\":\"white\",\"ticks\":\"\"}},\"ternary\":{\"bgcolor\":\"#E5ECF6\",\"aaxis\":{\"gridcolor\":\"white\",\"linecolor\":\"white\",\"ticks\":\"\"},\"baxis\":{\"gridcolor\":\"white\",\"linecolor\":\"white\",\"ticks\":\"\"},\"caxis\":{\"gridcolor\":\"white\",\"linecolor\":\"white\",\"ticks\":\"\"}},\"coloraxis\":{\"colorbar\":{\"outlinewidth\":0,\"ticks\":\"\"}},\"colorscale\":{\"sequential\":[[0.0,\"#0d0887\"],[0.1111111111111111,\"#46039f\"],[0.2222222222222222,\"#7201a8\"],[0.3333333333333333,\"#9c179e\"],[0.4444444444444444,\"#bd3786\"],[0.5555555555555556,\"#d8576b\"],[0.6666666666666666,\"#ed7953\"],[0.7777777777777778,\"#fb9f3a\"],[0.8888888888888888,\"#fdca26\"],[1.0,\"#f0f921\"]],\"sequentialminus\":[[0.0,\"#0d0887\"],[0.1111111111111111,\"#46039f\"],[0.2222222222222222,\"#7201a8\"],[0.3333333333333333,\"#9c179e\"],[0.4444444444444444,\"#bd3786\"],[0.5555555555555556,\"#d8576b\"],[0.6666666666666666,\"#ed7953\"],[0.7777777777777778,\"#fb9f3a\"],[0.8888888888888888,\"#fdca26\"],[1.0,\"#f0f921\"]],\"diverging\":[[0,\"#8e0152\"],[0.1,\"#c51b7d\"],[0.2,\"#de77ae\"],[0.3,\"#f1b6da\"],[0.4,\"#fde0ef\"],[0.5,\"#f7f7f7\"],[0.6,\"#e6f5d0\"],[0.7,\"#b8e186\"],[0.8,\"#7fbc41\"],[0.9,\"#4d9221\"],[1,\"#276419\"]]},\"xaxis\":{\"gridcolor\":\"white\",\"linecolor\":\"white\",\"ticks\":\"\",\"title\":{\"standoff\":15},\"zerolinecolor\":\"white\",\"automargin\":true,\"zerolinewidth\":2},\"yaxis\":{\"gridcolor\":\"white\",\"linecolor\":\"white\",\"ticks\":\"\",\"title\":{\"standoff\":15},\"zerolinecolor\":\"white\",\"automargin\":true,\"zerolinewidth\":2},\"scene\":{\"xaxis\":{\"backgroundcolor\":\"#E5ECF6\",\"gridcolor\":\"white\",\"linecolor\":\"white\",\"showbackground\":true,\"ticks\":\"\",\"zerolinecolor\":\"white\",\"gridwidth\":2},\"yaxis\":{\"backgroundcolor\":\"#E5ECF6\",\"gridcolor\":\"white\",\"linecolor\":\"white\",\"showbackground\":true,\"ticks\":\"\",\"zerolinecolor\":\"white\",\"gridwidth\":2},\"zaxis\":{\"backgroundcolor\":\"#E5ECF6\",\"gridcolor\":\"white\",\"linecolor\":\"white\",\"showbackground\":true,\"ticks\":\"\",\"zerolinecolor\":\"white\",\"gridwidth\":2}},\"shapedefaults\":{\"line\":{\"color\":\"#2a3f5f\"}},\"annotationdefaults\":{\"arrowcolor\":\"#2a3f5f\",\"arrowhead\":0,\"arrowwidth\":1},\"geo\":{\"bgcolor\":\"white\",\"landcolor\":\"#E5ECF6\",\"subunitcolor\":\"white\",\"showland\":true,\"showlakes\":true,\"lakecolor\":\"white\"},\"title\":{\"x\":0.05},\"mapbox\":{\"style\":\"light\"}}}},                        {\"responsive\": true}                    ).then(function(){\n",
       "                            \n",
       "var gd = document.getElementById('4bd26832-7be8-4634-979b-a07437a14689');\n",
       "var x = new MutationObserver(function (mutations, observer) {{\n",
       "        var display = window.getComputedStyle(gd).display;\n",
       "        if (!display || display === 'none') {{\n",
       "            console.log([gd, 'removed!']);\n",
       "            Plotly.purge(gd);\n",
       "            observer.disconnect();\n",
       "        }}\n",
       "}});\n",
       "\n",
       "// Listen for the removal of the full notebook cells\n",
       "var notebookContainer = gd.closest('#notebook-container');\n",
       "if (notebookContainer) {{\n",
       "    x.observe(notebookContainer, {childList: true});\n",
       "}}\n",
       "\n",
       "// Listen for the clearing of the current output cell\n",
       "var outputEl = gd.closest('.output');\n",
       "if (outputEl) {{\n",
       "    x.observe(outputEl, {childList: true});\n",
       "}}\n",
       "\n",
       "                        })                };                });            </script>        </div>"
      ]
     },
     "metadata": {},
     "output_type": "display_data"
    }
   ],
   "source": [
    "#LINE GRAPH - INTERACTIVE - SCORE-GROUPS VS GENRES\n",
    "#df_plotly1 = df_gen_sco_final.reset_index()\n",
    "\n",
    "line_plots = []\n",
    "for feature in df_plotly1.columns[1:]:\n",
    "    line_plot = go.Scatter(\n",
    "        x=df_plotly1['score-group'],\n",
    "        y=df_plotly1[feature],\n",
    "        mode='lines+markers',\n",
    "        name=feature\n",
    "    )\n",
    "    line_plots.append(line_plot)\n",
    "\n",
    "\n",
    "layout = go.Layout(\n",
    "    xaxis=dict(title='count'),\n",
    "    yaxis=dict(title='score-group'),\n",
    "    title='Genre Count by score-group - Line Chart',\n",
    "    showlegend=True\n",
    ")\n",
    "\n",
    "\n",
    "fig = go.Figure(data=line_plots, layout=layout)\n",
    "\n",
    "# Show the interactive plot\n",
    "fig.show()\n"
   ]
  },
  {
   "cell_type": "code",
   "execution_count": null,
   "id": "ef8095db",
   "metadata": {},
   "outputs": [],
   "source": []
  }
 ],
 "metadata": {
  "kernelspec": {
   "display_name": "Python 3 (ipykernel)",
   "language": "python",
   "name": "python3"
  },
  "language_info": {
   "codemirror_mode": {
    "name": "ipython",
    "version": 3
   },
   "file_extension": ".py",
   "mimetype": "text/x-python",
   "name": "python",
   "nbconvert_exporter": "python",
   "pygments_lexer": "ipython3",
   "version": "3.10.9"
  }
 },
 "nbformat": 4,
 "nbformat_minor": 5
}
